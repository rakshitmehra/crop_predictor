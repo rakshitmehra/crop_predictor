{
 "cells": [
  {
   "cell_type": "code",
   "execution_count": 43,
   "id": "0bf7122c",
   "metadata": {},
   "outputs": [],
   "source": [
    "import pandas as pd\n",
    "import numpy as np"
   ]
  },
  {
   "cell_type": "code",
   "execution_count": 44,
   "id": "4822865c",
   "metadata": {
    "scrolled": true
   },
   "outputs": [
    {
     "data": {
      "text/html": [
       "<div>\n",
       "<style scoped>\n",
       "    .dataframe tbody tr th:only-of-type {\n",
       "        vertical-align: middle;\n",
       "    }\n",
       "\n",
       "    .dataframe tbody tr th {\n",
       "        vertical-align: top;\n",
       "    }\n",
       "\n",
       "    .dataframe thead th {\n",
       "        text-align: right;\n",
       "    }\n",
       "</style>\n",
       "<table border=\"1\" class=\"dataframe\">\n",
       "  <thead>\n",
       "    <tr style=\"text-align: right;\">\n",
       "      <th></th>\n",
       "      <th>N</th>\n",
       "      <th>P</th>\n",
       "      <th>K</th>\n",
       "      <th>ph</th>\n",
       "      <th>temperature</th>\n",
       "      <th>moisture</th>\n",
       "      <th>label</th>\n",
       "    </tr>\n",
       "  </thead>\n",
       "  <tbody>\n",
       "    <tr>\n",
       "      <th>0</th>\n",
       "      <td>38.2</td>\n",
       "      <td>17.3</td>\n",
       "      <td>22.6</td>\n",
       "      <td>6.8</td>\n",
       "      <td>15.4</td>\n",
       "      <td>53.2</td>\n",
       "      <td>Barley</td>\n",
       "    </tr>\n",
       "    <tr>\n",
       "      <th>1</th>\n",
       "      <td>44.5</td>\n",
       "      <td>21.8</td>\n",
       "      <td>28.3</td>\n",
       "      <td>6.5</td>\n",
       "      <td>13.8</td>\n",
       "      <td>59.5</td>\n",
       "      <td>Barley</td>\n",
       "    </tr>\n",
       "    <tr>\n",
       "      <th>2</th>\n",
       "      <td>33.7</td>\n",
       "      <td>16.5</td>\n",
       "      <td>21.2</td>\n",
       "      <td>6.2</td>\n",
       "      <td>12.5</td>\n",
       "      <td>54.8</td>\n",
       "      <td>Barley</td>\n",
       "    </tr>\n",
       "    <tr>\n",
       "      <th>3</th>\n",
       "      <td>42.6</td>\n",
       "      <td>20.1</td>\n",
       "      <td>26.7</td>\n",
       "      <td>7.0</td>\n",
       "      <td>18.2</td>\n",
       "      <td>62.7</td>\n",
       "      <td>Barley</td>\n",
       "    </tr>\n",
       "    <tr>\n",
       "      <th>4</th>\n",
       "      <td>46.3</td>\n",
       "      <td>23.9</td>\n",
       "      <td>32.4</td>\n",
       "      <td>6.6</td>\n",
       "      <td>16.9</td>\n",
       "      <td>58.0</td>\n",
       "      <td>Barley</td>\n",
       "    </tr>\n",
       "  </tbody>\n",
       "</table>\n",
       "</div>"
      ],
      "text/plain": [
       "      N     P     K   ph  temperature  moisture   label\n",
       "0  38.2  17.3  22.6  6.8         15.4      53.2  Barley\n",
       "1  44.5  21.8  28.3  6.5         13.8      59.5  Barley\n",
       "2  33.7  16.5  21.2  6.2         12.5      54.8  Barley\n",
       "3  42.6  20.1  26.7  7.0         18.2      62.7  Barley\n",
       "4  46.3  23.9  32.4  6.6         16.9      58.0  Barley"
      ]
     },
     "execution_count": 44,
     "metadata": {},
     "output_type": "execute_result"
    }
   ],
   "source": [
    "df = pd.read_csv('../Datasets/crops.csv')\n",
    "df.head()"
   ]
  },
  {
   "cell_type": "code",
   "execution_count": 45,
   "id": "046a2aab",
   "metadata": {
    "scrolled": true
   },
   "outputs": [
    {
     "data": {
      "text/html": [
       "<div>\n",
       "<style scoped>\n",
       "    .dataframe tbody tr th:only-of-type {\n",
       "        vertical-align: middle;\n",
       "    }\n",
       "\n",
       "    .dataframe tbody tr th {\n",
       "        vertical-align: top;\n",
       "    }\n",
       "\n",
       "    .dataframe thead th {\n",
       "        text-align: right;\n",
       "    }\n",
       "</style>\n",
       "<table border=\"1\" class=\"dataframe\">\n",
       "  <thead>\n",
       "    <tr style=\"text-align: right;\">\n",
       "      <th></th>\n",
       "      <th>N</th>\n",
       "      <th>P</th>\n",
       "      <th>K</th>\n",
       "      <th>ph</th>\n",
       "      <th>temperature</th>\n",
       "      <th>moisture</th>\n",
       "      <th>label</th>\n",
       "    </tr>\n",
       "  </thead>\n",
       "  <tbody>\n",
       "    <tr>\n",
       "      <th>280</th>\n",
       "      <td>71.0</td>\n",
       "      <td>30.1</td>\n",
       "      <td>43.8</td>\n",
       "      <td>5.7</td>\n",
       "      <td>12.3</td>\n",
       "      <td>63.1</td>\n",
       "      <td>Wheat</td>\n",
       "    </tr>\n",
       "    <tr>\n",
       "      <th>281</th>\n",
       "      <td>120.0</td>\n",
       "      <td>44.8</td>\n",
       "      <td>69.9</td>\n",
       "      <td>6.9</td>\n",
       "      <td>25.7</td>\n",
       "      <td>79.3</td>\n",
       "      <td>Wheat</td>\n",
       "    </tr>\n",
       "    <tr>\n",
       "      <th>282</th>\n",
       "      <td>101.0</td>\n",
       "      <td>39.0</td>\n",
       "      <td>59.6</td>\n",
       "      <td>6.6</td>\n",
       "      <td>20.3</td>\n",
       "      <td>73.8</td>\n",
       "      <td>Wheat</td>\n",
       "    </tr>\n",
       "    <tr>\n",
       "      <th>283</th>\n",
       "      <td>107.3</td>\n",
       "      <td>41.3</td>\n",
       "      <td>63.8</td>\n",
       "      <td>6.7</td>\n",
       "      <td>22.1</td>\n",
       "      <td>75.2</td>\n",
       "      <td>Wheat</td>\n",
       "    </tr>\n",
       "    <tr>\n",
       "      <th>284</th>\n",
       "      <td>93.9</td>\n",
       "      <td>36.9</td>\n",
       "      <td>55.4</td>\n",
       "      <td>6.4</td>\n",
       "      <td>18.6</td>\n",
       "      <td>70.1</td>\n",
       "      <td>Wheat</td>\n",
       "    </tr>\n",
       "  </tbody>\n",
       "</table>\n",
       "</div>"
      ],
      "text/plain": [
       "         N     P     K   ph  temperature  moisture  label\n",
       "280   71.0  30.1  43.8  5.7         12.3      63.1  Wheat\n",
       "281  120.0  44.8  69.9  6.9         25.7      79.3  Wheat\n",
       "282  101.0  39.0  59.6  6.6         20.3      73.8  Wheat\n",
       "283  107.3  41.3  63.8  6.7         22.1      75.2  Wheat\n",
       "284   93.9  36.9  55.4  6.4         18.6      70.1  Wheat"
      ]
     },
     "execution_count": 45,
     "metadata": {},
     "output_type": "execute_result"
    }
   ],
   "source": [
    "df.tail()"
   ]
  },
  {
   "cell_type": "code",
   "execution_count": 46,
   "id": "cee46e41",
   "metadata": {},
   "outputs": [
    {
     "data": {
      "text/plain": [
       "<bound method DataFrame.info of          N     P     K   ph  temperature  moisture   label\n",
       "0     38.2  17.3  22.6  6.8         15.4      53.2  Barley\n",
       "1     44.5  21.8  28.3  6.5         13.8      59.5  Barley\n",
       "2     33.7  16.5  21.2  6.2         12.5      54.8  Barley\n",
       "3     42.6  20.1  26.7  7.0         18.2      62.7  Barley\n",
       "4     46.3  23.9  32.4  6.6         16.9      58.0  Barley\n",
       "..     ...   ...   ...  ...          ...       ...     ...\n",
       "280   71.0  30.1  43.8  5.7         12.3      63.1   Wheat\n",
       "281  120.0  44.8  69.9  6.9         25.7      79.3   Wheat\n",
       "282  101.0  39.0  59.6  6.6         20.3      73.8   Wheat\n",
       "283  107.3  41.3  63.8  6.7         22.1      75.2   Wheat\n",
       "284   93.9  36.9  55.4  6.4         18.6      70.1   Wheat\n",
       "\n",
       "[285 rows x 7 columns]>"
      ]
     },
     "execution_count": 46,
     "metadata": {},
     "output_type": "execute_result"
    }
   ],
   "source": [
    "df.info"
   ]
  },
  {
   "cell_type": "code",
   "execution_count": 47,
   "id": "4ca281f4",
   "metadata": {
    "scrolled": true
   },
   "outputs": [
    {
     "data": {
      "text/plain": [
       "N              0\n",
       "P              0\n",
       "K              0\n",
       "ph             0\n",
       "temperature    0\n",
       "moisture       0\n",
       "label          0\n",
       "dtype: int64"
      ]
     },
     "execution_count": 47,
     "metadata": {},
     "output_type": "execute_result"
    }
   ],
   "source": [
    "df.isnull().sum()"
   ]
  },
  {
   "cell_type": "code",
   "execution_count": 48,
   "id": "01d7b8af",
   "metadata": {},
   "outputs": [
    {
     "data": {
      "text/plain": [
       "(285, 7)"
      ]
     },
     "execution_count": 48,
     "metadata": {},
     "output_type": "execute_result"
    }
   ],
   "source": [
    "df.shape"
   ]
  },
  {
   "cell_type": "code",
   "execution_count": 49,
   "id": "6b75eb81",
   "metadata": {},
   "outputs": [
    {
     "data": {
      "text/plain": [
       "Barley         15\n",
       "Potatoes       15\n",
       "Tomatoes       15\n",
       "Sunflower      15\n",
       "Sugarcane      15\n",
       "Spinach        15\n",
       "Sorghum        15\n",
       "Rice           15\n",
       "Pulses         15\n",
       "Peppers        15\n",
       "Beans          15\n",
       "Peas           15\n",
       "Oranges        15\n",
       "Mustard        15\n",
       "Lettuce        15\n",
       "Lentils        15\n",
       "Cauliflower    15\n",
       "Corn           15\n",
       "Wheat          15\n",
       "Name: label, dtype: int64"
      ]
     },
     "execution_count": 49,
     "metadata": {},
     "output_type": "execute_result"
    }
   ],
   "source": [
    "df.label.value_counts()"
   ]
  },
  {
   "cell_type": "code",
   "execution_count": 50,
   "id": "9b5dad75",
   "metadata": {},
   "outputs": [],
   "source": [
    "import matplotlib.pyplot as plt\n",
    "import seaborn as sns\n",
    "\n",
    "import plotly.graph_objects as go\n",
    "import plotly.express as px\n",
    "from plotly.subplots import make_subplots"
   ]
  },
  {
   "cell_type": "code",
   "execution_count": 51,
   "id": "ecf2d263",
   "metadata": {
    "scrolled": true
   },
   "outputs": [
    {
     "data": {
      "application/vnd.plotly.v1+json": {
       "config": {
        "plotlyServerURL": "https://plot.ly"
       },
       "data": [
        {
         "marker": {
          "color": "Blue"
         },
         "name": "Nitrogen",
         "type": "bar",
         "x": [
          "Barley",
          "Barley",
          "Barley",
          "Barley",
          "Barley",
          "Barley",
          "Barley",
          "Barley",
          "Barley",
          "Barley",
          "Barley",
          "Barley",
          "Barley",
          "Barley",
          "Barley",
          "Beans",
          "Beans",
          "Beans",
          "Beans",
          "Beans",
          "Beans",
          "Beans",
          "Beans",
          "Beans",
          "Beans",
          "Beans",
          "Beans",
          "Beans",
          "Beans",
          "Beans",
          "Corn",
          "Corn",
          "Corn",
          "Corn",
          "Corn",
          "Corn",
          "Corn",
          "Corn",
          "Corn",
          "Corn",
          "Corn",
          "Corn",
          "Corn",
          "Corn",
          "Corn",
          "Cauliflower",
          "Cauliflower",
          "Cauliflower",
          "Cauliflower",
          "Cauliflower",
          "Cauliflower",
          "Cauliflower",
          "Cauliflower",
          "Cauliflower",
          "Cauliflower",
          "Cauliflower",
          "Cauliflower",
          "Cauliflower",
          "Cauliflower",
          "Cauliflower",
          "Lentils",
          "Lentils",
          "Lentils",
          "Lentils",
          "Lentils",
          "Lentils",
          "Lentils",
          "Lentils",
          "Lentils",
          "Lentils",
          "Lentils",
          "Lentils",
          "Lentils",
          "Lentils",
          "Lentils",
          "Lettuce",
          "Lettuce",
          "Lettuce",
          "Lettuce",
          "Lettuce",
          "Lettuce",
          "Lettuce",
          "Lettuce",
          "Lettuce",
          "Lettuce",
          "Lettuce",
          "Lettuce",
          "Lettuce",
          "Lettuce",
          "Lettuce",
          "Mustard",
          "Mustard",
          "Mustard",
          "Mustard",
          "Mustard",
          "Mustard",
          "Mustard",
          "Mustard",
          "Mustard",
          "Mustard",
          "Mustard",
          "Mustard",
          "Mustard",
          "Mustard",
          "Mustard",
          "Oranges",
          "Oranges",
          "Oranges",
          "Oranges",
          "Oranges",
          "Oranges",
          "Oranges",
          "Oranges",
          "Oranges",
          "Oranges",
          "Oranges",
          "Oranges",
          "Oranges",
          "Oranges",
          "Oranges",
          "Peas",
          "Peas",
          "Peas",
          "Peas",
          "Peas",
          "Peas",
          "Peas",
          "Peas",
          "Peas",
          "Peas",
          "Peas",
          "Peas",
          "Peas",
          "Peas",
          "Peas",
          "Peppers",
          "Peppers",
          "Peppers",
          "Peppers",
          "Peppers",
          "Peppers",
          "Peppers",
          "Peppers",
          "Peppers",
          "Peppers",
          "Peppers",
          "Peppers",
          "Peppers",
          "Peppers",
          "Peppers",
          "Potatoes",
          "Potatoes",
          "Potatoes",
          "Potatoes",
          "Potatoes",
          "Potatoes",
          "Potatoes",
          "Potatoes",
          "Potatoes",
          "Potatoes",
          "Potatoes",
          "Potatoes",
          "Potatoes",
          "Potatoes",
          "Potatoes",
          "Pulses",
          "Pulses",
          "Pulses",
          "Pulses",
          "Pulses",
          "Pulses",
          "Pulses",
          "Pulses",
          "Pulses",
          "Pulses",
          "Pulses",
          "Pulses",
          "Pulses",
          "Pulses",
          "Pulses",
          "Rice",
          "Rice",
          "Rice",
          "Rice",
          "Rice",
          "Rice",
          "Rice",
          "Rice",
          "Rice",
          "Rice",
          "Rice",
          "Rice",
          "Rice",
          "Rice",
          "Rice",
          "Sorghum",
          "Sorghum",
          "Sorghum",
          "Sorghum",
          "Sorghum",
          "Sorghum",
          "Sorghum",
          "Sorghum",
          "Sorghum",
          "Sorghum",
          "Sorghum",
          "Sorghum",
          "Sorghum",
          "Sorghum",
          "Sorghum",
          "Spinach",
          "Spinach",
          "Spinach",
          "Spinach",
          "Spinach",
          "Spinach",
          "Spinach",
          "Spinach",
          "Spinach",
          "Spinach",
          "Spinach",
          "Spinach",
          "Spinach",
          "Spinach",
          "Spinach",
          "Sugarcane",
          "Sugarcane",
          "Sugarcane",
          "Sugarcane",
          "Sugarcane",
          "Sugarcane",
          "Sugarcane",
          "Sugarcane",
          "Sugarcane",
          "Sugarcane",
          "Sugarcane",
          "Sugarcane",
          "Sugarcane",
          "Sugarcane",
          "Sugarcane",
          "Sunflower",
          "Sunflower",
          "Sunflower",
          "Sunflower",
          "Sunflower",
          "Sunflower",
          "Sunflower",
          "Sunflower",
          "Sunflower",
          "Sunflower",
          "Sunflower",
          "Sunflower",
          "Sunflower",
          "Sunflower",
          "Sunflower",
          "Tomatoes",
          "Tomatoes",
          "Tomatoes",
          "Tomatoes",
          "Tomatoes",
          "Tomatoes",
          "Tomatoes",
          "Tomatoes",
          "Tomatoes",
          "Tomatoes",
          "Tomatoes",
          "Tomatoes",
          "Tomatoes",
          "Tomatoes",
          "Tomatoes",
          "Wheat",
          "Wheat",
          "Wheat",
          "Wheat",
          "Wheat",
          "Wheat",
          "Wheat",
          "Wheat",
          "Wheat",
          "Wheat",
          "Wheat",
          "Wheat",
          "Wheat",
          "Wheat",
          "Wheat"
         ],
         "y": [
          38.2,
          44.5,
          33.7,
          42.6,
          46.3,
          39.8,
          49.2,
          45.4,
          41.7,
          47.1,
          34.5,
          50,
          37.3,
          43.6,
          40.9,
          28.5,
          32.1,
          24.7,
          36.2,
          41.8,
          29.4,
          44.7,
          38,
          33.6,
          46.5,
          25.8,
          49.3,
          31.2,
          35.9,
          42.4,
          33.2,
          45.6,
          26.7,
          53.8,
          59.2,
          36.4,
          54.7,
          49.3,
          42.1,
          57.4,
          30.9,
          60,
          39.8,
          48.7,
          46.2,
          187.3,
          208.6,
          167.9,
          226.5,
          241.7,
          182.4,
          234.8,
          219.5,
          197.3,
          250,
          173.8,
          250,
          189.6,
          212.4,
          205.2,
          26.3,
          31.2,
          24.5,
          36.5,
          38.8,
          28.7,
          39.6,
          34.3,
          29.5,
          40.2,
          25.8,
          37.5,
          32.1,
          35.7,
          33,
          118.5,
          134.2,
          109.8,
          144.3,
          149.2,
          126.7,
          147.6,
          140.1,
          130.4,
          148.8,
          115.3,
          150,
          121.6,
          138.7,
          132,
          29.8,
          35.6,
          26.7,
          42.5,
          46.2,
          31.4,
          47.8,
          40.3,
          34.7,
          49.1,
          27.3,
          50,
          37.2,
          43.7,
          39.1,
          34.5,
          67.2,
          19.8,
          89.3,
          114.7,
          48.1,
          120.5,
          104,
          81.6,
          129.8,
          29.3,
          150,
          39.7,
          97.5,
          91.2,
          26.7,
          32.4,
          24.1,
          36,
          39.2,
          29.3,
          40.5,
          34.8,
          31.1,
          41.8,
          23.8,
          40,
          27.5,
          36.7,
          33.5,
          66.7,
          76.2,
          57.9,
          86.5,
          93.4,
          71.1,
          96.8,
          81,
          74.2,
          99.3,
          63.4,
          100,
          68.8,
          89.7,
          84.4,
          96.7,
          108.4,
          87.9,
          122.6,
          130.4,
          101.2,
          135.8,
          117.1,
          104.3,
          140,
          94.7,
          150,
          99.4,
          126.3,
          120.7,
          24.7,
          30.5,
          22.2,
          37,
          41.8,
          28.5,
          43.3,
          35.6,
          31.9,
          46.2,
          26.1,
          50,
          33.3,
          40.7,
          37,
          93.5,
          131.2,
          74.9,
          101.8,
          121.2,
          82.5,
          139.4,
          114.7,
          105.6,
          145.9,
          89.3,
          150,
          98.1,
          127.5,
          118.7,
          51.3,
          57.9,
          46.2,
          64.6,
          70.2,
          54.7,
          75.7,
          62.5,
          60.1,
          78.9,
          49,
          80,
          53.4,
          72.3,
          67.9,
          69.2,
          78.5,
          59.8,
          85.7,
          92.1,
          73.4,
          97.9,
          81.3,
          76.8,
          102.6,
          65.5,
          100,
          71.1,
          89.2,
          84.7,
          126.7,
          170.3,
          107.1,
          148.6,
          159.8,
          120.4,
          179,
          139.4,
          132.8,
          188.3,
          114,
          200,
          123.5,
          163.1,
          154.9,
          70.2,
          77.6,
          60.8,
          82.3,
          89.7,
          74.1,
          96.5,
          80.7,
          78.4,
          101,
          65.3,
          100,
          73,
          94.4,
          87,
          87.2,
          100.5,
          94.3,
          120.8,
          112.7,
          105.6,
          136.4,
          128.3,
          120.2,
          144.7,
          92.1,
          150,
          128.7,
          136.8,
          104.9,
          68.2,
          89.6,
          77.8,
          98.7,
          85.6,
          74.3,
          108.4,
          95.3,
          82.2,
          114.1,
          71,
          120,
          101,
          107.3,
          93.9
         ]
        },
        {
         "marker": {
          "color": "darkgreen"
         },
         "name": "Phosphorous",
         "type": "bar",
         "x": [
          "Barley",
          "Barley",
          "Barley",
          "Barley",
          "Barley",
          "Barley",
          "Barley",
          "Barley",
          "Barley",
          "Barley",
          "Barley",
          "Barley",
          "Barley",
          "Barley",
          "Barley",
          "Beans",
          "Beans",
          "Beans",
          "Beans",
          "Beans",
          "Beans",
          "Beans",
          "Beans",
          "Beans",
          "Beans",
          "Beans",
          "Beans",
          "Beans",
          "Beans",
          "Beans",
          "Corn",
          "Corn",
          "Corn",
          "Corn",
          "Corn",
          "Corn",
          "Corn",
          "Corn",
          "Corn",
          "Corn",
          "Corn",
          "Corn",
          "Corn",
          "Corn",
          "Corn",
          "Cauliflower",
          "Cauliflower",
          "Cauliflower",
          "Cauliflower",
          "Cauliflower",
          "Cauliflower",
          "Cauliflower",
          "Cauliflower",
          "Cauliflower",
          "Cauliflower",
          "Cauliflower",
          "Cauliflower",
          "Cauliflower",
          "Cauliflower",
          "Cauliflower",
          "Lentils",
          "Lentils",
          "Lentils",
          "Lentils",
          "Lentils",
          "Lentils",
          "Lentils",
          "Lentils",
          "Lentils",
          "Lentils",
          "Lentils",
          "Lentils",
          "Lentils",
          "Lentils",
          "Lentils",
          "Lettuce",
          "Lettuce",
          "Lettuce",
          "Lettuce",
          "Lettuce",
          "Lettuce",
          "Lettuce",
          "Lettuce",
          "Lettuce",
          "Lettuce",
          "Lettuce",
          "Lettuce",
          "Lettuce",
          "Lettuce",
          "Lettuce",
          "Mustard",
          "Mustard",
          "Mustard",
          "Mustard",
          "Mustard",
          "Mustard",
          "Mustard",
          "Mustard",
          "Mustard",
          "Mustard",
          "Mustard",
          "Mustard",
          "Mustard",
          "Mustard",
          "Mustard",
          "Oranges",
          "Oranges",
          "Oranges",
          "Oranges",
          "Oranges",
          "Oranges",
          "Oranges",
          "Oranges",
          "Oranges",
          "Oranges",
          "Oranges",
          "Oranges",
          "Oranges",
          "Oranges",
          "Oranges",
          "Peas",
          "Peas",
          "Peas",
          "Peas",
          "Peas",
          "Peas",
          "Peas",
          "Peas",
          "Peas",
          "Peas",
          "Peas",
          "Peas",
          "Peas",
          "Peas",
          "Peas",
          "Peppers",
          "Peppers",
          "Peppers",
          "Peppers",
          "Peppers",
          "Peppers",
          "Peppers",
          "Peppers",
          "Peppers",
          "Peppers",
          "Peppers",
          "Peppers",
          "Peppers",
          "Peppers",
          "Peppers",
          "Potatoes",
          "Potatoes",
          "Potatoes",
          "Potatoes",
          "Potatoes",
          "Potatoes",
          "Potatoes",
          "Potatoes",
          "Potatoes",
          "Potatoes",
          "Potatoes",
          "Potatoes",
          "Potatoes",
          "Potatoes",
          "Potatoes",
          "Pulses",
          "Pulses",
          "Pulses",
          "Pulses",
          "Pulses",
          "Pulses",
          "Pulses",
          "Pulses",
          "Pulses",
          "Pulses",
          "Pulses",
          "Pulses",
          "Pulses",
          "Pulses",
          "Pulses",
          "Rice",
          "Rice",
          "Rice",
          "Rice",
          "Rice",
          "Rice",
          "Rice",
          "Rice",
          "Rice",
          "Rice",
          "Rice",
          "Rice",
          "Rice",
          "Rice",
          "Rice",
          "Sorghum",
          "Sorghum",
          "Sorghum",
          "Sorghum",
          "Sorghum",
          "Sorghum",
          "Sorghum",
          "Sorghum",
          "Sorghum",
          "Sorghum",
          "Sorghum",
          "Sorghum",
          "Sorghum",
          "Sorghum",
          "Sorghum",
          "Spinach",
          "Spinach",
          "Spinach",
          "Spinach",
          "Spinach",
          "Spinach",
          "Spinach",
          "Spinach",
          "Spinach",
          "Spinach",
          "Spinach",
          "Spinach",
          "Spinach",
          "Spinach",
          "Spinach",
          "Sugarcane",
          "Sugarcane",
          "Sugarcane",
          "Sugarcane",
          "Sugarcane",
          "Sugarcane",
          "Sugarcane",
          "Sugarcane",
          "Sugarcane",
          "Sugarcane",
          "Sugarcane",
          "Sugarcane",
          "Sugarcane",
          "Sugarcane",
          "Sugarcane",
          "Sunflower",
          "Sunflower",
          "Sunflower",
          "Sunflower",
          "Sunflower",
          "Sunflower",
          "Sunflower",
          "Sunflower",
          "Sunflower",
          "Sunflower",
          "Sunflower",
          "Sunflower",
          "Sunflower",
          "Sunflower",
          "Sunflower",
          "Tomatoes",
          "Tomatoes",
          "Tomatoes",
          "Tomatoes",
          "Tomatoes",
          "Tomatoes",
          "Tomatoes",
          "Tomatoes",
          "Tomatoes",
          "Tomatoes",
          "Tomatoes",
          "Tomatoes",
          "Tomatoes",
          "Tomatoes",
          "Tomatoes",
          "Wheat",
          "Wheat",
          "Wheat",
          "Wheat",
          "Wheat",
          "Wheat",
          "Wheat",
          "Wheat",
          "Wheat",
          "Wheat",
          "Wheat",
          "Wheat",
          "Wheat",
          "Wheat",
          "Wheat"
         ],
         "y": [
          17.3,
          21.8,
          16.5,
          20.1,
          23.9,
          18.7,
          24.4,
          22.2,
          19.4,
          23,
          16.8,
          25,
          17.9,
          21.4,
          20.6,
          14.5,
          15.2,
          11.8,
          18.1,
          22.3,
          15.8,
          23.5,
          19.7,
          17,
          24.8,
          13.2,
          25,
          16.5,
          18.6,
          21.2,
          25.6,
          28.4,
          21.8,
          29.2,
          31.6,
          24.5,
          29.8,
          27.3,
          25,
          30.4,
          23.2,
          30,
          26,
          28.7,
          27.4,
          54.2,
          62.1,
          51.8,
          69.5,
          74.3,
          56.7,
          71.2,
          66.5,
          59,
          80,
          53.1,
          80,
          57.9,
          63.6,
          61.7,
          13.8,
          16.5,
          11.5,
          18.2,
          19.4,
          14.7,
          19.9,
          17.1,
          15.2,
          20.3,
          12.3,
          18.8,
          16.7,
          17.9,
          16,
          44.8,
          51.6,
          41,
          55.5,
          58.7,
          47.4,
          57.1,
          53.5,
          49.2,
          56.3,
          43.7,
          60,
          46.1,
          52.8,
          50.4,
          16.7,
          20.4,
          17.8,
          23.5,
          25.7,
          19.2,
          26.4,
          22.1,
          18.5,
          28.2,
          15.8,
          29.2,
          21.6,
          24.9,
          22.8,
          26.3,
          34.6,
          22,
          37.9,
          39.2,
          29.7,
          40.5,
          38.4,
          32.1,
          41.8,
          24.8,
          40,
          28.6,
          35.9,
          34.7,
          14.5,
          18,
          12.7,
          20.1,
          21.6,
          16,
          22.2,
          18.7,
          16.8,
          23.3,
          13,
          22,
          15.3,
          20.7,
          18.5,
          29,
          32.6,
          26.2,
          36.8,
          39,
          30.5,
          41.3,
          34.2,
          31.8,
          42.7,
          28.5,
          40,
          29.9,
          38.5,
          37.2,
          43.8,
          48.2,
          42,
          54.6,
          57,
          46,
          58.5,
          51.8,
          48.5,
          61.2,
          44.4,
          60,
          45.6,
          55.5,
          53,
          11.6,
          15.2,
          9.9,
          18.5,
          21.9,
          14.6,
          24.1,
          17.8,
          15.9,
          26.6,
          13.1,
          30,
          16.7,
          21.1,
          19.4,
          35.6,
          39,
          26.2,
          37.9,
          40,
          28.1,
          38.6,
          36.4,
          35.7,
          39.9,
          31.3,
          40,
          33.4,
          38.2,
          37.2,
          16.8,
          19.2,
          15,
          22.4,
          24.8,
          18,
          26.4,
          21.6,
          20.4,
          28.8,
          17.6,
          30,
          18.8,
          25.6,
          23.2,
          28,
          31.6,
          25.2,
          35.8,
          38.2,
          29.4,
          40.7,
          34.2,
          31.9,
          42.8,
          26.9,
          40,
          30.7,
          37.4,
          35.1,
          53,
          65.6,
          45.4,
          59,
          64.4,
          50.8,
          71.2,
          57.6,
          54.4,
          76,
          47.6,
          80,
          51.2,
          66.8,
          62.2,
          28.4,
          31.2,
          25,
          34.1,
          36.9,
          30.3,
          39.4,
          33.2,
          31.8,
          41,
          26.6,
          40,
          30,
          38.7,
          36.3,
          43.1,
          48.2,
          46.3,
          54.6,
          52.1,
          49.6,
          57.9,
          55.4,
          52.9,
          61.2,
          44.2,
          60,
          55.9,
          58.4,
          49.1,
          32.1,
          36.2,
          34.1,
          38.2,
          35.6,
          32.6,
          40.2,
          37.6,
          34.9,
          42.5,
          30.1,
          44.8,
          39,
          41.3,
          36.9
         ]
        },
        {
         "marker": {
          "color": "crimson"
         },
         "name": "Potassium",
         "type": "bar",
         "x": [
          "Barley",
          "Barley",
          "Barley",
          "Barley",
          "Barley",
          "Barley",
          "Barley",
          "Barley",
          "Barley",
          "Barley",
          "Barley",
          "Barley",
          "Barley",
          "Barley",
          "Barley",
          "Beans",
          "Beans",
          "Beans",
          "Beans",
          "Beans",
          "Beans",
          "Beans",
          "Beans",
          "Beans",
          "Beans",
          "Beans",
          "Beans",
          "Beans",
          "Beans",
          "Beans",
          "Corn",
          "Corn",
          "Corn",
          "Corn",
          "Corn",
          "Corn",
          "Corn",
          "Corn",
          "Corn",
          "Corn",
          "Corn",
          "Corn",
          "Corn",
          "Corn",
          "Corn",
          "Cauliflower",
          "Cauliflower",
          "Cauliflower",
          "Cauliflower",
          "Cauliflower",
          "Cauliflower",
          "Cauliflower",
          "Cauliflower",
          "Cauliflower",
          "Cauliflower",
          "Cauliflower",
          "Cauliflower",
          "Cauliflower",
          "Cauliflower",
          "Cauliflower",
          "Lentils",
          "Lentils",
          "Lentils",
          "Lentils",
          "Lentils",
          "Lentils",
          "Lentils",
          "Lentils",
          "Lentils",
          "Lentils",
          "Lentils",
          "Lentils",
          "Lentils",
          "Lentils",
          "Lentils",
          "Lettuce",
          "Lettuce",
          "Lettuce",
          "Lettuce",
          "Lettuce",
          "Lettuce",
          "Lettuce",
          "Lettuce",
          "Lettuce",
          "Lettuce",
          "Lettuce",
          "Lettuce",
          "Lettuce",
          "Lettuce",
          "Lettuce",
          "Mustard",
          "Mustard",
          "Mustard",
          "Mustard",
          "Mustard",
          "Mustard",
          "Mustard",
          "Mustard",
          "Mustard",
          "Mustard",
          "Mustard",
          "Mustard",
          "Mustard",
          "Mustard",
          "Mustard",
          "Oranges",
          "Oranges",
          "Oranges",
          "Oranges",
          "Oranges",
          "Oranges",
          "Oranges",
          "Oranges",
          "Oranges",
          "Oranges",
          "Oranges",
          "Oranges",
          "Oranges",
          "Oranges",
          "Oranges",
          "Peas",
          "Peas",
          "Peas",
          "Peas",
          "Peas",
          "Peas",
          "Peas",
          "Peas",
          "Peas",
          "Peas",
          "Peas",
          "Peas",
          "Peas",
          "Peas",
          "Peas",
          "Peppers",
          "Peppers",
          "Peppers",
          "Peppers",
          "Peppers",
          "Peppers",
          "Peppers",
          "Peppers",
          "Peppers",
          "Peppers",
          "Peppers",
          "Peppers",
          "Peppers",
          "Peppers",
          "Peppers",
          "Potatoes",
          "Potatoes",
          "Potatoes",
          "Potatoes",
          "Potatoes",
          "Potatoes",
          "Potatoes",
          "Potatoes",
          "Potatoes",
          "Potatoes",
          "Potatoes",
          "Potatoes",
          "Potatoes",
          "Potatoes",
          "Potatoes",
          "Pulses",
          "Pulses",
          "Pulses",
          "Pulses",
          "Pulses",
          "Pulses",
          "Pulses",
          "Pulses",
          "Pulses",
          "Pulses",
          "Pulses",
          "Pulses",
          "Pulses",
          "Pulses",
          "Pulses",
          "Rice",
          "Rice",
          "Rice",
          "Rice",
          "Rice",
          "Rice",
          "Rice",
          "Rice",
          "Rice",
          "Rice",
          "Rice",
          "Rice",
          "Rice",
          "Rice",
          "Rice",
          "Sorghum",
          "Sorghum",
          "Sorghum",
          "Sorghum",
          "Sorghum",
          "Sorghum",
          "Sorghum",
          "Sorghum",
          "Sorghum",
          "Sorghum",
          "Sorghum",
          "Sorghum",
          "Sorghum",
          "Sorghum",
          "Sorghum",
          "Spinach",
          "Spinach",
          "Spinach",
          "Spinach",
          "Spinach",
          "Spinach",
          "Spinach",
          "Spinach",
          "Spinach",
          "Spinach",
          "Spinach",
          "Spinach",
          "Spinach",
          "Spinach",
          "Spinach",
          "Sugarcane",
          "Sugarcane",
          "Sugarcane",
          "Sugarcane",
          "Sugarcane",
          "Sugarcane",
          "Sugarcane",
          "Sugarcane",
          "Sugarcane",
          "Sugarcane",
          "Sugarcane",
          "Sugarcane",
          "Sugarcane",
          "Sugarcane",
          "Sugarcane",
          "Sunflower",
          "Sunflower",
          "Sunflower",
          "Sunflower",
          "Sunflower",
          "Sunflower",
          "Sunflower",
          "Sunflower",
          "Sunflower",
          "Sunflower",
          "Sunflower",
          "Sunflower",
          "Sunflower",
          "Sunflower",
          "Sunflower",
          "Tomatoes",
          "Tomatoes",
          "Tomatoes",
          "Tomatoes",
          "Tomatoes",
          "Tomatoes",
          "Tomatoes",
          "Tomatoes",
          "Tomatoes",
          "Tomatoes",
          "Tomatoes",
          "Tomatoes",
          "Tomatoes",
          "Tomatoes",
          "Tomatoes",
          "Wheat",
          "Wheat",
          "Wheat",
          "Wheat",
          "Wheat",
          "Wheat",
          "Wheat",
          "Wheat",
          "Wheat",
          "Wheat",
          "Wheat",
          "Wheat",
          "Wheat",
          "Wheat",
          "Wheat"
         ],
         "y": [
          22.6,
          28.3,
          21.2,
          26.7,
          32.4,
          24.1,
          34.1,
          29.8,
          25.3,
          31,
          22.9,
          35,
          23.6,
          27.3,
          24.9,
          19.8,
          23,
          16.7,
          27.6,
          31.5,
          20.5,
          33.2,
          28.4,
          24.3,
          34.8,
          16.2,
          35.7,
          22.6,
          26.1,
          29.7,
          27.8,
          35.2,
          29.5,
          37.1,
          40.4,
          32.7,
          38.5,
          34.8,
          31,
          39.2,
          28.5,
          40,
          33.9,
          36.3,
          35.7,
          116.5,
          129.7,
          104.3,
          140.6,
          148.4,
          112.1,
          144.7,
          134.3,
          122.6,
          150,
          108.9,
          150,
          118.8,
          132,
          127.3,
          19.5,
          23,
          16.8,
          27.6,
          28.9,
          21.2,
          29.6,
          25.8,
          22.5,
          30.2,
          18,
          28.3,
          24.6,
          26.9,
          23.5,
          95,
          104.7,
          88.5,
          113.8,
          118.7,
          99.3,
          117.2,
          109.8,
          103.4,
          115.9,
          92.1,
          120,
          97.9,
          108,
          106.3,
          22.9,
          27.8,
          21.3,
          31.2,
          34.6,
          25,
          35.8,
          29.4,
          24.6,
          36.7,
          21,
          37.5,
          28.9,
          33.3,
          30.1,
          80.5,
          114.2,
          56.7,
          129.8,
          143.1,
          92.3,
          148,
          119.7,
          105,
          141.7,
          69.4,
          150,
          88.2,
          126.5,
          117.8,
          18.3,
          23.5,
          16.9,
          27.6,
          29.8,
          21.2,
          30.5,
          25.6,
          22.8,
          31.9,
          18,
          30,
          20.5,
          28.4,
          26,
          55.2,
          62.7,
          49.2,
          71.8,
          76.3,
          58.7,
          78.5,
          66,
          61.5,
          80.8,
          52.7,
          80,
          57.3,
          73.2,
          68.7,
          69.5,
          78.2,
          64,
          87.8,
          94.1,
          72.8,
          97.4,
          84.1,
          76.5,
          100,
          67.3,
          100,
          70.6,
          91.5,
          88.9,
          17.8,
          22.9,
          15.4,
          28.3,
          33.4,
          20.5,
          31,
          25.6,
          23.2,
          36.1,
          19.5,
          39,
          24.2,
          32,
          29.7,
          67.8,
          78.2,
          49.3,
          71.3,
          77.4,
          55,
          73.9,
          69.1,
          66.1,
          76.5,
          58.7,
          80,
          63.5,
          72.8,
          70.4,
          21.6,
          25.5,
          20.3,
          29.4,
          33.3,
          24.2,
          36.1,
          28.9,
          27.8,
          39.7,
          23.1,
          40,
          25,
          34.2,
          31.1,
          43.5,
          50.6,
          36.7,
          54.4,
          58.3,
          46.1,
          61.7,
          52.2,
          49.2,
          64.8,
          40.6,
          60,
          47.2,
          56.1,
          52.8,
          95.5,
          129.2,
          80.1,
          113.8,
          124.9,
          90.6,
          139.7,
          105.4,
          99.3,
          134.8,
          86.9,
          150,
          94.4,
          128.5,
          117.4,
          43.9,
          49.5,
          37.9,
          53.2,
          58.8,
          46.6,
          62,
          51.1,
          49.3,
          64.7,
          41.6,
          60,
          47.1,
          61.4,
          57.6,
          65.2,
          72.4,
          69.8,
          80.3,
          77.6,
          75,
          85.5,
          82.9,
          80.3,
          90.8,
          67.7,
          88.9,
          83.6,
          86.2,
          74.1,
          45.3,
          54.7,
          48.6,
          58,
          51.8,
          46.3,
          62.5,
          56.3,
          50.1,
          66.3,
          43.8,
          69.9,
          59.6,
          63.8,
          55.4
         ]
        }
       ],
       "layout": {
        "barmode": "group",
        "template": {
         "data": {
          "bar": [
           {
            "error_x": {
             "color": "#2a3f5f"
            },
            "error_y": {
             "color": "#2a3f5f"
            },
            "marker": {
             "line": {
              "color": "#E5ECF6",
              "width": 0.5
             },
             "pattern": {
              "fillmode": "overlay",
              "size": 10,
              "solidity": 0.2
             }
            },
            "type": "bar"
           }
          ],
          "barpolar": [
           {
            "marker": {
             "line": {
              "color": "#E5ECF6",
              "width": 0.5
             },
             "pattern": {
              "fillmode": "overlay",
              "size": 10,
              "solidity": 0.2
             }
            },
            "type": "barpolar"
           }
          ],
          "carpet": [
           {
            "aaxis": {
             "endlinecolor": "#2a3f5f",
             "gridcolor": "white",
             "linecolor": "white",
             "minorgridcolor": "white",
             "startlinecolor": "#2a3f5f"
            },
            "baxis": {
             "endlinecolor": "#2a3f5f",
             "gridcolor": "white",
             "linecolor": "white",
             "minorgridcolor": "white",
             "startlinecolor": "#2a3f5f"
            },
            "type": "carpet"
           }
          ],
          "choropleth": [
           {
            "colorbar": {
             "outlinewidth": 0,
             "ticks": ""
            },
            "type": "choropleth"
           }
          ],
          "contour": [
           {
            "colorbar": {
             "outlinewidth": 0,
             "ticks": ""
            },
            "colorscale": [
             [
              0,
              "#0d0887"
             ],
             [
              0.1111111111111111,
              "#46039f"
             ],
             [
              0.2222222222222222,
              "#7201a8"
             ],
             [
              0.3333333333333333,
              "#9c179e"
             ],
             [
              0.4444444444444444,
              "#bd3786"
             ],
             [
              0.5555555555555556,
              "#d8576b"
             ],
             [
              0.6666666666666666,
              "#ed7953"
             ],
             [
              0.7777777777777778,
              "#fb9f3a"
             ],
             [
              0.8888888888888888,
              "#fdca26"
             ],
             [
              1,
              "#f0f921"
             ]
            ],
            "type": "contour"
           }
          ],
          "contourcarpet": [
           {
            "colorbar": {
             "outlinewidth": 0,
             "ticks": ""
            },
            "type": "contourcarpet"
           }
          ],
          "heatmap": [
           {
            "colorbar": {
             "outlinewidth": 0,
             "ticks": ""
            },
            "colorscale": [
             [
              0,
              "#0d0887"
             ],
             [
              0.1111111111111111,
              "#46039f"
             ],
             [
              0.2222222222222222,
              "#7201a8"
             ],
             [
              0.3333333333333333,
              "#9c179e"
             ],
             [
              0.4444444444444444,
              "#bd3786"
             ],
             [
              0.5555555555555556,
              "#d8576b"
             ],
             [
              0.6666666666666666,
              "#ed7953"
             ],
             [
              0.7777777777777778,
              "#fb9f3a"
             ],
             [
              0.8888888888888888,
              "#fdca26"
             ],
             [
              1,
              "#f0f921"
             ]
            ],
            "type": "heatmap"
           }
          ],
          "heatmapgl": [
           {
            "colorbar": {
             "outlinewidth": 0,
             "ticks": ""
            },
            "colorscale": [
             [
              0,
              "#0d0887"
             ],
             [
              0.1111111111111111,
              "#46039f"
             ],
             [
              0.2222222222222222,
              "#7201a8"
             ],
             [
              0.3333333333333333,
              "#9c179e"
             ],
             [
              0.4444444444444444,
              "#bd3786"
             ],
             [
              0.5555555555555556,
              "#d8576b"
             ],
             [
              0.6666666666666666,
              "#ed7953"
             ],
             [
              0.7777777777777778,
              "#fb9f3a"
             ],
             [
              0.8888888888888888,
              "#fdca26"
             ],
             [
              1,
              "#f0f921"
             ]
            ],
            "type": "heatmapgl"
           }
          ],
          "histogram": [
           {
            "marker": {
             "pattern": {
              "fillmode": "overlay",
              "size": 10,
              "solidity": 0.2
             }
            },
            "type": "histogram"
           }
          ],
          "histogram2d": [
           {
            "colorbar": {
             "outlinewidth": 0,
             "ticks": ""
            },
            "colorscale": [
             [
              0,
              "#0d0887"
             ],
             [
              0.1111111111111111,
              "#46039f"
             ],
             [
              0.2222222222222222,
              "#7201a8"
             ],
             [
              0.3333333333333333,
              "#9c179e"
             ],
             [
              0.4444444444444444,
              "#bd3786"
             ],
             [
              0.5555555555555556,
              "#d8576b"
             ],
             [
              0.6666666666666666,
              "#ed7953"
             ],
             [
              0.7777777777777778,
              "#fb9f3a"
             ],
             [
              0.8888888888888888,
              "#fdca26"
             ],
             [
              1,
              "#f0f921"
             ]
            ],
            "type": "histogram2d"
           }
          ],
          "histogram2dcontour": [
           {
            "colorbar": {
             "outlinewidth": 0,
             "ticks": ""
            },
            "colorscale": [
             [
              0,
              "#0d0887"
             ],
             [
              0.1111111111111111,
              "#46039f"
             ],
             [
              0.2222222222222222,
              "#7201a8"
             ],
             [
              0.3333333333333333,
              "#9c179e"
             ],
             [
              0.4444444444444444,
              "#bd3786"
             ],
             [
              0.5555555555555556,
              "#d8576b"
             ],
             [
              0.6666666666666666,
              "#ed7953"
             ],
             [
              0.7777777777777778,
              "#fb9f3a"
             ],
             [
              0.8888888888888888,
              "#fdca26"
             ],
             [
              1,
              "#f0f921"
             ]
            ],
            "type": "histogram2dcontour"
           }
          ],
          "mesh3d": [
           {
            "colorbar": {
             "outlinewidth": 0,
             "ticks": ""
            },
            "type": "mesh3d"
           }
          ],
          "parcoords": [
           {
            "line": {
             "colorbar": {
              "outlinewidth": 0,
              "ticks": ""
             }
            },
            "type": "parcoords"
           }
          ],
          "pie": [
           {
            "automargin": true,
            "type": "pie"
           }
          ],
          "scatter": [
           {
            "fillpattern": {
             "fillmode": "overlay",
             "size": 10,
             "solidity": 0.2
            },
            "type": "scatter"
           }
          ],
          "scatter3d": [
           {
            "line": {
             "colorbar": {
              "outlinewidth": 0,
              "ticks": ""
             }
            },
            "marker": {
             "colorbar": {
              "outlinewidth": 0,
              "ticks": ""
             }
            },
            "type": "scatter3d"
           }
          ],
          "scattercarpet": [
           {
            "marker": {
             "colorbar": {
              "outlinewidth": 0,
              "ticks": ""
             }
            },
            "type": "scattercarpet"
           }
          ],
          "scattergeo": [
           {
            "marker": {
             "colorbar": {
              "outlinewidth": 0,
              "ticks": ""
             }
            },
            "type": "scattergeo"
           }
          ],
          "scattergl": [
           {
            "marker": {
             "colorbar": {
              "outlinewidth": 0,
              "ticks": ""
             }
            },
            "type": "scattergl"
           }
          ],
          "scattermapbox": [
           {
            "marker": {
             "colorbar": {
              "outlinewidth": 0,
              "ticks": ""
             }
            },
            "type": "scattermapbox"
           }
          ],
          "scatterpolar": [
           {
            "marker": {
             "colorbar": {
              "outlinewidth": 0,
              "ticks": ""
             }
            },
            "type": "scatterpolar"
           }
          ],
          "scatterpolargl": [
           {
            "marker": {
             "colorbar": {
              "outlinewidth": 0,
              "ticks": ""
             }
            },
            "type": "scatterpolargl"
           }
          ],
          "scatterternary": [
           {
            "marker": {
             "colorbar": {
              "outlinewidth": 0,
              "ticks": ""
             }
            },
            "type": "scatterternary"
           }
          ],
          "surface": [
           {
            "colorbar": {
             "outlinewidth": 0,
             "ticks": ""
            },
            "colorscale": [
             [
              0,
              "#0d0887"
             ],
             [
              0.1111111111111111,
              "#46039f"
             ],
             [
              0.2222222222222222,
              "#7201a8"
             ],
             [
              0.3333333333333333,
              "#9c179e"
             ],
             [
              0.4444444444444444,
              "#bd3786"
             ],
             [
              0.5555555555555556,
              "#d8576b"
             ],
             [
              0.6666666666666666,
              "#ed7953"
             ],
             [
              0.7777777777777778,
              "#fb9f3a"
             ],
             [
              0.8888888888888888,
              "#fdca26"
             ],
             [
              1,
              "#f0f921"
             ]
            ],
            "type": "surface"
           }
          ],
          "table": [
           {
            "cells": {
             "fill": {
              "color": "#EBF0F8"
             },
             "line": {
              "color": "white"
             }
            },
            "header": {
             "fill": {
              "color": "#C8D4E3"
             },
             "line": {
              "color": "white"
             }
            },
            "type": "table"
           }
          ]
         },
         "layout": {
          "annotationdefaults": {
           "arrowcolor": "#2a3f5f",
           "arrowhead": 0,
           "arrowwidth": 1
          },
          "autotypenumbers": "strict",
          "coloraxis": {
           "colorbar": {
            "outlinewidth": 0,
            "ticks": ""
           }
          },
          "colorscale": {
           "diverging": [
            [
             0,
             "#8e0152"
            ],
            [
             0.1,
             "#c51b7d"
            ],
            [
             0.2,
             "#de77ae"
            ],
            [
             0.3,
             "#f1b6da"
            ],
            [
             0.4,
             "#fde0ef"
            ],
            [
             0.5,
             "#f7f7f7"
            ],
            [
             0.6,
             "#e6f5d0"
            ],
            [
             0.7,
             "#b8e186"
            ],
            [
             0.8,
             "#7fbc41"
            ],
            [
             0.9,
             "#4d9221"
            ],
            [
             1,
             "#276419"
            ]
           ],
           "sequential": [
            [
             0,
             "#0d0887"
            ],
            [
             0.1111111111111111,
             "#46039f"
            ],
            [
             0.2222222222222222,
             "#7201a8"
            ],
            [
             0.3333333333333333,
             "#9c179e"
            ],
            [
             0.4444444444444444,
             "#bd3786"
            ],
            [
             0.5555555555555556,
             "#d8576b"
            ],
            [
             0.6666666666666666,
             "#ed7953"
            ],
            [
             0.7777777777777778,
             "#fb9f3a"
            ],
            [
             0.8888888888888888,
             "#fdca26"
            ],
            [
             1,
             "#f0f921"
            ]
           ],
           "sequentialminus": [
            [
             0,
             "#0d0887"
            ],
            [
             0.1111111111111111,
             "#46039f"
            ],
            [
             0.2222222222222222,
             "#7201a8"
            ],
            [
             0.3333333333333333,
             "#9c179e"
            ],
            [
             0.4444444444444444,
             "#bd3786"
            ],
            [
             0.5555555555555556,
             "#d8576b"
            ],
            [
             0.6666666666666666,
             "#ed7953"
            ],
            [
             0.7777777777777778,
             "#fb9f3a"
            ],
            [
             0.8888888888888888,
             "#fdca26"
            ],
            [
             1,
             "#f0f921"
            ]
           ]
          },
          "colorway": [
           "#636efa",
           "#EF553B",
           "#00cc96",
           "#ab63fa",
           "#FFA15A",
           "#19d3f3",
           "#FF6692",
           "#B6E880",
           "#FF97FF",
           "#FECB52"
          ],
          "font": {
           "color": "#2a3f5f"
          },
          "geo": {
           "bgcolor": "white",
           "lakecolor": "white",
           "landcolor": "#E5ECF6",
           "showlakes": true,
           "showland": true,
           "subunitcolor": "white"
          },
          "hoverlabel": {
           "align": "left"
          },
          "hovermode": "closest",
          "mapbox": {
           "style": "light"
          },
          "paper_bgcolor": "white",
          "plot_bgcolor": "#E5ECF6",
          "polar": {
           "angularaxis": {
            "gridcolor": "white",
            "linecolor": "white",
            "ticks": ""
           },
           "bgcolor": "#E5ECF6",
           "radialaxis": {
            "gridcolor": "white",
            "linecolor": "white",
            "ticks": ""
           }
          },
          "scene": {
           "xaxis": {
            "backgroundcolor": "#E5ECF6",
            "gridcolor": "white",
            "gridwidth": 2,
            "linecolor": "white",
            "showbackground": true,
            "ticks": "",
            "zerolinecolor": "white"
           },
           "yaxis": {
            "backgroundcolor": "#E5ECF6",
            "gridcolor": "white",
            "gridwidth": 2,
            "linecolor": "white",
            "showbackground": true,
            "ticks": "",
            "zerolinecolor": "white"
           },
           "zaxis": {
            "backgroundcolor": "#E5ECF6",
            "gridcolor": "white",
            "gridwidth": 2,
            "linecolor": "white",
            "showbackground": true,
            "ticks": "",
            "zerolinecolor": "white"
           }
          },
          "shapedefaults": {
           "line": {
            "color": "#2a3f5f"
           }
          },
          "ternary": {
           "aaxis": {
            "gridcolor": "white",
            "linecolor": "white",
            "ticks": ""
           },
           "baxis": {
            "gridcolor": "white",
            "linecolor": "white",
            "ticks": ""
           },
           "bgcolor": "#E5ECF6",
           "caxis": {
            "gridcolor": "white",
            "linecolor": "white",
            "ticks": ""
           }
          },
          "title": {
           "x": 0.05
          },
          "xaxis": {
           "automargin": true,
           "gridcolor": "white",
           "linecolor": "white",
           "ticks": "",
           "title": {
            "standoff": 15
           },
           "zerolinecolor": "white",
           "zerolinewidth": 2
          },
          "yaxis": {
           "automargin": true,
           "gridcolor": "white",
           "linecolor": "white",
           "ticks": "",
           "title": {
            "standoff": 15
           },
           "zerolinecolor": "white",
           "zerolinewidth": 2
          }
         }
        },
        "title": {
         "text": "N, P, K values comparison between crops"
        },
        "xaxis": {
         "tickangle": -45
        }
       }
      },
      "text/html": [
       "<div>                            <div id=\"fe651665-e09d-4698-81a8-ec87c9977485\" class=\"plotly-graph-div\" style=\"height:525px; width:100%;\"></div>            <script type=\"text/javascript\">                require([\"plotly\"], function(Plotly) {                    window.PLOTLYENV=window.PLOTLYENV || {};                                    if (document.getElementById(\"fe651665-e09d-4698-81a8-ec87c9977485\")) {                    Plotly.newPlot(                        \"fe651665-e09d-4698-81a8-ec87c9977485\",                        [{\"marker\":{\"color\":\"Blue\"},\"name\":\"Nitrogen\",\"x\":[\"Barley\",\"Barley\",\"Barley\",\"Barley\",\"Barley\",\"Barley\",\"Barley\",\"Barley\",\"Barley\",\"Barley\",\"Barley\",\"Barley\",\"Barley\",\"Barley\",\"Barley\",\"Beans\",\"Beans\",\"Beans\",\"Beans\",\"Beans\",\"Beans\",\"Beans\",\"Beans\",\"Beans\",\"Beans\",\"Beans\",\"Beans\",\"Beans\",\"Beans\",\"Beans\",\"Corn\",\"Corn\",\"Corn\",\"Corn\",\"Corn\",\"Corn\",\"Corn\",\"Corn\",\"Corn\",\"Corn\",\"Corn\",\"Corn\",\"Corn\",\"Corn\",\"Corn\",\"Cauliflower\",\"Cauliflower\",\"Cauliflower\",\"Cauliflower\",\"Cauliflower\",\"Cauliflower\",\"Cauliflower\",\"Cauliflower\",\"Cauliflower\",\"Cauliflower\",\"Cauliflower\",\"Cauliflower\",\"Cauliflower\",\"Cauliflower\",\"Cauliflower\",\"Lentils\",\"Lentils\",\"Lentils\",\"Lentils\",\"Lentils\",\"Lentils\",\"Lentils\",\"Lentils\",\"Lentils\",\"Lentils\",\"Lentils\",\"Lentils\",\"Lentils\",\"Lentils\",\"Lentils\",\"Lettuce\",\"Lettuce\",\"Lettuce\",\"Lettuce\",\"Lettuce\",\"Lettuce\",\"Lettuce\",\"Lettuce\",\"Lettuce\",\"Lettuce\",\"Lettuce\",\"Lettuce\",\"Lettuce\",\"Lettuce\",\"Lettuce\",\"Mustard\",\"Mustard\",\"Mustard\",\"Mustard\",\"Mustard\",\"Mustard\",\"Mustard\",\"Mustard\",\"Mustard\",\"Mustard\",\"Mustard\",\"Mustard\",\"Mustard\",\"Mustard\",\"Mustard\",\"Oranges\",\"Oranges\",\"Oranges\",\"Oranges\",\"Oranges\",\"Oranges\",\"Oranges\",\"Oranges\",\"Oranges\",\"Oranges\",\"Oranges\",\"Oranges\",\"Oranges\",\"Oranges\",\"Oranges\",\"Peas\",\"Peas\",\"Peas\",\"Peas\",\"Peas\",\"Peas\",\"Peas\",\"Peas\",\"Peas\",\"Peas\",\"Peas\",\"Peas\",\"Peas\",\"Peas\",\"Peas\",\"Peppers\",\"Peppers\",\"Peppers\",\"Peppers\",\"Peppers\",\"Peppers\",\"Peppers\",\"Peppers\",\"Peppers\",\"Peppers\",\"Peppers\",\"Peppers\",\"Peppers\",\"Peppers\",\"Peppers\",\"Potatoes\",\"Potatoes\",\"Potatoes\",\"Potatoes\",\"Potatoes\",\"Potatoes\",\"Potatoes\",\"Potatoes\",\"Potatoes\",\"Potatoes\",\"Potatoes\",\"Potatoes\",\"Potatoes\",\"Potatoes\",\"Potatoes\",\"Pulses\",\"Pulses\",\"Pulses\",\"Pulses\",\"Pulses\",\"Pulses\",\"Pulses\",\"Pulses\",\"Pulses\",\"Pulses\",\"Pulses\",\"Pulses\",\"Pulses\",\"Pulses\",\"Pulses\",\"Rice\",\"Rice\",\"Rice\",\"Rice\",\"Rice\",\"Rice\",\"Rice\",\"Rice\",\"Rice\",\"Rice\",\"Rice\",\"Rice\",\"Rice\",\"Rice\",\"Rice\",\"Sorghum\",\"Sorghum\",\"Sorghum\",\"Sorghum\",\"Sorghum\",\"Sorghum\",\"Sorghum\",\"Sorghum\",\"Sorghum\",\"Sorghum\",\"Sorghum\",\"Sorghum\",\"Sorghum\",\"Sorghum\",\"Sorghum\",\"Spinach\",\"Spinach\",\"Spinach\",\"Spinach\",\"Spinach\",\"Spinach\",\"Spinach\",\"Spinach\",\"Spinach\",\"Spinach\",\"Spinach\",\"Spinach\",\"Spinach\",\"Spinach\",\"Spinach\",\"Sugarcane\",\"Sugarcane\",\"Sugarcane\",\"Sugarcane\",\"Sugarcane\",\"Sugarcane\",\"Sugarcane\",\"Sugarcane\",\"Sugarcane\",\"Sugarcane\",\"Sugarcane\",\"Sugarcane\",\"Sugarcane\",\"Sugarcane\",\"Sugarcane\",\"Sunflower\",\"Sunflower\",\"Sunflower\",\"Sunflower\",\"Sunflower\",\"Sunflower\",\"Sunflower\",\"Sunflower\",\"Sunflower\",\"Sunflower\",\"Sunflower\",\"Sunflower\",\"Sunflower\",\"Sunflower\",\"Sunflower\",\"Tomatoes\",\"Tomatoes\",\"Tomatoes\",\"Tomatoes\",\"Tomatoes\",\"Tomatoes\",\"Tomatoes\",\"Tomatoes\",\"Tomatoes\",\"Tomatoes\",\"Tomatoes\",\"Tomatoes\",\"Tomatoes\",\"Tomatoes\",\"Tomatoes\",\"Wheat\",\"Wheat\",\"Wheat\",\"Wheat\",\"Wheat\",\"Wheat\",\"Wheat\",\"Wheat\",\"Wheat\",\"Wheat\",\"Wheat\",\"Wheat\",\"Wheat\",\"Wheat\",\"Wheat\"],\"y\":[38.2,44.5,33.7,42.6,46.3,39.8,49.2,45.4,41.7,47.1,34.5,50.0,37.3,43.6,40.9,28.5,32.1,24.7,36.2,41.8,29.4,44.7,38.0,33.6,46.5,25.8,49.3,31.2,35.9,42.4,33.2,45.6,26.7,53.8,59.2,36.4,54.7,49.3,42.1,57.4,30.9,60.0,39.8,48.7,46.2,187.3,208.6,167.9,226.5,241.7,182.4,234.8,219.5,197.3,250.0,173.8,250.0,189.6,212.4,205.2,26.3,31.2,24.5,36.5,38.8,28.7,39.6,34.3,29.5,40.2,25.8,37.5,32.1,35.7,33.0,118.5,134.2,109.8,144.3,149.2,126.7,147.6,140.1,130.4,148.8,115.3,150.0,121.6,138.7,132.0,29.8,35.6,26.7,42.5,46.2,31.4,47.8,40.3,34.7,49.1,27.3,50.0,37.2,43.7,39.1,34.5,67.2,19.8,89.3,114.7,48.1,120.5,104.0,81.6,129.8,29.3,150.0,39.7,97.5,91.2,26.7,32.4,24.1,36.0,39.2,29.3,40.5,34.8,31.1,41.8,23.8,40.0,27.5,36.7,33.5,66.7,76.2,57.9,86.5,93.4,71.1,96.8,81.0,74.2,99.3,63.4,100.0,68.8,89.7,84.4,96.7,108.4,87.9,122.6,130.4,101.2,135.8,117.1,104.3,140.0,94.7,150.0,99.4,126.3,120.7,24.7,30.5,22.2,37.0,41.8,28.5,43.3,35.6,31.9,46.2,26.1,50.0,33.3,40.7,37.0,93.5,131.2,74.9,101.8,121.2,82.5,139.4,114.7,105.6,145.9,89.3,150.0,98.1,127.5,118.7,51.3,57.9,46.2,64.6,70.2,54.7,75.7,62.5,60.1,78.9,49.0,80.0,53.4,72.3,67.9,69.2,78.5,59.8,85.7,92.1,73.4,97.9,81.3,76.8,102.6,65.5,100.0,71.1,89.2,84.7,126.7,170.3,107.1,148.6,159.8,120.4,179.0,139.4,132.8,188.3,114.0,200.0,123.5,163.1,154.9,70.2,77.6,60.8,82.3,89.7,74.1,96.5,80.7,78.4,101.0,65.3,100.0,73.0,94.4,87.0,87.2,100.5,94.3,120.8,112.7,105.6,136.4,128.3,120.2,144.7,92.1,150.0,128.7,136.8,104.9,68.2,89.6,77.8,98.7,85.6,74.3,108.4,95.3,82.2,114.1,71.0,120.0,101.0,107.3,93.9],\"type\":\"bar\"},{\"marker\":{\"color\":\"darkgreen\"},\"name\":\"Phosphorous\",\"x\":[\"Barley\",\"Barley\",\"Barley\",\"Barley\",\"Barley\",\"Barley\",\"Barley\",\"Barley\",\"Barley\",\"Barley\",\"Barley\",\"Barley\",\"Barley\",\"Barley\",\"Barley\",\"Beans\",\"Beans\",\"Beans\",\"Beans\",\"Beans\",\"Beans\",\"Beans\",\"Beans\",\"Beans\",\"Beans\",\"Beans\",\"Beans\",\"Beans\",\"Beans\",\"Beans\",\"Corn\",\"Corn\",\"Corn\",\"Corn\",\"Corn\",\"Corn\",\"Corn\",\"Corn\",\"Corn\",\"Corn\",\"Corn\",\"Corn\",\"Corn\",\"Corn\",\"Corn\",\"Cauliflower\",\"Cauliflower\",\"Cauliflower\",\"Cauliflower\",\"Cauliflower\",\"Cauliflower\",\"Cauliflower\",\"Cauliflower\",\"Cauliflower\",\"Cauliflower\",\"Cauliflower\",\"Cauliflower\",\"Cauliflower\",\"Cauliflower\",\"Cauliflower\",\"Lentils\",\"Lentils\",\"Lentils\",\"Lentils\",\"Lentils\",\"Lentils\",\"Lentils\",\"Lentils\",\"Lentils\",\"Lentils\",\"Lentils\",\"Lentils\",\"Lentils\",\"Lentils\",\"Lentils\",\"Lettuce\",\"Lettuce\",\"Lettuce\",\"Lettuce\",\"Lettuce\",\"Lettuce\",\"Lettuce\",\"Lettuce\",\"Lettuce\",\"Lettuce\",\"Lettuce\",\"Lettuce\",\"Lettuce\",\"Lettuce\",\"Lettuce\",\"Mustard\",\"Mustard\",\"Mustard\",\"Mustard\",\"Mustard\",\"Mustard\",\"Mustard\",\"Mustard\",\"Mustard\",\"Mustard\",\"Mustard\",\"Mustard\",\"Mustard\",\"Mustard\",\"Mustard\",\"Oranges\",\"Oranges\",\"Oranges\",\"Oranges\",\"Oranges\",\"Oranges\",\"Oranges\",\"Oranges\",\"Oranges\",\"Oranges\",\"Oranges\",\"Oranges\",\"Oranges\",\"Oranges\",\"Oranges\",\"Peas\",\"Peas\",\"Peas\",\"Peas\",\"Peas\",\"Peas\",\"Peas\",\"Peas\",\"Peas\",\"Peas\",\"Peas\",\"Peas\",\"Peas\",\"Peas\",\"Peas\",\"Peppers\",\"Peppers\",\"Peppers\",\"Peppers\",\"Peppers\",\"Peppers\",\"Peppers\",\"Peppers\",\"Peppers\",\"Peppers\",\"Peppers\",\"Peppers\",\"Peppers\",\"Peppers\",\"Peppers\",\"Potatoes\",\"Potatoes\",\"Potatoes\",\"Potatoes\",\"Potatoes\",\"Potatoes\",\"Potatoes\",\"Potatoes\",\"Potatoes\",\"Potatoes\",\"Potatoes\",\"Potatoes\",\"Potatoes\",\"Potatoes\",\"Potatoes\",\"Pulses\",\"Pulses\",\"Pulses\",\"Pulses\",\"Pulses\",\"Pulses\",\"Pulses\",\"Pulses\",\"Pulses\",\"Pulses\",\"Pulses\",\"Pulses\",\"Pulses\",\"Pulses\",\"Pulses\",\"Rice\",\"Rice\",\"Rice\",\"Rice\",\"Rice\",\"Rice\",\"Rice\",\"Rice\",\"Rice\",\"Rice\",\"Rice\",\"Rice\",\"Rice\",\"Rice\",\"Rice\",\"Sorghum\",\"Sorghum\",\"Sorghum\",\"Sorghum\",\"Sorghum\",\"Sorghum\",\"Sorghum\",\"Sorghum\",\"Sorghum\",\"Sorghum\",\"Sorghum\",\"Sorghum\",\"Sorghum\",\"Sorghum\",\"Sorghum\",\"Spinach\",\"Spinach\",\"Spinach\",\"Spinach\",\"Spinach\",\"Spinach\",\"Spinach\",\"Spinach\",\"Spinach\",\"Spinach\",\"Spinach\",\"Spinach\",\"Spinach\",\"Spinach\",\"Spinach\",\"Sugarcane\",\"Sugarcane\",\"Sugarcane\",\"Sugarcane\",\"Sugarcane\",\"Sugarcane\",\"Sugarcane\",\"Sugarcane\",\"Sugarcane\",\"Sugarcane\",\"Sugarcane\",\"Sugarcane\",\"Sugarcane\",\"Sugarcane\",\"Sugarcane\",\"Sunflower\",\"Sunflower\",\"Sunflower\",\"Sunflower\",\"Sunflower\",\"Sunflower\",\"Sunflower\",\"Sunflower\",\"Sunflower\",\"Sunflower\",\"Sunflower\",\"Sunflower\",\"Sunflower\",\"Sunflower\",\"Sunflower\",\"Tomatoes\",\"Tomatoes\",\"Tomatoes\",\"Tomatoes\",\"Tomatoes\",\"Tomatoes\",\"Tomatoes\",\"Tomatoes\",\"Tomatoes\",\"Tomatoes\",\"Tomatoes\",\"Tomatoes\",\"Tomatoes\",\"Tomatoes\",\"Tomatoes\",\"Wheat\",\"Wheat\",\"Wheat\",\"Wheat\",\"Wheat\",\"Wheat\",\"Wheat\",\"Wheat\",\"Wheat\",\"Wheat\",\"Wheat\",\"Wheat\",\"Wheat\",\"Wheat\",\"Wheat\"],\"y\":[17.3,21.8,16.5,20.1,23.9,18.7,24.4,22.2,19.4,23.0,16.8,25.0,17.9,21.4,20.6,14.5,15.2,11.8,18.1,22.3,15.8,23.5,19.7,17.0,24.8,13.2,25.0,16.5,18.6,21.2,25.6,28.4,21.8,29.2,31.6,24.5,29.8,27.3,25.0,30.4,23.2,30.0,26.0,28.7,27.4,54.2,62.1,51.8,69.5,74.3,56.7,71.2,66.5,59.0,80.0,53.1,80.0,57.9,63.6,61.7,13.8,16.5,11.5,18.2,19.4,14.7,19.9,17.1,15.2,20.3,12.3,18.8,16.7,17.9,16.0,44.8,51.6,41.0,55.5,58.7,47.4,57.1,53.5,49.2,56.3,43.7,60.0,46.1,52.8,50.4,16.7,20.4,17.8,23.5,25.7,19.2,26.4,22.1,18.5,28.2,15.8,29.2,21.6,24.9,22.8,26.3,34.6,22.0,37.9,39.2,29.7,40.5,38.4,32.1,41.8,24.8,40.0,28.6,35.9,34.7,14.5,18.0,12.7,20.1,21.6,16.0,22.2,18.7,16.8,23.3,13.0,22.0,15.3,20.7,18.5,29.0,32.6,26.2,36.8,39.0,30.5,41.3,34.2,31.8,42.7,28.5,40.0,29.9,38.5,37.2,43.8,48.2,42.0,54.6,57.0,46.0,58.5,51.8,48.5,61.2,44.4,60.0,45.6,55.5,53.0,11.6,15.2,9.9,18.5,21.9,14.6,24.1,17.8,15.9,26.6,13.1,30.0,16.7,21.1,19.4,35.6,39.0,26.2,37.9,40.0,28.1,38.6,36.4,35.7,39.9,31.3,40.0,33.4,38.2,37.2,16.8,19.2,15.0,22.4,24.8,18.0,26.4,21.6,20.4,28.8,17.6,30.0,18.8,25.6,23.2,28.0,31.6,25.2,35.8,38.2,29.4,40.7,34.2,31.9,42.8,26.9,40.0,30.7,37.4,35.1,53.0,65.6,45.4,59.0,64.4,50.8,71.2,57.6,54.4,76.0,47.6,80.0,51.2,66.8,62.2,28.4,31.2,25.0,34.1,36.9,30.3,39.4,33.2,31.8,41.0,26.6,40.0,30.0,38.7,36.3,43.1,48.2,46.3,54.6,52.1,49.6,57.9,55.4,52.9,61.2,44.2,60.0,55.9,58.4,49.1,32.1,36.2,34.1,38.2,35.6,32.6,40.2,37.6,34.9,42.5,30.1,44.8,39.0,41.3,36.9],\"type\":\"bar\"},{\"marker\":{\"color\":\"crimson\"},\"name\":\"Potassium\",\"x\":[\"Barley\",\"Barley\",\"Barley\",\"Barley\",\"Barley\",\"Barley\",\"Barley\",\"Barley\",\"Barley\",\"Barley\",\"Barley\",\"Barley\",\"Barley\",\"Barley\",\"Barley\",\"Beans\",\"Beans\",\"Beans\",\"Beans\",\"Beans\",\"Beans\",\"Beans\",\"Beans\",\"Beans\",\"Beans\",\"Beans\",\"Beans\",\"Beans\",\"Beans\",\"Beans\",\"Corn\",\"Corn\",\"Corn\",\"Corn\",\"Corn\",\"Corn\",\"Corn\",\"Corn\",\"Corn\",\"Corn\",\"Corn\",\"Corn\",\"Corn\",\"Corn\",\"Corn\",\"Cauliflower\",\"Cauliflower\",\"Cauliflower\",\"Cauliflower\",\"Cauliflower\",\"Cauliflower\",\"Cauliflower\",\"Cauliflower\",\"Cauliflower\",\"Cauliflower\",\"Cauliflower\",\"Cauliflower\",\"Cauliflower\",\"Cauliflower\",\"Cauliflower\",\"Lentils\",\"Lentils\",\"Lentils\",\"Lentils\",\"Lentils\",\"Lentils\",\"Lentils\",\"Lentils\",\"Lentils\",\"Lentils\",\"Lentils\",\"Lentils\",\"Lentils\",\"Lentils\",\"Lentils\",\"Lettuce\",\"Lettuce\",\"Lettuce\",\"Lettuce\",\"Lettuce\",\"Lettuce\",\"Lettuce\",\"Lettuce\",\"Lettuce\",\"Lettuce\",\"Lettuce\",\"Lettuce\",\"Lettuce\",\"Lettuce\",\"Lettuce\",\"Mustard\",\"Mustard\",\"Mustard\",\"Mustard\",\"Mustard\",\"Mustard\",\"Mustard\",\"Mustard\",\"Mustard\",\"Mustard\",\"Mustard\",\"Mustard\",\"Mustard\",\"Mustard\",\"Mustard\",\"Oranges\",\"Oranges\",\"Oranges\",\"Oranges\",\"Oranges\",\"Oranges\",\"Oranges\",\"Oranges\",\"Oranges\",\"Oranges\",\"Oranges\",\"Oranges\",\"Oranges\",\"Oranges\",\"Oranges\",\"Peas\",\"Peas\",\"Peas\",\"Peas\",\"Peas\",\"Peas\",\"Peas\",\"Peas\",\"Peas\",\"Peas\",\"Peas\",\"Peas\",\"Peas\",\"Peas\",\"Peas\",\"Peppers\",\"Peppers\",\"Peppers\",\"Peppers\",\"Peppers\",\"Peppers\",\"Peppers\",\"Peppers\",\"Peppers\",\"Peppers\",\"Peppers\",\"Peppers\",\"Peppers\",\"Peppers\",\"Peppers\",\"Potatoes\",\"Potatoes\",\"Potatoes\",\"Potatoes\",\"Potatoes\",\"Potatoes\",\"Potatoes\",\"Potatoes\",\"Potatoes\",\"Potatoes\",\"Potatoes\",\"Potatoes\",\"Potatoes\",\"Potatoes\",\"Potatoes\",\"Pulses\",\"Pulses\",\"Pulses\",\"Pulses\",\"Pulses\",\"Pulses\",\"Pulses\",\"Pulses\",\"Pulses\",\"Pulses\",\"Pulses\",\"Pulses\",\"Pulses\",\"Pulses\",\"Pulses\",\"Rice\",\"Rice\",\"Rice\",\"Rice\",\"Rice\",\"Rice\",\"Rice\",\"Rice\",\"Rice\",\"Rice\",\"Rice\",\"Rice\",\"Rice\",\"Rice\",\"Rice\",\"Sorghum\",\"Sorghum\",\"Sorghum\",\"Sorghum\",\"Sorghum\",\"Sorghum\",\"Sorghum\",\"Sorghum\",\"Sorghum\",\"Sorghum\",\"Sorghum\",\"Sorghum\",\"Sorghum\",\"Sorghum\",\"Sorghum\",\"Spinach\",\"Spinach\",\"Spinach\",\"Spinach\",\"Spinach\",\"Spinach\",\"Spinach\",\"Spinach\",\"Spinach\",\"Spinach\",\"Spinach\",\"Spinach\",\"Spinach\",\"Spinach\",\"Spinach\",\"Sugarcane\",\"Sugarcane\",\"Sugarcane\",\"Sugarcane\",\"Sugarcane\",\"Sugarcane\",\"Sugarcane\",\"Sugarcane\",\"Sugarcane\",\"Sugarcane\",\"Sugarcane\",\"Sugarcane\",\"Sugarcane\",\"Sugarcane\",\"Sugarcane\",\"Sunflower\",\"Sunflower\",\"Sunflower\",\"Sunflower\",\"Sunflower\",\"Sunflower\",\"Sunflower\",\"Sunflower\",\"Sunflower\",\"Sunflower\",\"Sunflower\",\"Sunflower\",\"Sunflower\",\"Sunflower\",\"Sunflower\",\"Tomatoes\",\"Tomatoes\",\"Tomatoes\",\"Tomatoes\",\"Tomatoes\",\"Tomatoes\",\"Tomatoes\",\"Tomatoes\",\"Tomatoes\",\"Tomatoes\",\"Tomatoes\",\"Tomatoes\",\"Tomatoes\",\"Tomatoes\",\"Tomatoes\",\"Wheat\",\"Wheat\",\"Wheat\",\"Wheat\",\"Wheat\",\"Wheat\",\"Wheat\",\"Wheat\",\"Wheat\",\"Wheat\",\"Wheat\",\"Wheat\",\"Wheat\",\"Wheat\",\"Wheat\"],\"y\":[22.6,28.3,21.2,26.7,32.4,24.1,34.1,29.8,25.3,31.0,22.9,35.0,23.6,27.3,24.9,19.8,23.0,16.7,27.6,31.5,20.5,33.2,28.4,24.3,34.8,16.2,35.7,22.6,26.1,29.7,27.8,35.2,29.5,37.1,40.4,32.7,38.5,34.8,31.0,39.2,28.5,40.0,33.9,36.3,35.7,116.5,129.7,104.3,140.6,148.4,112.1,144.7,134.3,122.6,150.0,108.9,150.0,118.8,132.0,127.3,19.5,23.0,16.8,27.6,28.9,21.2,29.6,25.8,22.5,30.2,18.0,28.3,24.6,26.9,23.5,95.0,104.7,88.5,113.8,118.7,99.3,117.2,109.8,103.4,115.9,92.1,120.0,97.9,108.0,106.3,22.9,27.8,21.3,31.2,34.6,25.0,35.8,29.4,24.6,36.7,21.0,37.5,28.9,33.3,30.1,80.5,114.2,56.7,129.8,143.1,92.3,148.0,119.7,105.0,141.7,69.4,150.0,88.2,126.5,117.8,18.3,23.5,16.9,27.6,29.8,21.2,30.5,25.6,22.8,31.9,18.0,30.0,20.5,28.4,26.0,55.2,62.7,49.2,71.8,76.3,58.7,78.5,66.0,61.5,80.8,52.7,80.0,57.3,73.2,68.7,69.5,78.2,64.0,87.8,94.1,72.8,97.4,84.1,76.5,100.0,67.3,100.0,70.6,91.5,88.9,17.8,22.9,15.4,28.3,33.4,20.5,31.0,25.6,23.2,36.1,19.5,39.0,24.2,32.0,29.7,67.8,78.2,49.3,71.3,77.4,55.0,73.9,69.1,66.1,76.5,58.7,80.0,63.5,72.8,70.4,21.6,25.5,20.3,29.4,33.3,24.2,36.1,28.9,27.8,39.7,23.1,40.0,25.0,34.2,31.1,43.5,50.6,36.7,54.4,58.3,46.1,61.7,52.2,49.2,64.8,40.6,60.0,47.2,56.1,52.8,95.5,129.2,80.1,113.8,124.9,90.6,139.7,105.4,99.3,134.8,86.9,150.0,94.4,128.5,117.4,43.9,49.5,37.9,53.2,58.8,46.6,62.0,51.1,49.3,64.7,41.6,60.0,47.1,61.4,57.6,65.2,72.4,69.8,80.3,77.6,75.0,85.5,82.9,80.3,90.8,67.7,88.9,83.6,86.2,74.1,45.3,54.7,48.6,58.0,51.8,46.3,62.5,56.3,50.1,66.3,43.8,69.9,59.6,63.8,55.4],\"type\":\"bar\"}],                        {\"template\":{\"data\":{\"histogram2dcontour\":[{\"type\":\"histogram2dcontour\",\"colorbar\":{\"outlinewidth\":0,\"ticks\":\"\"},\"colorscale\":[[0.0,\"#0d0887\"],[0.1111111111111111,\"#46039f\"],[0.2222222222222222,\"#7201a8\"],[0.3333333333333333,\"#9c179e\"],[0.4444444444444444,\"#bd3786\"],[0.5555555555555556,\"#d8576b\"],[0.6666666666666666,\"#ed7953\"],[0.7777777777777778,\"#fb9f3a\"],[0.8888888888888888,\"#fdca26\"],[1.0,\"#f0f921\"]]}],\"choropleth\":[{\"type\":\"choropleth\",\"colorbar\":{\"outlinewidth\":0,\"ticks\":\"\"}}],\"histogram2d\":[{\"type\":\"histogram2d\",\"colorbar\":{\"outlinewidth\":0,\"ticks\":\"\"},\"colorscale\":[[0.0,\"#0d0887\"],[0.1111111111111111,\"#46039f\"],[0.2222222222222222,\"#7201a8\"],[0.3333333333333333,\"#9c179e\"],[0.4444444444444444,\"#bd3786\"],[0.5555555555555556,\"#d8576b\"],[0.6666666666666666,\"#ed7953\"],[0.7777777777777778,\"#fb9f3a\"],[0.8888888888888888,\"#fdca26\"],[1.0,\"#f0f921\"]]}],\"heatmap\":[{\"type\":\"heatmap\",\"colorbar\":{\"outlinewidth\":0,\"ticks\":\"\"},\"colorscale\":[[0.0,\"#0d0887\"],[0.1111111111111111,\"#46039f\"],[0.2222222222222222,\"#7201a8\"],[0.3333333333333333,\"#9c179e\"],[0.4444444444444444,\"#bd3786\"],[0.5555555555555556,\"#d8576b\"],[0.6666666666666666,\"#ed7953\"],[0.7777777777777778,\"#fb9f3a\"],[0.8888888888888888,\"#fdca26\"],[1.0,\"#f0f921\"]]}],\"heatmapgl\":[{\"type\":\"heatmapgl\",\"colorbar\":{\"outlinewidth\":0,\"ticks\":\"\"},\"colorscale\":[[0.0,\"#0d0887\"],[0.1111111111111111,\"#46039f\"],[0.2222222222222222,\"#7201a8\"],[0.3333333333333333,\"#9c179e\"],[0.4444444444444444,\"#bd3786\"],[0.5555555555555556,\"#d8576b\"],[0.6666666666666666,\"#ed7953\"],[0.7777777777777778,\"#fb9f3a\"],[0.8888888888888888,\"#fdca26\"],[1.0,\"#f0f921\"]]}],\"contourcarpet\":[{\"type\":\"contourcarpet\",\"colorbar\":{\"outlinewidth\":0,\"ticks\":\"\"}}],\"contour\":[{\"type\":\"contour\",\"colorbar\":{\"outlinewidth\":0,\"ticks\":\"\"},\"colorscale\":[[0.0,\"#0d0887\"],[0.1111111111111111,\"#46039f\"],[0.2222222222222222,\"#7201a8\"],[0.3333333333333333,\"#9c179e\"],[0.4444444444444444,\"#bd3786\"],[0.5555555555555556,\"#d8576b\"],[0.6666666666666666,\"#ed7953\"],[0.7777777777777778,\"#fb9f3a\"],[0.8888888888888888,\"#fdca26\"],[1.0,\"#f0f921\"]]}],\"surface\":[{\"type\":\"surface\",\"colorbar\":{\"outlinewidth\":0,\"ticks\":\"\"},\"colorscale\":[[0.0,\"#0d0887\"],[0.1111111111111111,\"#46039f\"],[0.2222222222222222,\"#7201a8\"],[0.3333333333333333,\"#9c179e\"],[0.4444444444444444,\"#bd3786\"],[0.5555555555555556,\"#d8576b\"],[0.6666666666666666,\"#ed7953\"],[0.7777777777777778,\"#fb9f3a\"],[0.8888888888888888,\"#fdca26\"],[1.0,\"#f0f921\"]]}],\"mesh3d\":[{\"type\":\"mesh3d\",\"colorbar\":{\"outlinewidth\":0,\"ticks\":\"\"}}],\"scatter\":[{\"fillpattern\":{\"fillmode\":\"overlay\",\"size\":10,\"solidity\":0.2},\"type\":\"scatter\"}],\"parcoords\":[{\"type\":\"parcoords\",\"line\":{\"colorbar\":{\"outlinewidth\":0,\"ticks\":\"\"}}}],\"scatterpolargl\":[{\"type\":\"scatterpolargl\",\"marker\":{\"colorbar\":{\"outlinewidth\":0,\"ticks\":\"\"}}}],\"bar\":[{\"error_x\":{\"color\":\"#2a3f5f\"},\"error_y\":{\"color\":\"#2a3f5f\"},\"marker\":{\"line\":{\"color\":\"#E5ECF6\",\"width\":0.5},\"pattern\":{\"fillmode\":\"overlay\",\"size\":10,\"solidity\":0.2}},\"type\":\"bar\"}],\"scattergeo\":[{\"type\":\"scattergeo\",\"marker\":{\"colorbar\":{\"outlinewidth\":0,\"ticks\":\"\"}}}],\"scatterpolar\":[{\"type\":\"scatterpolar\",\"marker\":{\"colorbar\":{\"outlinewidth\":0,\"ticks\":\"\"}}}],\"histogram\":[{\"marker\":{\"pattern\":{\"fillmode\":\"overlay\",\"size\":10,\"solidity\":0.2}},\"type\":\"histogram\"}],\"scattergl\":[{\"type\":\"scattergl\",\"marker\":{\"colorbar\":{\"outlinewidth\":0,\"ticks\":\"\"}}}],\"scatter3d\":[{\"type\":\"scatter3d\",\"line\":{\"colorbar\":{\"outlinewidth\":0,\"ticks\":\"\"}},\"marker\":{\"colorbar\":{\"outlinewidth\":0,\"ticks\":\"\"}}}],\"scattermapbox\":[{\"type\":\"scattermapbox\",\"marker\":{\"colorbar\":{\"outlinewidth\":0,\"ticks\":\"\"}}}],\"scatterternary\":[{\"type\":\"scatterternary\",\"marker\":{\"colorbar\":{\"outlinewidth\":0,\"ticks\":\"\"}}}],\"scattercarpet\":[{\"type\":\"scattercarpet\",\"marker\":{\"colorbar\":{\"outlinewidth\":0,\"ticks\":\"\"}}}],\"carpet\":[{\"aaxis\":{\"endlinecolor\":\"#2a3f5f\",\"gridcolor\":\"white\",\"linecolor\":\"white\",\"minorgridcolor\":\"white\",\"startlinecolor\":\"#2a3f5f\"},\"baxis\":{\"endlinecolor\":\"#2a3f5f\",\"gridcolor\":\"white\",\"linecolor\":\"white\",\"minorgridcolor\":\"white\",\"startlinecolor\":\"#2a3f5f\"},\"type\":\"carpet\"}],\"table\":[{\"cells\":{\"fill\":{\"color\":\"#EBF0F8\"},\"line\":{\"color\":\"white\"}},\"header\":{\"fill\":{\"color\":\"#C8D4E3\"},\"line\":{\"color\":\"white\"}},\"type\":\"table\"}],\"barpolar\":[{\"marker\":{\"line\":{\"color\":\"#E5ECF6\",\"width\":0.5},\"pattern\":{\"fillmode\":\"overlay\",\"size\":10,\"solidity\":0.2}},\"type\":\"barpolar\"}],\"pie\":[{\"automargin\":true,\"type\":\"pie\"}]},\"layout\":{\"autotypenumbers\":\"strict\",\"colorway\":[\"#636efa\",\"#EF553B\",\"#00cc96\",\"#ab63fa\",\"#FFA15A\",\"#19d3f3\",\"#FF6692\",\"#B6E880\",\"#FF97FF\",\"#FECB52\"],\"font\":{\"color\":\"#2a3f5f\"},\"hovermode\":\"closest\",\"hoverlabel\":{\"align\":\"left\"},\"paper_bgcolor\":\"white\",\"plot_bgcolor\":\"#E5ECF6\",\"polar\":{\"bgcolor\":\"#E5ECF6\",\"angularaxis\":{\"gridcolor\":\"white\",\"linecolor\":\"white\",\"ticks\":\"\"},\"radialaxis\":{\"gridcolor\":\"white\",\"linecolor\":\"white\",\"ticks\":\"\"}},\"ternary\":{\"bgcolor\":\"#E5ECF6\",\"aaxis\":{\"gridcolor\":\"white\",\"linecolor\":\"white\",\"ticks\":\"\"},\"baxis\":{\"gridcolor\":\"white\",\"linecolor\":\"white\",\"ticks\":\"\"},\"caxis\":{\"gridcolor\":\"white\",\"linecolor\":\"white\",\"ticks\":\"\"}},\"coloraxis\":{\"colorbar\":{\"outlinewidth\":0,\"ticks\":\"\"}},\"colorscale\":{\"sequential\":[[0.0,\"#0d0887\"],[0.1111111111111111,\"#46039f\"],[0.2222222222222222,\"#7201a8\"],[0.3333333333333333,\"#9c179e\"],[0.4444444444444444,\"#bd3786\"],[0.5555555555555556,\"#d8576b\"],[0.6666666666666666,\"#ed7953\"],[0.7777777777777778,\"#fb9f3a\"],[0.8888888888888888,\"#fdca26\"],[1.0,\"#f0f921\"]],\"sequentialminus\":[[0.0,\"#0d0887\"],[0.1111111111111111,\"#46039f\"],[0.2222222222222222,\"#7201a8\"],[0.3333333333333333,\"#9c179e\"],[0.4444444444444444,\"#bd3786\"],[0.5555555555555556,\"#d8576b\"],[0.6666666666666666,\"#ed7953\"],[0.7777777777777778,\"#fb9f3a\"],[0.8888888888888888,\"#fdca26\"],[1.0,\"#f0f921\"]],\"diverging\":[[0,\"#8e0152\"],[0.1,\"#c51b7d\"],[0.2,\"#de77ae\"],[0.3,\"#f1b6da\"],[0.4,\"#fde0ef\"],[0.5,\"#f7f7f7\"],[0.6,\"#e6f5d0\"],[0.7,\"#b8e186\"],[0.8,\"#7fbc41\"],[0.9,\"#4d9221\"],[1,\"#276419\"]]},\"xaxis\":{\"gridcolor\":\"white\",\"linecolor\":\"white\",\"ticks\":\"\",\"title\":{\"standoff\":15},\"zerolinecolor\":\"white\",\"automargin\":true,\"zerolinewidth\":2},\"yaxis\":{\"gridcolor\":\"white\",\"linecolor\":\"white\",\"ticks\":\"\",\"title\":{\"standoff\":15},\"zerolinecolor\":\"white\",\"automargin\":true,\"zerolinewidth\":2},\"scene\":{\"xaxis\":{\"backgroundcolor\":\"#E5ECF6\",\"gridcolor\":\"white\",\"linecolor\":\"white\",\"showbackground\":true,\"ticks\":\"\",\"zerolinecolor\":\"white\",\"gridwidth\":2},\"yaxis\":{\"backgroundcolor\":\"#E5ECF6\",\"gridcolor\":\"white\",\"linecolor\":\"white\",\"showbackground\":true,\"ticks\":\"\",\"zerolinecolor\":\"white\",\"gridwidth\":2},\"zaxis\":{\"backgroundcolor\":\"#E5ECF6\",\"gridcolor\":\"white\",\"linecolor\":\"white\",\"showbackground\":true,\"ticks\":\"\",\"zerolinecolor\":\"white\",\"gridwidth\":2}},\"shapedefaults\":{\"line\":{\"color\":\"#2a3f5f\"}},\"annotationdefaults\":{\"arrowcolor\":\"#2a3f5f\",\"arrowhead\":0,\"arrowwidth\":1},\"geo\":{\"bgcolor\":\"white\",\"landcolor\":\"#E5ECF6\",\"subunitcolor\":\"white\",\"showland\":true,\"showlakes\":true,\"lakecolor\":\"white\"},\"title\":{\"x\":0.05},\"mapbox\":{\"style\":\"light\"}}},\"xaxis\":{\"tickangle\":-45},\"title\":{\"text\":\"N, P, K values comparison between crops\"},\"barmode\":\"group\"},                        {\"responsive\": true}                    ).then(function(){\n",
       "                            \n",
       "var gd = document.getElementById('fe651665-e09d-4698-81a8-ec87c9977485');\n",
       "var x = new MutationObserver(function (mutations, observer) {{\n",
       "        var display = window.getComputedStyle(gd).display;\n",
       "        if (!display || display === 'none') {{\n",
       "            console.log([gd, 'removed!']);\n",
       "            Plotly.purge(gd);\n",
       "            observer.disconnect();\n",
       "        }}\n",
       "}});\n",
       "\n",
       "// Listen for the removal of the full notebook cells\n",
       "var notebookContainer = gd.closest('#notebook-container');\n",
       "if (notebookContainer) {{\n",
       "    x.observe(notebookContainer, {childList: true});\n",
       "}}\n",
       "\n",
       "// Listen for the clearing of the current output cell\n",
       "var outputEl = gd.closest('.output');\n",
       "if (outputEl) {{\n",
       "    x.observe(outputEl, {childList: true});\n",
       "}}\n",
       "\n",
       "                        })                };                });            </script>        </div>"
      ]
     },
     "metadata": {},
     "output_type": "display_data"
    }
   ],
   "source": [
    "fig = go.Figure()\n",
    "\n",
    "fig.add_trace(go.Bar(\n",
    "    x=df['label'],\n",
    "    y=df['N'],\n",
    "    name='Nitrogen',\n",
    "    marker_color='Blue'\n",
    "))\n",
    "\n",
    "fig.add_trace(go.Bar(\n",
    "    x=df['label'],\n",
    "    y=df['P'],\n",
    "    name='Phosphorous',\n",
    "    marker_color='darkgreen'\n",
    "))\n",
    "\n",
    "fig.add_trace(go.Bar(\n",
    "    x=df['label'],\n",
    "    y=df['K'],\n",
    "    name='Potassium',\n",
    "    marker_color='crimson'\n",
    "))\n",
    "\n",
    "fig.update_layout(\n",
    "    title=\"N, P, K values comparison between crops\",\n",
    "    barmode='group',\n",
    "    xaxis_tickangle=-45\n",
    ")\n",
    "\n",
    "fig.show()"
   ]
  },
  {
   "cell_type": "code",
   "execution_count": 52,
   "id": "7b5ddf73",
   "metadata": {},
   "outputs": [
    {
     "data": {
      "image/png": "[encoded data removed]",
      "text/plain": [
       "<Figure size 720x576 with 2 Axes>"
      ]
     },
     "metadata": {
      "needs_background": "light"
     },
     "output_type": "display_data"
    }
   ],
   "source": [
    "correlation_matrix = df.corr()\n",
    "\n",
    "# Create a heatmap of the correlation matrix\n",
    "plt.figure(figsize=(10, 8))\n",
    "sns.heatmap(correlation_matrix, annot=True, cmap='coolwarm', fmt=\".2f\", linewidths=0.5)\n",
    "plt.title('Correlation Matrix Heatmap')\n",
    "plt.show()"
   ]
  },
  {
   "cell_type": "code",
   "execution_count": 53,
   "id": "6464825c",
   "metadata": {
    "scrolled": true
   },
   "outputs": [
    {
     "name": "stderr",
     "output_type": "stream",
     "text": [
      "C:\\Users\\ASUS\\AppData\\Local\\Temp\\ipykernel_12788\\1115736785.py:39: UserWarning:\n",
      "\n",
      "tight_layout not applied: number of columns in subplot specifications must be multiples of one another.\n",
      "\n"
     ]
    },
    {
     "data": {
      "image/png": "[encoded data removed]",
      "text/plain": [
       "<Figure size 1296x432 with 6 Axes>"
      ]
     },
     "metadata": {
      "needs_background": "light"
     },
     "output_type": "display_data"
    }
   ],
   "source": [
    "plt.figure(figsize=(18, 6))\n",
    "\n",
    "plt.subplot(161)  # 1 row, 7 columns, subplot 1\n",
    "plt.hist(df['N'], bins=20, color='blue', alpha=0.7)\n",
    "plt.title('Nitrogen')\n",
    "plt.xlabel('Nitrogen Value')\n",
    "plt.ylabel('Frequency')\n",
    "\n",
    "plt.subplot(172)  # 1 row, 7 columns, subplot 2\n",
    "plt.hist(df['P'], bins=20, color='green', alpha=0.7)\n",
    "plt.title('Phosphorous')\n",
    "plt.xlabel('Phosphorous Value')\n",
    "plt.ylabel('Frequency')\n",
    "\n",
    "plt.subplot(173)  # 1 row, 7 columns, subplot 3\n",
    "plt.hist(df['K'], bins=20, color='red', alpha=0.7)\n",
    "plt.title('Potassium')\n",
    "plt.xlabel('Potassium Value')\n",
    "plt.ylabel('Frequency')\n",
    "\n",
    "plt.subplot(174)  # 1 row, 7 columns, subplot 4\n",
    "plt.hist(df['ph'], bins=20, color='yellow', alpha=0.7)\n",
    "plt.title('Ph')\n",
    "plt.xlabel('Ph Value')\n",
    "plt.ylabel('Frequency')\n",
    "\n",
    "plt.subplot(175)  # 1 row, 7 columns, subplot 7\n",
    "plt.hist(df['temperature'], bins=20, color='purple', alpha=0.7)\n",
    "plt.title('Temperature')\n",
    "plt.xlabel('Temperature Value')\n",
    "plt.ylabel('Frequency')\n",
    "\n",
    "plt.subplot(176)  # 1 row, 7 columns, subplot 6\n",
    "plt.hist(df['moisture'], bins=20, color='black', alpha=0.7)\n",
    "plt.title('Moisture')\n",
    "plt.xlabel('Moisture')\n",
    "plt.ylabel('Frequency')\n",
    "\n",
    "plt.tight_layout()\n",
    "plt.show()\n"
   ]
  },
  {
   "cell_type": "code",
   "execution_count": 54,
   "id": "ec03a148",
   "metadata": {},
   "outputs": [
    {
     "data": {
      "image/png": "[encoded data removed]",
      "text/plain": [
       "<Figure size 1152x576 with 6 Axes>"
      ]
     },
     "metadata": {
      "needs_background": "light"
     },
     "output_type": "display_data"
    }
   ],
   "source": [
    "import matplotlib.pyplot as plt\n",
    "\n",
    "# Set a common color palette for all graphs\n",
    "color_palette = ['blue', 'green', 'red', 'purple', 'orange', 'pink', 'teal']\n",
    "\n",
    "# Create a figure with subplots\n",
    "fig, axs = plt.subplots(2, 3, figsize=(16, 8))\n",
    "fig.suptitle('Colorful Graphs for Agricultural Elements', fontsize=16)\n",
    "\n",
    "# Plot histograms for each element\n",
    "elements = ['N', 'P', 'K', 'ph', 'temperature', 'moisture']\n",
    "\n",
    "for i, element in enumerate(elements):\n",
    "    row = i // 3\n",
    "    col = i % 3\n",
    "\n",
    "    # Create a histogram\n",
    "    axs[row, col].hist(df[element], bins=20, color=color_palette[i], alpha=0.7)\n",
    "    axs[row, col].set_title(f'{element} Distribution', fontsize=12)\n",
    "    axs[row, col].set_xlabel(f'{element} Value', fontsize=10)\n",
    "    axs[row, col].set_ylabel('Frequency', fontsize=10)\n",
    "\n",
    "# Adjust spacing and show the plots\n",
    "plt.tight_layout(rect=[0, 0, 1, 0.95])  # Add space at the top for the suptitle\n",
    "plt.show()\n"
   ]
  },
  {
   "cell_type": "code",
   "execution_count": 55,
   "id": "56fa90d0",
   "metadata": {},
   "outputs": [
    {
     "data": {
      "image/png": "[encoded data removed]",
      "text/plain": [
       "<Figure size 1152x576 with 6 Axes>"
      ]
     },
     "metadata": {
      "needs_background": "light"
     },
     "output_type": "display_data"
    }
   ],
   "source": [
    "import matplotlib.pyplot as plt\n",
    "import seaborn as sns\n",
    "\n",
    "# Set a common color palette for all graphs\n",
    "color_palette = ['blue', 'green', 'red', 'purple', 'orange', 'pink', 'teal']\n",
    "\n",
    "# Create a figure with subplots\n",
    "fig, axs = plt.subplots(2, 3, figsize=(16, 8))\n",
    "fig.suptitle('Box Plots for Agricultural Elements', fontsize=16)\n",
    "\n",
    "# Plot box plots for each element\n",
    "elements = ['N', 'P', 'K', 'ph', 'temperature', 'moisture']\n",
    "\n",
    "for i, element in enumerate(elements):\n",
    "    row = i // 3\n",
    "    col = i % 3\n",
    "\n",
    "    # Create a box plot\n",
    "    sns.boxplot(data=df[element], ax=axs[row, col], color=color_palette[i])\n",
    "    axs[row, col].set_title(f'{element} Distribution', fontsize=12)\n",
    "    axs[row, col].set_xlabel(f'{element} Value', fontsize=10)\n",
    "\n",
    "# Adjust spacing and show the plots\n",
    "plt.tight_layout(rect=[0, 0, 1, 0.95])  # Add space at the top for the suptitle\n",
    "plt.show()"
   ]
  },
  {
   "cell_type": "code",
   "execution_count": 56,
   "id": "a62b050c",
   "metadata": {},
   "outputs": [
    {
     "data": {
      "image/png": "[encoded data removed]",
      "text/plain": [
       "<Figure size 864x432 with 3 Axes>"
      ]
     },
     "metadata": {
      "needs_background": "light"
     },
     "output_type": "display_data"
    }
   ],
   "source": [
    "import seaborn as sns\n",
    "plt.figure(figsize=(12, 6))\n",
    "\n",
    "plt.subplot(131)\n",
    "sns.boxplot(x='label', y='N', data=df)\n",
    "plt.title('Nitrogen Distribution by Crop')\n",
    "\n",
    "plt.subplot(132)\n",
    "sns.boxplot(x='label', y='P', data=df)\n",
    "plt.title('Phosphorous Distribution by Crop')\n",
    "\n",
    "plt.subplot(133)\n",
    "sns.boxplot(x='label', y='K', data=df)\n",
    "plt.title('Potash Distribution by Crop')\n",
    "\n",
    "plt.tight_layout()\n",
    "plt.show()"
   ]
  },
  {
   "cell_type": "code",
   "execution_count": 57,
   "id": "43fe0fb0",
   "metadata": {},
   "outputs": [
    {
     "data": {
      "image/png": "[encoded data removed]",
      "text/plain": [
       "<Figure size 1152x576 with 1 Axes>"
      ]
     },
     "metadata": {
      "needs_background": "light"
     },
     "output_type": "display_data"
    }
   ],
   "source": [
    "crop_npk_means = df.groupby('label')[['N', 'P', 'K']].mean()\n",
    "crop_names = df['label'].unique()\n",
    "\n",
    "# Create a stacked bar chart\n",
    "fig, ax = plt.subplots(figsize=(16, 8))\n",
    "\n",
    "# Plot Nitrogen (N) values\n",
    "ax.bar(crop_names, crop_npk_means['N'], label='Nitrogen', color='blue')\n",
    "\n",
    "# Plot Phosphorous (P) values on top of Nitrogen\n",
    "ax.bar(crop_names, crop_npk_means['P'], bottom=crop_npk_means['N'], label='Phosphorous', color='green')\n",
    "\n",
    "# Plot Potash (K) values on top of Nitrogen and Phosphorous\n",
    "ax.bar(crop_names, crop_npk_means['K'], bottom=crop_npk_means['N'] + crop_npk_means['P'], label='Potash', color='red')\n",
    "\n",
    "# Customize the chart\n",
    "ax.set_xlabel('Crop')\n",
    "ax.set_ylabel('Proportion of NPK')\n",
    "ax.set_title('Proportion of NPK in Each Crop')\n",
    "ax.legend()\n",
    "\n",
    "plt.xticks(rotation=45)\n",
    "plt.tight_layout()\n",
    "plt.show()"
   ]
  },
  {
   "cell_type": "code",
   "execution_count": 58,
   "id": "8a81462d",
   "metadata": {},
   "outputs": [],
   "source": [
    "from sklearn.preprocessing import LabelEncoder\n",
    "\n",
    "le = LabelEncoder().fit(df['label'])"
   ]
  },
  {
   "cell_type": "code",
   "execution_count": 59,
   "id": "1ba6f38a",
   "metadata": {},
   "outputs": [
    {
     "name": "stdout",
     "output_type": "stream",
     "text": [
      "{'Barley': 0, 'Beans': 1, 'Cauliflower': 2, 'Corn': 3, 'Lentils': 4, 'Lettuce': 5, 'Mustard': 6, 'Oranges': 7, 'Peas': 8, 'Peppers': 9, 'Potatoes': 10, 'Pulses': 11, 'Rice': 12, 'Sorghum': 13, 'Spinach': 14, 'Sugarcane': 15, 'Sunflower': 16, 'Tomatoes': 17, 'Wheat': 18}\n"
     ]
    }
   ],
   "source": [
    "le_name_mapping = dict(zip(le.classes_, le.transform(le.classes_)))\n",
    "print(le_name_mapping)"
   ]
  },
  {
   "cell_type": "code",
   "execution_count": 60,
   "id": "f27168f5",
   "metadata": {},
   "outputs": [],
   "source": [
    "df['label'] = le.transform(df['label'])"
   ]
  },
  {
   "cell_type": "code",
   "execution_count": 61,
   "id": "472060ce",
   "metadata": {},
   "outputs": [
    {
     "data": {
      "text/html": [
       "<div>\n",
       "<style scoped>\n",
       "    .dataframe tbody tr th:only-of-type {\n",
       "        vertical-align: middle;\n",
       "    }\n",
       "\n",
       "    .dataframe tbody tr th {\n",
       "        vertical-align: top;\n",
       "    }\n",
       "\n",
       "    .dataframe thead th {\n",
       "        text-align: right;\n",
       "    }\n",
       "</style>\n",
       "<table border=\"1\" class=\"dataframe\">\n",
       "  <thead>\n",
       "    <tr style=\"text-align: right;\">\n",
       "      <th></th>\n",
       "      <th>N</th>\n",
       "      <th>P</th>\n",
       "      <th>K</th>\n",
       "      <th>ph</th>\n",
       "      <th>temperature</th>\n",
       "      <th>moisture</th>\n",
       "      <th>label</th>\n",
       "    </tr>\n",
       "  </thead>\n",
       "  <tbody>\n",
       "    <tr>\n",
       "      <th>0</th>\n",
       "      <td>38.2</td>\n",
       "      <td>17.3</td>\n",
       "      <td>22.6</td>\n",
       "      <td>6.8</td>\n",
       "      <td>15.4</td>\n",
       "      <td>53.2</td>\n",
       "      <td>0</td>\n",
       "    </tr>\n",
       "    <tr>\n",
       "      <th>1</th>\n",
       "      <td>44.5</td>\n",
       "      <td>21.8</td>\n",
       "      <td>28.3</td>\n",
       "      <td>6.5</td>\n",
       "      <td>13.8</td>\n",
       "      <td>59.5</td>\n",
       "      <td>0</td>\n",
       "    </tr>\n",
       "    <tr>\n",
       "      <th>2</th>\n",
       "      <td>33.7</td>\n",
       "      <td>16.5</td>\n",
       "      <td>21.2</td>\n",
       "      <td>6.2</td>\n",
       "      <td>12.5</td>\n",
       "      <td>54.8</td>\n",
       "      <td>0</td>\n",
       "    </tr>\n",
       "    <tr>\n",
       "      <th>3</th>\n",
       "      <td>42.6</td>\n",
       "      <td>20.1</td>\n",
       "      <td>26.7</td>\n",
       "      <td>7.0</td>\n",
       "      <td>18.2</td>\n",
       "      <td>62.7</td>\n",
       "      <td>0</td>\n",
       "    </tr>\n",
       "    <tr>\n",
       "      <th>4</th>\n",
       "      <td>46.3</td>\n",
       "      <td>23.9</td>\n",
       "      <td>32.4</td>\n",
       "      <td>6.6</td>\n",
       "      <td>16.9</td>\n",
       "      <td>58.0</td>\n",
       "      <td>0</td>\n",
       "    </tr>\n",
       "  </tbody>\n",
       "</table>\n",
       "</div>"
      ],
      "text/plain": [
       "      N     P     K   ph  temperature  moisture  label\n",
       "0  38.2  17.3  22.6  6.8         15.4      53.2      0\n",
       "1  44.5  21.8  28.3  6.5         13.8      59.5      0\n",
       "2  33.7  16.5  21.2  6.2         12.5      54.8      0\n",
       "3  42.6  20.1  26.7  7.0         18.2      62.7      0\n",
       "4  46.3  23.9  32.4  6.6         16.9      58.0      0"
      ]
     },
     "execution_count": 61,
     "metadata": {},
     "output_type": "execute_result"
    }
   ],
   "source": [
    "df.head()"
   ]
  },
  {
   "cell_type": "code",
   "execution_count": 62,
   "id": "40e2e23e",
   "metadata": {},
   "outputs": [],
   "source": [
    "from sklearn.model_selection import train_test_split"
   ]
  },
  {
   "cell_type": "code",
   "execution_count": 63,
   "id": "79db19fd",
   "metadata": {},
   "outputs": [],
   "source": [
    "X = df.drop(['label'],axis=1)\n",
    "y = df['label']"
   ]
  },
  {
   "cell_type": "code",
   "execution_count": 64,
   "id": "4652fdc6",
   "metadata": {},
   "outputs": [],
   "source": [
    "X_train,X_test,y_train,y_test = train_test_split(X,y,test_size=0.2,random_state=42)"
   ]
  },
  {
   "cell_type": "code",
   "execution_count": 65,
   "id": "6f68103a",
   "metadata": {},
   "outputs": [
    {
     "data": {
      "image/png": "[encoded data removed]",
      "text/plain": [
       "<Figure size 864x432 with 1 Axes>"
      ]
     },
     "metadata": {
      "needs_background": "light"
     },
     "output_type": "display_data"
    },
    {
     "data": {
      "image/png": "[encoded data removed]",
      "text/plain": [
       "<Figure size 720x432 with 1 Axes>"
      ]
     },
     "metadata": {
      "needs_background": "light"
     },
     "output_type": "display_data"
    }
   ],
   "source": [
    "import matplotlib.pyplot as plt\n",
    "from sklearn.decomposition import PCA\n",
    "from sklearn.ensemble import RandomForestClassifier\n",
    "\n",
    "# Fit a Random Forest Classifier on the entire dataset\n",
    "rf_classifier = RandomForestClassifier(n_jobs=-1, random_state=42, n_estimators=10)\n",
    "rf_classifier.fit(X_train, y_train)\n",
    "\n",
    "# Get feature importances from the trained model\n",
    "feature_importances = rf_classifier.feature_importances_\n",
    "\n",
    "# Get feature names (column names)\n",
    "feature_names = X.columns\n",
    "\n",
    "# Sort features by importance in descending order\n",
    "sorted_indices = feature_importances.argsort()[::-1]\n",
    "sorted_importances = feature_importances[sorted_indices]\n",
    "sorted_features = feature_names[sorted_indices]\n",
    "\n",
    "# Create a bar chart to visualize feature importances\n",
    "plt.figure(figsize=(12, 6))\n",
    "plt.bar(range(len(sorted_features)), sorted_importances, align='center')\n",
    "plt.xticks(range(len(sorted_features)), sorted_features, rotation=90)\n",
    "plt.xlabel('Feature')\n",
    "plt.ylabel('Importance')\n",
    "plt.title('Feature Importance for Crop Classification (Random Forest)')\n",
    "plt.tight_layout()\n",
    "plt.show()\n",
    "\n",
    "# Applying PCA\n",
    "num_components = min(X.shape[0], X.shape[1])  # Number of samples or features, whichever is smaller\n",
    "pca = PCA(n_components=num_components, svd_solver='full')  \n",
    "X_pca = pca.fit_transform(X)\n",
    "\n",
    "# Plotting the explained variance ratio\n",
    "plt.figure(figsize=(10, 6))\n",
    "plt.bar(range(len(pca.explained_variance_ratio_)), pca.explained_variance_ratio_)\n",
    "plt.xlabel('Principal Component')\n",
    "plt.ylabel('Explained Variance Ratio')\n",
    "plt.title('Explained Variance Ratio for Principal Components')\n",
    "plt.show()"
   ]
  },
  {
   "cell_type": "code",
   "execution_count": 66,
   "id": "ebc704fb",
   "metadata": {},
   "outputs": [
    {
     "data": {
      "image/png": "[encoded data removed]",
      "text/plain": [
       "<Figure size 864x432 with 1 Axes>"
      ]
     },
     "metadata": {
      "needs_background": "light"
     },
     "output_type": "display_data"
    }
   ],
   "source": [
    "import matplotlib.pyplot as plt\n",
    "\n",
    "# Fit a Random Forest Classifier on the entire dataset\n",
    "rf_classifier = RandomForestClassifier(n_jobs=-1, random_state=42, n_estimators=10)\n",
    "rf_classifier.fit(X_train, y_train)\n",
    "\n",
    "# Get feature importances from the trained model\n",
    "feature_importances = rf_classifier.feature_importances_\n",
    "\n",
    "# Get feature names (column names)\n",
    "feature_names = X.columns\n",
    "\n",
    "# Sort features by importance in descending order\n",
    "sorted_indices = feature_importances.argsort()[::-1]\n",
    "sorted_importances = feature_importances[sorted_indices]\n",
    "sorted_features = feature_names[sorted_indices]\n",
    "\n",
    "# Create a bar chart to visualize feature importances\n",
    "plt.figure(figsize=(12, 6))\n",
    "plt.bar(range(len(sorted_features)), sorted_importances, align='center')\n",
    "plt.xticks(range(len(sorted_features)), sorted_features, rotation=90)\n",
    "plt.xlabel('Feature')\n",
    "plt.ylabel('Importance')\n",
    "plt.title('Feature Importance for Crop Classification (Random Forest)')\n",
    "plt.tight_layout()\n",
    "plt.show()"
   ]
  },
  {
   "cell_type": "code",
   "execution_count": 67,
   "id": "288ec90d",
   "metadata": {},
   "outputs": [
    {
     "data": {
      "text/html": [
       "<div>\n",
       "<style scoped>\n",
       "    .dataframe tbody tr th:only-of-type {\n",
       "        vertical-align: middle;\n",
       "    }\n",
       "\n",
       "    .dataframe tbody tr th {\n",
       "        vertical-align: top;\n",
       "    }\n",
       "\n",
       "    .dataframe thead th {\n",
       "        text-align: right;\n",
       "    }\n",
       "</style>\n",
       "<table border=\"1\" class=\"dataframe\">\n",
       "  <thead>\n",
       "    <tr style=\"text-align: right;\">\n",
       "      <th></th>\n",
       "      <th>N</th>\n",
       "      <th>P</th>\n",
       "      <th>K</th>\n",
       "      <th>ph</th>\n",
       "      <th>temperature</th>\n",
       "      <th>moisture</th>\n",
       "    </tr>\n",
       "  </thead>\n",
       "  <tbody>\n",
       "    <tr>\n",
       "      <th>269</th>\n",
       "      <td>104.9</td>\n",
       "      <td>49.1</td>\n",
       "      <td>74.1</td>\n",
       "      <td>6.2</td>\n",
       "      <td>19.0</td>\n",
       "      <td>72.2</td>\n",
       "    </tr>\n",
       "    <tr>\n",
       "      <th>25</th>\n",
       "      <td>25.8</td>\n",
       "      <td>13.2</td>\n",
       "      <td>16.2</td>\n",
       "      <td>5.5</td>\n",
       "      <td>15.2</td>\n",
       "      <td>45.8</td>\n",
       "    </tr>\n",
       "    <tr>\n",
       "      <th>86</th>\n",
       "      <td>150.0</td>\n",
       "      <td>60.0</td>\n",
       "      <td>120.0</td>\n",
       "      <td>7.0</td>\n",
       "      <td>20.0</td>\n",
       "      <td>85.0</td>\n",
       "    </tr>\n",
       "    <tr>\n",
       "      <th>144</th>\n",
       "      <td>99.3</td>\n",
       "      <td>42.7</td>\n",
       "      <td>80.8</td>\n",
       "      <td>6.8</td>\n",
       "      <td>26.5</td>\n",
       "      <td>79.5</td>\n",
       "    </tr>\n",
       "    <tr>\n",
       "      <th>137</th>\n",
       "      <td>57.9</td>\n",
       "      <td>26.2</td>\n",
       "      <td>49.2</td>\n",
       "      <td>6.2</td>\n",
       "      <td>21.0</td>\n",
       "      <td>67.2</td>\n",
       "    </tr>\n",
       "  </tbody>\n",
       "</table>\n",
       "</div>"
      ],
      "text/plain": [
       "         N     P      K   ph  temperature  moisture\n",
       "269  104.9  49.1   74.1  6.2         19.0      72.2\n",
       "25    25.8  13.2   16.2  5.5         15.2      45.8\n",
       "86   150.0  60.0  120.0  7.0         20.0      85.0\n",
       "144   99.3  42.7   80.8  6.8         26.5      79.5\n",
       "137   57.9  26.2   49.2  6.2         21.0      67.2"
      ]
     },
     "execution_count": 67,
     "metadata": {},
     "output_type": "execute_result"
    }
   ],
   "source": [
    "X_train.head()"
   ]
  },
  {
   "cell_type": "code",
   "execution_count": 68,
   "id": "6ce1b22f",
   "metadata": {},
   "outputs": [
    {
     "data": {
      "text/html": [
       "<div>\n",
       "<style scoped>\n",
       "    .dataframe tbody tr th:only-of-type {\n",
       "        vertical-align: middle;\n",
       "    }\n",
       "\n",
       "    .dataframe tbody tr th {\n",
       "        vertical-align: top;\n",
       "    }\n",
       "\n",
       "    .dataframe thead th {\n",
       "        text-align: right;\n",
       "    }\n",
       "</style>\n",
       "<table border=\"1\" class=\"dataframe\">\n",
       "  <thead>\n",
       "    <tr style=\"text-align: right;\">\n",
       "      <th></th>\n",
       "      <th>N</th>\n",
       "      <th>P</th>\n",
       "      <th>K</th>\n",
       "      <th>ph</th>\n",
       "      <th>temperature</th>\n",
       "      <th>moisture</th>\n",
       "    </tr>\n",
       "  </thead>\n",
       "  <tbody>\n",
       "    <tr>\n",
       "      <th>9</th>\n",
       "      <td>47.1</td>\n",
       "      <td>23.0</td>\n",
       "      <td>31.0</td>\n",
       "      <td>7.2</td>\n",
       "      <td>19.0</td>\n",
       "      <td>64.2</td>\n",
       "    </tr>\n",
       "    <tr>\n",
       "      <th>249</th>\n",
       "      <td>101.0</td>\n",
       "      <td>41.0</td>\n",
       "      <td>64.7</td>\n",
       "      <td>6.9</td>\n",
       "      <td>27.0</td>\n",
       "      <td>79.0</td>\n",
       "    </tr>\n",
       "    <tr>\n",
       "      <th>157</th>\n",
       "      <td>117.1</td>\n",
       "      <td>51.8</td>\n",
       "      <td>84.1</td>\n",
       "      <td>6.4</td>\n",
       "      <td>18.5</td>\n",
       "      <td>77.5</td>\n",
       "    </tr>\n",
       "    <tr>\n",
       "      <th>209</th>\n",
       "      <td>67.9</td>\n",
       "      <td>23.2</td>\n",
       "      <td>31.1</td>\n",
       "      <td>6.5</td>\n",
       "      <td>26.0</td>\n",
       "      <td>65.1</td>\n",
       "    </tr>\n",
       "    <tr>\n",
       "      <th>75</th>\n",
       "      <td>118.5</td>\n",
       "      <td>44.8</td>\n",
       "      <td>95.0</td>\n",
       "      <td>6.3</td>\n",
       "      <td>17.5</td>\n",
       "      <td>72.3</td>\n",
       "    </tr>\n",
       "  </tbody>\n",
       "</table>\n",
       "</div>"
      ],
      "text/plain": [
       "         N     P     K   ph  temperature  moisture\n",
       "9     47.1  23.0  31.0  7.2         19.0      64.2\n",
       "249  101.0  41.0  64.7  6.9         27.0      79.0\n",
       "157  117.1  51.8  84.1  6.4         18.5      77.5\n",
       "209   67.9  23.2  31.1  6.5         26.0      65.1\n",
       "75   118.5  44.8  95.0  6.3         17.5      72.3"
      ]
     },
     "execution_count": 68,
     "metadata": {},
     "output_type": "execute_result"
    }
   ],
   "source": [
    "X_test.head()"
   ]
  },
  {
   "cell_type": "code",
   "execution_count": 69,
   "id": "2422c386",
   "metadata": {},
   "outputs": [
    {
     "data": {
      "text/plain": [
       "((228, 6), (57, 6), (228,), (57,))"
      ]
     },
     "execution_count": 69,
     "metadata": {},
     "output_type": "execute_result"
    }
   ],
   "source": [
    "X_train.shape,X_test.shape,y_train.shape,y_test.shape"
   ]
  },
  {
   "cell_type": "code",
   "execution_count": 70,
   "id": "8d579b68",
   "metadata": {},
   "outputs": [],
   "source": [
    "from sklearn.compose import ColumnTransformer\n",
    "from sklearn.pipeline import Pipeline\n",
    "from sklearn.preprocessing import MinMaxScaler\n",
    "from sklearn.metrics import accuracy_score\n",
    "from sklearn.ensemble import RandomForestClassifier"
   ]
  },
  {
   "cell_type": "code",
   "execution_count": 71,
   "id": "3070762d",
   "metadata": {},
   "outputs": [
    {
     "name": "stdout",
     "output_type": "stream",
     "text": [
      "Random Forest Accuracy: 70.18%\n"
     ]
    }
   ],
   "source": [
    "from sklearn import metrics\n",
    "\n",
    "# X_train, X_test, y_train, y_test = train_test_split(X, y, test_size=0.2, random_state=0)\n",
    "RF = RandomForestClassifier()\n",
    "\n",
    "# Training\n",
    "RF.fit(X_train, y_train)\n",
    "y_pred = RF.predict(X_test)\n",
    "accuracy = metrics.accuracy_score(y_test, y_pred)\n",
    "print('Random Forest Accuracy: {}%'.format(round(accuracy * 100, 2)))"
   ]
  },
  {
   "cell_type": "code",
   "execution_count": 72,
   "id": "ffd75d68",
   "metadata": {},
   "outputs": [
    {
     "data": {
      "text/html": [
       "<style>#sk-container-id-2 {color: black;background-color: white;}#sk-container-id-2 pre{padding: 0;}#sk-container-id-2 div.sk-toggleable {background-color: white;}#sk-container-id-2 label.sk-toggleable__label {cursor: pointer;display: block;width: 100%;margin-bottom: 0;padding: 0.3em;box-sizing: border-box;text-align: center;}#sk-container-id-2 label.sk-toggleable__label-arrow:before {content: \"▸\";float: left;margin-right: 0.25em;color: #696969;}#sk-container-id-2 label.sk-toggleable__label-arrow:hover:before {color: black;}#sk-container-id-2 div.sk-estimator:hover label.sk-toggleable__label-arrow:before {color: black;}#sk-container-id-2 div.sk-toggleable__content {max-height: 0;max-width: 0;overflow: hidden;text-align: left;background-color: #f0f8ff;}#sk-container-id-2 div.sk-toggleable__content pre {margin: 0.2em;color: black;border-radius: 0.25em;background-color: #f0f8ff;}#sk-container-id-2 input.sk-toggleable__control:checked~div.sk-toggleable__content {max-height: 200px;max-width: 100%;overflow: auto;}#sk-container-id-2 input.sk-toggleable__control:checked~label.sk-toggleable__label-arrow:before {content: \"▾\";}#sk-container-id-2 div.sk-estimator input.sk-toggleable__control:checked~label.sk-toggleable__label {background-color: #d4ebff;}#sk-container-id-2 div.sk-label input.sk-toggleable__control:checked~label.sk-toggleable__label {background-color: #d4ebff;}#sk-container-id-2 input.sk-hidden--visually {border: 0;clip: rect(1px 1px 1px 1px);clip: rect(1px, 1px, 1px, 1px);height: 1px;margin: -1px;overflow: hidden;padding: 0;position: absolute;width: 1px;}#sk-container-id-2 div.sk-estimator {font-family: monospace;background-color: #f0f8ff;border: 1px dotted black;border-radius: 0.25em;box-sizing: border-box;margin-bottom: 0.5em;}#sk-container-id-2 div.sk-estimator:hover {background-color: #d4ebff;}#sk-container-id-2 div.sk-parallel-item::after {content: \"\";width: 100%;border-bottom: 1px solid gray;flex-grow: 1;}#sk-container-id-2 div.sk-label:hover label.sk-toggleable__label {background-color: #d4ebff;}#sk-container-id-2 div.sk-serial::before {content: \"\";position: absolute;border-left: 1px solid gray;box-sizing: border-box;top: 0;bottom: 0;left: 50%;z-index: 0;}#sk-container-id-2 div.sk-serial {display: flex;flex-direction: column;align-items: center;background-color: white;padding-right: 0.2em;padding-left: 0.2em;position: relative;}#sk-container-id-2 div.sk-item {position: relative;z-index: 1;}#sk-container-id-2 div.sk-parallel {display: flex;align-items: stretch;justify-content: center;background-color: white;position: relative;}#sk-container-id-2 div.sk-item::before, #sk-container-id-2 div.sk-parallel-item::before {content: \"\";position: absolute;border-left: 1px solid gray;box-sizing: border-box;top: 0;bottom: 0;left: 50%;z-index: -1;}#sk-container-id-2 div.sk-parallel-item {display: flex;flex-direction: column;z-index: 1;position: relative;background-color: white;}#sk-container-id-2 div.sk-parallel-item:first-child::after {align-self: flex-end;width: 50%;}#sk-container-id-2 div.sk-parallel-item:last-child::after {align-self: flex-start;width: 50%;}#sk-container-id-2 div.sk-parallel-item:only-child::after {width: 0;}#sk-container-id-2 div.sk-dashed-wrapped {border: 1px dashed gray;margin: 0 0.4em 0.5em 0.4em;box-sizing: border-box;padding-bottom: 0.4em;background-color: white;}#sk-container-id-2 div.sk-label label {font-family: monospace;font-weight: bold;display: inline-block;line-height: 1.2em;}#sk-container-id-2 div.sk-label-container {text-align: center;}#sk-container-id-2 div.sk-container {/* jupyter's `normalize.less` sets `[hidden] { display: none; }` but bootstrap.min.css set `[hidden] { display: none !important; }` so we also need the `!important` here to be able to override the default hidden behavior on the sphinx rendered scikit-learn.org. See: https://github.com/scikit-learn/scikit-learn/issues/21755 */display: inline-block !important;position: relative;}#sk-container-id-2 div.sk-text-repr-fallback {display: none;}</style><div id=\"sk-container-id-2\" class=\"sk-top-container\"><div class=\"sk-text-repr-fallback\"><pre>Pipeline(steps=[(&#x27;step1&#x27;, MinMaxScaler()),\n",
       "                (&#x27;step2&#x27;,\n",
       "                 RandomForestClassifier(n_estimators=10, n_jobs=-1,\n",
       "                                        random_state=42))])</pre><b>In a Jupyter environment, please rerun this cell to show the HTML representation or trust the notebook. <br />On GitHub, the HTML representation is unable to render, please try loading this page with nbviewer.org.</b></div><div class=\"sk-container\" hidden><div class=\"sk-item sk-dashed-wrapped\"><div class=\"sk-label-container\"><div class=\"sk-label sk-toggleable\"><input class=\"sk-toggleable__control sk-hidden--visually\" id=\"sk-estimator-id-4\" type=\"checkbox\" ><label for=\"sk-estimator-id-4\" class=\"sk-toggleable__label sk-toggleable__label-arrow\">Pipeline</label><div class=\"sk-toggleable__content\"><pre>Pipeline(steps=[(&#x27;step1&#x27;, MinMaxScaler()),\n",
       "                (&#x27;step2&#x27;,\n",
       "                 RandomForestClassifier(n_estimators=10, n_jobs=-1,\n",
       "                                        random_state=42))])</pre></div></div></div><div class=\"sk-serial\"><div class=\"sk-item\"><div class=\"sk-estimator sk-toggleable\"><input class=\"sk-toggleable__control sk-hidden--visually\" id=\"sk-estimator-id-5\" type=\"checkbox\" ><label for=\"sk-estimator-id-5\" class=\"sk-toggleable__label sk-toggleable__label-arrow\">MinMaxScaler</label><div class=\"sk-toggleable__content\"><pre>MinMaxScaler()</pre></div></div></div><div class=\"sk-item\"><div class=\"sk-estimator sk-toggleable\"><input class=\"sk-toggleable__control sk-hidden--visually\" id=\"sk-estimator-id-6\" type=\"checkbox\" ><label for=\"sk-estimator-id-6\" class=\"sk-toggleable__label sk-toggleable__label-arrow\">RandomForestClassifier</label><div class=\"sk-toggleable__content\"><pre>RandomForestClassifier(n_estimators=10, n_jobs=-1, random_state=42)</pre></div></div></div></div></div></div></div>"
      ],
      "text/plain": [
       "Pipeline(steps=[('step1', MinMaxScaler()),\n",
       "                ('step2',\n",
       "                 RandomForestClassifier(n_estimators=10, n_jobs=-1,\n",
       "                                        random_state=42))])"
      ]
     },
     "execution_count": 72,
     "metadata": {},
     "output_type": "execute_result"
    }
   ],
   "source": [
    "step1 = MinMaxScaler()\n",
    "step2 = RandomForestClassifier(n_jobs=-1, random_state=42, n_estimators=10)\n",
    "pipe = Pipeline([('step1', step1), ('step2', step2)])\n",
    "\n",
    "pipe.fit(X_train, y_train)"
   ]
  },
  {
   "cell_type": "code",
   "execution_count": 73,
   "id": "548497fd",
   "metadata": {},
   "outputs": [
    {
     "name": "stdout",
     "output_type": "stream",
     "text": [
      "Accuracy (Random Forest): 0.6842105263157895\n"
     ]
    }
   ],
   "source": [
    "from sklearn.ensemble import RandomForestClassifier\n",
    "\n",
    "# Replace the SVM classifier with a Random Forest Classifier\n",
    "step2_rf = RandomForestClassifier(n_estimators=100, random_state=42)\n",
    "\n",
    "# Create a new pipeline with the Random Forest Classifier\n",
    "pipe_rf = Pipeline([('step1', step1), ('step2_rf', step2_rf)])\n",
    "\n",
    "# Train the Random Forest model\n",
    "pipe_rf.fit(X_train, y_train)\n",
    "\n",
    "# Predict using the Random Forest model\n",
    "y_pred_rf = pipe_rf.predict(X_test)\n",
    "\n",
    "# Evaluate the accuracy of the Random Forest model\n",
    "accuracy_rf = accuracy_score(y_test, y_pred_rf)\n",
    "print('Accuracy (Random Forest):', accuracy_rf)"
   ]
  },
  {
   "cell_type": "code",
   "execution_count": null,
   "id": "19cf96e7",
   "metadata": {},
   "outputs": [],
   "source": []
  },
  {
   "cell_type": "code",
   "execution_count": 74,
   "id": "42854a6a",
   "metadata": {},
   "outputs": [
    {
     "name": "stdout",
     "output_type": "stream",
     "text": [
      "Accuracy (SVM): 0.42105263157894735\n"
     ]
    }
   ],
   "source": [
    "from sklearn.svm import SVC\n",
    "\n",
    "# Replace the Random Forest Classifier with a Support Vector Machine (SVM) classifier\n",
    "step2 = SVC(kernel='linear', C=1, random_state=42)\n",
    "\n",
    "# Create a new pipeline with the SVM classifier\n",
    "pipe_svm = Pipeline([('step1', step1), ('step2', step2)])\n",
    "\n",
    "# Train the SVM model\n",
    "pipe_svm.fit(X_train, y_train)\n",
    "\n",
    "# Predict using the SVM model\n",
    "y_pred_svm = pipe_svm.predict(X_test)\n",
    "\n",
    "# Evaluate the accuracy of the SVM model\n",
    "accuracy_svm = accuracy_score(y_test, y_pred_svm)\n",
    "print('Accuracy (SVM):', accuracy_svm)"
   ]
  },
  {
   "cell_type": "code",
   "execution_count": 75,
   "id": "b2fe550c",
   "metadata": {
    "scrolled": true
   },
   "outputs": [
    {
     "name": "stdout",
     "output_type": "stream",
     "text": [
      "Accuracy (Voting Classifier): 0.543859649122807\n"
     ]
    }
   ],
   "source": [
    "from sklearn.ensemble import VotingClassifier\n",
    "from sklearn.linear_model import LogisticRegression\n",
    "\n",
    "# Create instances of the classifiers\n",
    "rf_classifier = RandomForestClassifier(n_jobs=-1, random_state=42, n_estimators=10)\n",
    "svm_classifier = SVC(kernel='linear', C=1, random_state=42)\n",
    "lr_classifier = LogisticRegression(random_state=42)\n",
    "\n",
    "# Create a Voting Classifier with 'hard' voting (majority rule)\n",
    "voting_classifier = VotingClassifier(estimators=[\n",
    "    ('rf', rf_classifier),\n",
    "    ('svm', svm_classifier),\n",
    "    ('lr', lr_classifier)\n",
    "], voting='hard')\n",
    "\n",
    "# Create a pipeline including MinMax scaling\n",
    "pipe_voting = Pipeline([('step1', step1), ('step2', voting_classifier)])\n",
    "\n",
    "# Train the Voting Classifier\n",
    "pipe_voting.fit(X_train, y_train)\n",
    "\n",
    "# Predict using the Voting Classifier\n",
    "y_pred_voting = pipe_voting.predict(X_test)\n",
    "\n",
    "# Evaluate the accuracy of the Voting Classifier\n",
    "accuracy_voting = accuracy_score(y_test, y_pred_voting)\n",
    "print('Accuracy (Voting Classifier):', accuracy_voting)"
   ]
  },
  {
   "cell_type": "code",
   "execution_count": 76,
   "id": "96d93aa4",
   "metadata": {},
   "outputs": [
    {
     "name": "stdout",
     "output_type": "stream",
     "text": [
      "Accuracy (Gradient Boosting): 0.631578947368421\n"
     ]
    }
   ],
   "source": [
    "from sklearn.ensemble import GradientBoostingClassifier\n",
    "\n",
    "# Create a Gradient Boosting Classifier\n",
    "gb_classifier = GradientBoostingClassifier(random_state=42)\n",
    "\n",
    "# Create a pipeline including MinMax scaling\n",
    "pipe_gb = Pipeline([('step1', step1), ('step2', gb_classifier)])\n",
    "\n",
    "# Train the Gradient Boosting Classifier\n",
    "pipe_gb.fit(X_train, y_train)\n",
    "\n",
    "# Predict using the Gradient Boosting Classifier\n",
    "y_pred_gb = pipe_gb.predict(X_test)\n",
    "\n",
    "# Evaluate the accuracy of the Gradient Boosting Classifier\n",
    "accuracy_gb = accuracy_score(y_test, y_pred_gb)\n",
    "print('Accuracy (Gradient Boosting):', accuracy_gb)"
   ]
  },
  {
   "cell_type": "code",
   "execution_count": 77,
   "id": "c0890585",
   "metadata": {},
   "outputs": [
    {
     "name": "stdout",
     "output_type": "stream",
     "text": [
      "Requirement already satisfied: xgboost in c:\\users\\asus\\anaconda3\\lib\\site-packages (1.7.6)\n",
      "Requirement already satisfied: scipy in c:\\users\\asus\\anaconda3\\lib\\site-packages (from xgboost) (1.7.3)\n",
      "Requirement already satisfied: numpy in c:\\users\\asus\\anaconda3\\lib\\site-packages (from xgboost) (1.22.4)\n",
      "Note: you may need to restart the kernel to use updated packages.\n"
     ]
    }
   ],
   "source": [
    "pip install xgboost"
   ]
  },
  {
   "cell_type": "code",
   "execution_count": 78,
   "id": "63c9d88b",
   "metadata": {},
   "outputs": [
    {
     "name": "stdout",
     "output_type": "stream",
     "text": [
      "Accuracy (XGBoost): 0.5964912280701754\n"
     ]
    }
   ],
   "source": [
    "import xgboost as xgb\n",
    "\n",
    "# Create an XGBoost Classifier\n",
    "xgb_classifier = xgb.XGBClassifier(random_state=42)\n",
    "\n",
    "# Create a pipeline including MinMax scaling\n",
    "pipe_xgb = Pipeline([('step1', step1), ('step2', xgb_classifier)])\n",
    "\n",
    "# Train the XGBoost Classifier\n",
    "pipe_xgb.fit(X_train, y_train)\n",
    "\n",
    "# Predict using the XGBoost Classifier\n",
    "y_pred_xgb = pipe_xgb.predict(X_test)\n",
    "\n",
    "# Evaluate the accuracy of the XGBoost Classifier\n",
    "accuracy_xgb = accuracy_score(y_test, y_pred_xgb)\n",
    "print('Accuracy (XGBoost):', accuracy_xgb)"
   ]
  },
  {
   "cell_type": "code",
   "execution_count": 79,
   "id": "bbe7fa30",
   "metadata": {},
   "outputs": [],
   "source": [
    "import joblib"
   ]
  },
  {
   "cell_type": "code",
   "execution_count": 80,
   "id": "6e3c8a9f",
   "metadata": {},
   "outputs": [
    {
     "data": {
      "text/plain": [
       "['../SavedModels/crop.joblib']"
      ]
     },
     "execution_count": 80,
     "metadata": {},
     "output_type": "execute_result"
    }
   ],
   "source": [
    "joblib.dump(RF, '../SavedModels/crop.joblib')"
   ]
  },
  {
   "cell_type": "code",
   "execution_count": 81,
   "id": "8d110192",
   "metadata": {},
   "outputs": [
    {
     "name": "stdout",
     "output_type": "stream",
     "text": [
      "Accuracy: 0.7017543859649122\n"
     ]
    }
   ],
   "source": [
    "y_pred = RF.predict(X_test)\n",
    "print('Accuracy:', accuracy_score(y_test, y_pred))"
   ]
  },
  {
   "cell_type": "code",
   "execution_count": 82,
   "id": "2b116674",
   "metadata": {
    "scrolled": true
   },
   "outputs": [
    {
     "name": "stdout",
     "output_type": "stream",
     "text": [
      "N\n",
      "P\n",
      "K\n",
      "ph\n",
      "temperature\n",
      "moisture\n"
     ]
    }
   ],
   "source": [
    "for column in X.columns:\n",
    "  print(column)"
   ]
  },
  {
   "cell_type": "code",
   "execution_count": 83,
   "id": "2c8bb5f2",
   "metadata": {
    "scrolled": true
   },
   "outputs": [
    {
     "name": "stderr",
     "output_type": "stream",
     "text": [
      "C:\\Users\\ASUS\\anaconda3\\lib\\site-packages\\sklearn\\base.py:450: UserWarning:\n",
      "\n",
      "X does not have valid feature names, but RandomForestClassifier was fitted with feature names\n",
      "\n"
     ]
    },
    {
     "data": {
      "text/plain": [
       "3"
      ]
     },
     "execution_count": 83,
     "metadata": {},
     "output_type": "execute_result"
    }
   ],
   "source": [
    "df = [[30,35,20,7.5,40,80]]\n",
    "\n",
    "RF.predict(df)[0]"
   ]
  },
  {
   "cell_type": "code",
   "execution_count": 84,
   "id": "72d66341",
   "metadata": {
    "scrolled": false
   },
   "outputs": [
    {
     "name": "stdout",
     "output_type": "stream",
     "text": [
      "[11  9 10 13  5 15 17  4  3 15  2 17  9  1  0 14 15  9 10  3  7 11 11 14\n",
      "  2  8 18 18 16  7 16 17  1  2  5 13  4  5  1 12  3  0  1  8  4 13 14 16\n",
      "  8 13 17  4  8  0  8 10 18]\n"
     ]
    },
    {
     "ename": "NameError",
     "evalue": "name 'y_pred_classes' is not defined",
     "output_type": "error",
     "traceback": [
      "\u001b[1;31m---------------------------------------------------------------------------\u001b[0m",
      "\u001b[1;31mNameError\u001b[0m                                 Traceback (most recent call last)",
      "Input \u001b[1;32mIn [84]\u001b[0m, in \u001b[0;36m<cell line: 2>\u001b[1;34m()\u001b[0m\n\u001b[0;32m      1\u001b[0m \u001b[38;5;28mprint\u001b[39m(y_pred)\n\u001b[1;32m----> 2\u001b[0m \u001b[38;5;28mprint\u001b[39m(\u001b[43my_pred_classes\u001b[49m)\n",
      "\u001b[1;31mNameError\u001b[0m: name 'y_pred_classes' is not defined"
     ]
    }
   ],
   "source": [
    "print(y_pred)\n",
    "print(y_pred_classes)"
   ]
  }
 ],
 "metadata": {
  "kernelspec": {
   "display_name": "Python 3 (ipykernel)",
   "language": "python",
   "name": "python3"
  },
  "language_info": {
   "codemirror_mode": {
    "name": "ipython",
    "version": 3
   },
   "file_extension": ".py",
   "mimetype": "text/x-python",
   "name": "python",
   "nbconvert_exporter": "python",
   "pygments_lexer": "ipython3",
   "version": "3.9.12"
  }
 },
 "nbformat": 4,
 "nbformat_minor": 5
}
