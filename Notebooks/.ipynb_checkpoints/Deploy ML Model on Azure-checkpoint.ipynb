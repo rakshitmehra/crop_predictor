{
 "cells": [
  {
   "cell_type": "code",
   "execution_count": 1,
   "id": "51b7a4e5",
   "metadata": {},
   "outputs": [
    {
     "name": "stdout",
     "output_type": "stream",
     "text": [
      "Requirement already satisfied: azureml-sdk in c:\\users\\asus\\anaconda3\\lib\\site-packages (1.55.0)\n",
      "Requirement already satisfied: azureml-dataset-runtime[fuse]~=1.55.0 in c:\\users\\asus\\anaconda3\\lib\\site-packages (from azureml-sdk) (1.55.0)\n",
      "Requirement already satisfied: azureml-core~=1.55.0 in c:\\users\\asus\\anaconda3\\lib\\site-packages (from azureml-sdk) (1.55.0)\n",
      "Requirement already satisfied: azureml-train-core~=1.55.0 in c:\\users\\asus\\anaconda3\\lib\\site-packages (from azureml-sdk) (1.55.0)\n",
      "Requirement already satisfied: azureml-train-automl-client~=1.55.0 in c:\\users\\asus\\anaconda3\\lib\\site-packages (from azureml-sdk) (1.55.0)\n",
      "Requirement already satisfied: azureml-pipeline~=1.55.0 in c:\\users\\asus\\anaconda3\\lib\\site-packages (from azureml-sdk) (1.55.0)\n",
      "Requirement already satisfied: azure-graphrbac<1.0.0,>=0.40.0 in c:\\users\\asus\\anaconda3\\lib\\site-packages (from azureml-core~=1.55.0->azureml-sdk) (0.61.1)\n",
      "Requirement already satisfied: urllib3<3.0.0,>1.26.17 in c:\\users\\asus\\anaconda3\\lib\\site-packages (from azureml-core~=1.55.0->azureml-sdk) (1.26.18)\n",
      "Requirement already satisfied: ndg-httpsclient<=0.5.1 in c:\\users\\asus\\anaconda3\\lib\\site-packages (from azureml-core~=1.55.0->azureml-sdk) (0.5.1)\n",
      "Requirement already satisfied: argcomplete<4 in c:\\users\\asus\\anaconda3\\lib\\site-packages (from azureml-core~=1.55.0->azureml-sdk) (3.2.2)\n",
      "Requirement already satisfied: azure-mgmt-network<=25.2.0 in c:\\users\\asus\\anaconda3\\lib\\site-packages (from azureml-core~=1.55.0->azureml-sdk) (25.2.0)\n",
      "Requirement already satisfied: paramiko<4.0.0,>=2.0.8 in c:\\users\\asus\\anaconda3\\lib\\site-packages (from azureml-core~=1.55.0->azureml-sdk) (2.8.1)\n",
      "Requirement already satisfied: msrestazure<=0.6.4,>=0.4.33 in c:\\users\\asus\\anaconda3\\lib\\site-packages (from azureml-core~=1.55.0->azureml-sdk) (0.6.4)\n",
      "Requirement already satisfied: PyJWT<3.0.0 in c:\\users\\asus\\anaconda3\\lib\\site-packages (from azureml-core~=1.55.0->azureml-sdk) (2.4.0)\n",
      "Requirement already satisfied: msal-extensions<=2.0.0,>=0.3.0 in c:\\users\\asus\\anaconda3\\lib\\site-packages (from azureml-core~=1.55.0->azureml-sdk) (1.1.0)\n",
      "Requirement already satisfied: pyopenssl<24.0.0 in c:\\users\\asus\\anaconda3\\lib\\site-packages (from azureml-core~=1.55.0->azureml-sdk) (22.0.0)\n",
      "Requirement already satisfied: azure-core<2.0.0 in c:\\users\\asus\\anaconda3\\lib\\site-packages (from azureml-core~=1.55.0->azureml-sdk) (1.30.0)\n",
      "Requirement already satisfied: SecretStorage<4.0.0 in c:\\users\\asus\\anaconda3\\lib\\site-packages (from azureml-core~=1.55.0->azureml-sdk) (3.3.3)\n",
      "Requirement already satisfied: requests[socks]<3.0.0,>=2.19.1 in c:\\users\\asus\\anaconda3\\lib\\site-packages (from azureml-core~=1.55.0->azureml-sdk) (2.28.1)\n",
      "Requirement already satisfied: azure-mgmt-keyvault<11.0.0,>=0.40.0 in c:\\users\\asus\\anaconda3\\lib\\site-packages (from azureml-core~=1.55.0->azureml-sdk) (10.3.0)\n",
      "Requirement already satisfied: azure-mgmt-resource<=24.0.0,>=15.0.0 in c:\\users\\asus\\anaconda3\\lib\\site-packages (from azureml-core~=1.55.0->azureml-sdk) (23.0.1)\n",
      "Requirement already satisfied: packaging<=24.0,>=20.0 in c:\\users\\asus\\anaconda3\\lib\\site-packages (from azureml-core~=1.55.0->azureml-sdk) (21.3)\n",
      "Requirement already satisfied: knack<0.12.0 in c:\\users\\asus\\anaconda3\\lib\\site-packages (from azureml-core~=1.55.0->azureml-sdk) (0.11.0)\n",
      "Requirement already satisfied: pkginfo in c:\\users\\asus\\anaconda3\\lib\\site-packages (from azureml-core~=1.55.0->azureml-sdk) (1.8.2)\n",
      "Requirement already satisfied: backports.tempfile in c:\\users\\asus\\anaconda3\\lib\\site-packages (from azureml-core~=1.55.0->azureml-sdk) (1.0)\n",
      "Requirement already satisfied: docker<8.0.0 in c:\\users\\asus\\anaconda3\\lib\\site-packages (from azureml-core~=1.55.0->azureml-sdk) (7.0.0)\n",
      "Requirement already satisfied: azure-mgmt-storage<=22.0.0,>=16.0.0 in c:\\users\\asus\\anaconda3\\lib\\site-packages (from azureml-core~=1.55.0->azureml-sdk) (21.1.0)\n",
      "Requirement already satisfied: adal<=1.2.7,>=1.2.0 in c:\\users\\asus\\anaconda3\\lib\\site-packages (from azureml-core~=1.55.0->azureml-sdk) (1.2.7)\n",
      "Requirement already satisfied: azure-mgmt-authorization<5,>=0.40.0 in c:\\users\\asus\\anaconda3\\lib\\site-packages (from azureml-core~=1.55.0->azureml-sdk) (4.0.0)\n",
      "Requirement already satisfied: azure-common<2.0.0,>=1.1.12 in c:\\users\\asus\\anaconda3\\lib\\site-packages (from azureml-core~=1.55.0->azureml-sdk) (1.1.28)\n",
      "Requirement already satisfied: azure-mgmt-containerregistry<11,>=8.2.0 in c:\\users\\asus\\anaconda3\\lib\\site-packages (from azureml-core~=1.55.0->azureml-sdk) (10.3.0)\n",
      "Requirement already satisfied: humanfriendly<11.0,>=4.7 in c:\\users\\asus\\anaconda3\\lib\\site-packages (from azureml-core~=1.55.0->azureml-sdk) (10.0)\n",
      "Requirement already satisfied: msal<2.0.0,>=1.15.0 in c:\\users\\asus\\anaconda3\\lib\\site-packages (from azureml-core~=1.55.0->azureml-sdk) (1.26.0)\n",
      "Requirement already satisfied: jsonpickle<4.0.0 in c:\\users\\asus\\anaconda3\\lib\\site-packages (from azureml-core~=1.55.0->azureml-sdk) (3.0.2)\n",
      "Requirement already satisfied: msrest<=0.7.1,>=0.5.1 in c:\\users\\asus\\anaconda3\\lib\\site-packages (from azureml-core~=1.55.0->azureml-sdk) (0.7.1)\n",
      "Requirement already satisfied: python-dateutil<3.0.0,>=2.7.3 in c:\\users\\asus\\anaconda3\\lib\\site-packages (from azureml-core~=1.55.0->azureml-sdk) (2.8.2)\n",
      "Requirement already satisfied: pathspec<1.0.0 in c:\\users\\asus\\anaconda3\\lib\\site-packages (from azureml-core~=1.55.0->azureml-sdk) (0.9.0)\n",
      "Requirement already satisfied: jmespath<2.0.0 in c:\\users\\asus\\anaconda3\\lib\\site-packages (from azureml-core~=1.55.0->azureml-sdk) (0.10.0)\n",
      "Requirement already satisfied: pytz in c:\\users\\asus\\anaconda3\\lib\\site-packages (from azureml-core~=1.55.0->azureml-sdk) (2022.1)\n",
      "Requirement already satisfied: contextlib2<22.0.0 in c:\\users\\asus\\anaconda3\\lib\\site-packages (from azureml-core~=1.55.0->azureml-sdk) (21.6.0)\n",
      "Requirement already satisfied: pyarrow>=0.17.0 in c:\\users\\asus\\anaconda3\\lib\\site-packages (from azureml-dataset-runtime[fuse]~=1.55.0->azureml-sdk) (15.0.0)\n",
      "Requirement already satisfied: azureml-dataprep<5.2.0a,>=5.1.0a in c:\\users\\asus\\anaconda3\\lib\\site-packages (from azureml-dataset-runtime[fuse]~=1.55.0->azureml-sdk) (5.1.4)\n",
      "Requirement already satisfied: numpy!=1.19.4,<1.24 in c:\\users\\asus\\anaconda3\\lib\\site-packages (from azureml-dataset-runtime[fuse]~=1.55.0->azureml-sdk) (1.22.4)\n",
      "Requirement already satisfied: fusepy<4.0.0,>=3.0.1 in c:\\users\\asus\\anaconda3\\lib\\site-packages (from azureml-dataset-runtime[fuse]~=1.55.0->azureml-sdk) (3.0.1)\n",
      "Requirement already satisfied: azureml-pipeline-steps~=1.55.0 in c:\\users\\asus\\anaconda3\\lib\\site-packages (from azureml-pipeline~=1.55.0->azureml-sdk) (1.55.0)\n",
      "Requirement already satisfied: azureml-pipeline-core~=1.55.0 in c:\\users\\asus\\anaconda3\\lib\\site-packages (from azureml-pipeline~=1.55.0->azureml-sdk) (1.55.0)\n",
      "Requirement already satisfied: azureml-telemetry~=1.55.0 in c:\\users\\asus\\anaconda3\\lib\\site-packages (from azureml-train-automl-client~=1.55.0->azureml-sdk) (1.55.0)\n",
      "Requirement already satisfied: azureml-automl-core~=1.55.0 in c:\\users\\asus\\anaconda3\\lib\\site-packages (from azureml-train-automl-client~=1.55.0->azureml-sdk) (1.55.0)\n",
      "Requirement already satisfied: azureml-train-restclients-hyperdrive~=1.55.0 in c:\\users\\asus\\anaconda3\\lib\\site-packages (from azureml-train-core~=1.55.0->azureml-sdk) (1.55.0)\n",
      "Requirement already satisfied: cryptography>=1.1.0 in c:\\users\\asus\\anaconda3\\lib\\site-packages (from adal<=1.2.7,>=1.2.0->azureml-core~=1.55.0->azureml-sdk) (37.0.1)\n",
      "Requirement already satisfied: typing-extensions>=4.6.0 in c:\\users\\asus\\anaconda3\\lib\\site-packages (from azure-core<2.0.0->azureml-core~=1.55.0->azureml-sdk) (4.9.0)\n",
      "Requirement already satisfied: six>=1.11.0 in c:\\users\\asus\\anaconda3\\lib\\site-packages (from azure-core<2.0.0->azureml-core~=1.55.0->azureml-sdk) (1.16.0)\n",
      "Requirement already satisfied: azure-mgmt-core<2.0.0,>=1.3.2 in c:\\users\\asus\\anaconda3\\lib\\site-packages (from azure-mgmt-authorization<5,>=0.40.0->azureml-core~=1.55.0->azureml-sdk) (1.4.0)\n",
      "Requirement already satisfied: isodate<1.0.0,>=0.6.1 in c:\\users\\asus\\anaconda3\\lib\\site-packages (from azure-mgmt-authorization<5,>=0.40.0->azureml-core~=1.55.0->azureml-sdk) (0.6.1)\n",
      "Requirement already satisfied: cloudpickle<3.0.0,>=1.1.0 in c:\\users\\asus\\anaconda3\\lib\\site-packages (from azureml-dataprep<5.2.0a,>=5.1.0a->azureml-dataset-runtime[fuse]~=1.55.0->azureml-sdk) (2.0.0)\n",
      "Requirement already satisfied: azure-identity>=1.7.0 in c:\\users\\asus\\anaconda3\\lib\\site-packages (from azureml-dataprep<5.2.0a,>=5.1.0a->azureml-dataset-runtime[fuse]~=1.55.0->azureml-sdk) (1.15.0)\n",
      "Requirement already satisfied: pyyaml<7.0.0,>=5.1.0 in c:\\users\\asus\\anaconda3\\lib\\site-packages (from azureml-dataprep<5.2.0a,>=5.1.0a->azureml-dataset-runtime[fuse]~=1.55.0->azureml-sdk) (6.0)\n",
      "Requirement already satisfied: azureml-dataprep-rslex~=2.22.2dev0 in c:\\users\\asus\\anaconda3\\lib\\site-packages (from azureml-dataprep<5.2.0a,>=5.1.0a->azureml-dataset-runtime[fuse]~=1.55.0->azureml-sdk) (2.22.2)\n",
      "Requirement already satisfied: azureml-dataprep-native<42.0.0,>=41.0.0 in c:\\users\\asus\\anaconda3\\lib\\site-packages (from azureml-dataprep<5.2.0a,>=5.1.0a->azureml-dataset-runtime[fuse]~=1.55.0->azureml-sdk) (41.0.0)\n",
      "Requirement already satisfied: jsonschema in c:\\users\\asus\\anaconda3\\lib\\site-packages (from azureml-dataprep<5.2.0a,>=5.1.0a->azureml-dataset-runtime[fuse]~=1.55.0->azureml-sdk) (4.4.0)\n",
      "Requirement already satisfied: applicationinsights in c:\\users\\asus\\anaconda3\\lib\\site-packages (from azureml-telemetry~=1.55.0->azureml-train-automl-client~=1.55.0->azureml-sdk) (0.11.10)\n",
      "Requirement already satisfied: pywin32>=304 in c:\\users\\asus\\anaconda3\\lib\\site-packages (from docker<8.0.0->azureml-core~=1.55.0->azureml-sdk) (306)\n",
      "Requirement already satisfied: pyreadline3 in c:\\users\\asus\\anaconda3\\lib\\site-packages (from humanfriendly<11.0,>=4.7->azureml-core~=1.55.0->azureml-sdk) (3.4.1)\n",
      "Requirement already satisfied: tabulate in c:\\users\\asus\\anaconda3\\lib\\site-packages (from knack<0.12.0->azureml-core~=1.55.0->azureml-sdk) (0.8.10)\n",
      "Requirement already satisfied: pygments in c:\\users\\asus\\anaconda3\\lib\\site-packages (from knack<0.12.0->azureml-core~=1.55.0->azureml-sdk) (2.11.2)\n",
      "Requirement already satisfied: portalocker<3,>=1.6 in c:\\users\\asus\\anaconda3\\lib\\site-packages (from msal-extensions<=2.0.0,>=0.3.0->azureml-core~=1.55.0->azureml-sdk) (2.8.2)\n",
      "Requirement already satisfied: certifi>=2017.4.17 in c:\\users\\asus\\anaconda3\\lib\\site-packages (from msrest<=0.7.1,>=0.5.1->azureml-core~=1.55.0->azureml-sdk) (2022.6.15)\n",
      "Requirement already satisfied: requests-oauthlib>=0.5.0 in c:\\users\\asus\\anaconda3\\lib\\site-packages (from msrest<=0.7.1,>=0.5.1->azureml-core~=1.55.0->azureml-sdk) (1.3.1)\n",
      "Requirement already satisfied: pyasn1>=0.1.1 in c:\\users\\asus\\anaconda3\\lib\\site-packages (from ndg-httpsclient<=0.5.1->azureml-core~=1.55.0->azureml-sdk) (0.4.8)\n",
      "Requirement already satisfied: pyparsing!=3.0.5,>=2.0.2 in c:\\users\\asus\\anaconda3\\lib\\site-packages (from packaging<=24.0,>=20.0->azureml-core~=1.55.0->azureml-sdk) (3.0.4)\n",
      "Requirement already satisfied: pynacl>=1.0.1 in c:\\users\\asus\\anaconda3\\lib\\site-packages (from paramiko<4.0.0,>=2.0.8->azureml-core~=1.55.0->azureml-sdk) (1.5.0)\n",
      "Requirement already satisfied: bcrypt>=3.1.3 in c:\\users\\asus\\anaconda3\\lib\\site-packages (from paramiko<4.0.0,>=2.0.8->azureml-core~=1.55.0->azureml-sdk) (3.2.0)\n",
      "Requirement already satisfied: idna<4,>=2.5 in c:\\users\\asus\\anaconda3\\lib\\site-packages (from requests[socks]<3.0.0,>=2.19.1->azureml-core~=1.55.0->azureml-sdk) (3.3)\n",
      "Requirement already satisfied: charset-normalizer<3,>=2 in c:\\users\\asus\\anaconda3\\lib\\site-packages (from requests[socks]<3.0.0,>=2.19.1->azureml-core~=1.55.0->azureml-sdk) (2.0.4)\n",
      "Requirement already satisfied: PySocks!=1.5.7,>=1.5.6 in c:\\users\\asus\\anaconda3\\lib\\site-packages (from requests[socks]<3.0.0,>=2.19.1->azureml-core~=1.55.0->azureml-sdk) (1.7.1)\n",
      "Requirement already satisfied: jeepney>=0.6 in c:\\users\\asus\\anaconda3\\lib\\site-packages (from SecretStorage<4.0.0->azureml-core~=1.55.0->azureml-sdk) (0.8.0)\n",
      "Requirement already satisfied: backports.weakref in c:\\users\\asus\\anaconda3\\lib\\site-packages (from backports.tempfile->azureml-core~=1.55.0->azureml-sdk) (1.0.post1)\n",
      "Requirement already satisfied: cffi>=1.1 in c:\\users\\asus\\anaconda3\\lib\\site-packages (from bcrypt>=3.1.3->paramiko<4.0.0,>=2.0.8->azureml-core~=1.55.0->azureml-sdk) (1.15.1)\n",
      "Requirement already satisfied: oauthlib>=3.0.0 in c:\\users\\asus\\anaconda3\\lib\\site-packages (from requests-oauthlib>=0.5.0->msrest<=0.7.1,>=0.5.1->azureml-core~=1.55.0->azureml-sdk) (3.2.2)\n",
      "Requirement already satisfied: attrs>=17.4.0 in c:\\users\\asus\\anaconda3\\lib\\site-packages (from jsonschema->azureml-dataprep<5.2.0a,>=5.1.0a->azureml-dataset-runtime[fuse]~=1.55.0->azureml-sdk) (21.4.0)\n",
      "Requirement already satisfied: pyrsistent!=0.17.0,!=0.17.1,!=0.17.2,>=0.14.0 in c:\\users\\asus\\anaconda3\\lib\\site-packages (from jsonschema->azureml-dataprep<5.2.0a,>=5.1.0a->azureml-dataset-runtime[fuse]~=1.55.0->azureml-sdk) (0.18.0)\n",
      "Requirement already satisfied: pycparser in c:\\users\\asus\\anaconda3\\lib\\site-packages (from cffi>=1.1->bcrypt>=3.1.3->paramiko<4.0.0,>=2.0.8->azureml-core~=1.55.0->azureml-sdk) (2.21)\n"
     ]
    }
   ],
   "source": [
    "!pip install azureml-sdk"
   ]
  },
  {
   "cell_type": "code",
   "execution_count": 2,
   "id": "d6b74625",
   "metadata": {},
   "outputs": [
    {
     "name": "stderr",
     "output_type": "stream",
     "text": [
      "C:\\Users\\ASUS\\anaconda3\\lib\\site-packages\\paramiko\\transport.py:219: CryptographyDeprecationWarning: Blowfish has been deprecated\n",
      "  \"class\": algorithms.Blowfish,\n"
     ]
    }
   ],
   "source": [
    "import os\n",
    "import json\n",
    "import requests\n",
    "\n",
    "from azureml.core import Workspace\n",
    "from azureml.core.model import Model\n",
    "from azureml.core.environment import Environment\n",
    "from azureml.core.conda_dependencies import CondaDependencies\n",
    "from azureml.core.model import InferenceConfig\n",
    "from azureml.core.webservice import AciWebservice, Webservice"
   ]
  },
  {
   "cell_type": "code",
   "execution_count": 3,
   "id": "194c7143",
   "metadata": {},
   "outputs": [],
   "source": [
    "# laoding the configuration file - standard way - use .env file and load_dotenv from python-dotenv module\n",
    "config_file_path = \"config.json\"\n",
    "\n",
    "# Read JSON data into a dictionary\n",
    "with open(config_file_path, 'r') as file:\n",
    "    data = json.load(file)\n",
    "\n",
    "subscription_id = data[\"subscription_id\"]\n",
    "resource_group = data[\"resource_group\"]  \n",
    "workspace_name = data[\"workspace_name\"]\n",
    "region = data[\"region\"]"
   ]
  },
  {
   "cell_type": "code",
   "execution_count": 4,
   "id": "28d8e450",
   "metadata": {},
   "outputs": [
    {
     "name": "stdout",
     "output_type": "stream",
     "text": [
      "ml-model-deployment-rg\n",
      "deploy-ml-model\n",
      "centralindia\n"
     ]
    }
   ],
   "source": [
    "print(resource_group)\n",
    "print(workspace_name)\n",
    "print(region)"
   ]
  },
  {
   "cell_type": "code",
   "execution_count": 5,
   "id": "6e8ba6ad",
   "metadata": {},
   "outputs": [
    {
     "name": "stdout",
     "output_type": "stream",
     "text": [
      "Requirement already satisfied: pywin32 in c:\\users\\asus\\anaconda3\\lib\\site-packages (306)\n"
     ]
    }
   ],
   "source": [
    "# Create a workspace\n",
    "!pip install pywin32"
   ]
  },
  {
   "cell_type": "code",
   "execution_count": 6,
   "id": "f9b9a8e5",
   "metadata": {},
   "outputs": [
    {
     "name": "stdout",
     "output_type": "stream",
     "text": [
      "Performing interactive authentication. Please follow the instructions on the terminal.\n"
     ]
    },
    {
     "name": "stderr",
     "output_type": "stream",
     "text": [
      "The default web browser has been opened at https://login.microsoftonline.com/organizations/oauth2/v2.0/authorize. Please continue the login in the web browser. If no web browser is available or if the web browser fails to open, use device code flow with `az login --use-device-code`.\n"
     ]
    },
    {
     "name": "stdout",
     "output_type": "stream",
     "text": [
      "Interactive authentication successfully completed.\n",
      "Deploying KeyVault with name deploymlkeyvault6fc9f8bd.\n",
      "Deploying StorageAccount with name deploymlstorage2376b33c6.\n",
      "Deployed KeyVault with name deploymlkeyvault6fc9f8bd. Took 96.99 seconds.\n",
      "Deployed StorageAccount with name deploymlstorage2376b33c6. Took 110.12 seconds.\n",
      "Deploying AppInsights with name deploymlinsights56083dc7.\n",
      "Deployed AppInsights with name deploymlinsights56083dc7. Took 5.1 seconds.\n",
      "Deploying Workspace with name deploy-ml-model.\n",
      "Deployed Workspace with name deploy-ml-model. Took 35.96 seconds.\n",
      "Workspace deploy-ml-model created\n"
     ]
    }
   ],
   "source": [
    "ws = Workspace.create(name=workspace_name,\n",
    "                      subscription_id=subscription_id,\n",
    "                      resource_group=resource_group,\n",
    "                      location=region)\n",
    "\n",
    "print(f'Workspace {workspace_name} created')"
   ]
  },
  {
   "cell_type": "code",
   "execution_count": 7,
   "id": "b4918886",
   "metadata": {},
   "outputs": [],
   "source": [
    "# Specify the path to your  model file\n",
    "model_path = '../SavedModels/fruits1.joblib'"
   ]
  },
  {
   "cell_type": "code",
   "execution_count": 8,
   "id": "aeb181d5",
   "metadata": {},
   "outputs": [],
   "source": [
    "model_name='crop_prediction_model'"
   ]
  },
  {
   "cell_type": "code",
   "execution_count": 9,
   "id": "9825264d",
   "metadata": {},
   "outputs": [
    {
     "name": "stdout",
     "output_type": "stream",
     "text": [
      "Registering model crop_prediction_model\n"
     ]
    }
   ],
   "source": [
    "# Register the model in Azure Machine Learning\n",
    "registered_model = Model.register(model_path=model_path, model_name=model_name, workspace=ws)"
   ]
  },
  {
   "cell_type": "code",
   "execution_count": 38,
   "id": "977e3b40",
   "metadata": {},
   "outputs": [],
   "source": [
    "# Create a Conda environment for your scikit-learn model\n",
    "conda_env = Environment('my-conda-env')\n",
    "conda_packages = ['scikit-learn', 'streamlit']\n",
    "conda_env.python.conda_dependencies = CondaDependencies.create(conda_packages=conda_packages)"
   ]
  },
  {
   "cell_type": "code",
   "execution_count": 39,
   "id": "c1ad7008",
   "metadata": {},
   "outputs": [],
   "source": [
    "# Create an InferenceConfig\n",
    "inference_config = InferenceConfig(entry_script='../crop_prediction.py', environment=conda_env)"
   ]
  },
  {
   "cell_type": "code",
   "execution_count": 43,
   "id": "ceaf2574",
   "metadata": {},
   "outputs": [
    {
     "ename": "TypeError",
     "evalue": "deploy_configuration() got an unexpected keyword argument 'requirement'",
     "output_type": "error",
     "traceback": [
      "\u001b[1;31m---------------------------------------------------------------------------\u001b[0m",
      "\u001b[1;31mTypeError\u001b[0m                                 Traceback (most recent call last)",
      "Input \u001b[1;32mIn [43]\u001b[0m, in \u001b[0;36m<cell line: 2>\u001b[1;34m()\u001b[0m\n\u001b[0;32m      1\u001b[0m \u001b[38;5;66;03m# Specify deployment configuration for ACI\u001b[39;00m\n\u001b[1;32m----> 2\u001b[0m aci_config \u001b[38;5;241m=\u001b[39m \u001b[43mAciWebservice\u001b[49m\u001b[38;5;241;43m.\u001b[39;49m\u001b[43mdeploy_configuration\u001b[49m\u001b[43m(\u001b[49m\u001b[43mcpu_cores\u001b[49m\u001b[38;5;241;43m=\u001b[39;49m\u001b[38;5;241;43m1\u001b[39;49m\u001b[43m,\u001b[49m\u001b[43m \u001b[49m\u001b[43mmemory_gb\u001b[49m\u001b[38;5;241;43m=\u001b[39;49m\u001b[38;5;241;43m1\u001b[39;49m\u001b[43m,\u001b[49m\n\u001b[0;32m      3\u001b[0m \u001b[43m                                                \u001b[49m\u001b[43mdescription\u001b[49m\u001b[38;5;241;43m=\u001b[39;49m\u001b[38;5;124;43m'\u001b[39;49m\u001b[38;5;124;43mA sample web service\u001b[39;49m\u001b[38;5;124;43m'\u001b[39;49m\u001b[43m,\u001b[49m\n\u001b[0;32m      4\u001b[0m \u001b[43m                                                \u001b[49m\u001b[43mrequirement\u001b[49m\u001b[38;5;241;43m=\u001b[39;49m\u001b[43m[\u001b[49m\u001b[38;5;124;43m'\u001b[39;49m\u001b[38;5;124;43m../requirements.txt\u001b[39;49m\u001b[38;5;124;43m'\u001b[39;49m\u001b[43m]\u001b[49m\u001b[43m)\u001b[49m\n",
      "\u001b[1;31mTypeError\u001b[0m: deploy_configuration() got an unexpected keyword argument 'requirement'"
     ]
    }
   ],
   "source": [
    "# Specify deployment configuration for ACI\n",
    "aci_config = AciWebservice.deploy_configuration(cpu_cores=1, memory_gb=1,\n",
    "                                                description='A sample web service',\n",
    "                                                requirement=['../requirements.txt'])"
   ]
  },
  {
   "cell_type": "code",
   "execution_count": 37,
   "id": "ea518ce6",
   "metadata": {
    "scrolled": false
   },
   "outputs": [
    {
     "name": "stderr",
     "output_type": "stream",
     "text": [
      "C:\\Users\\ASUS\\AppData\\Local\\Temp\\ipykernel_24764\\3621203496.py:1: FutureWarning: azureml.core.model:\n",
      "To leverage new model deployment capabilities, AzureML recommends using CLI/SDK v2 to deploy models as online endpoint, \n",
      "please refer to respective documentations \n",
      "https://docs.microsoft.com/azure/machine-learning/how-to-deploy-managed-online-endpoints /\n",
      "https://docs.microsoft.com/azure/machine-learning/how-to-attach-kubernetes-anywhere \n",
      "For more information on migration, see https://aka.ms/acimoemigration \n",
      "To disable CLI/SDK v1 deprecation warning set AZUREML_LOG_DEPRECATION_WARNING_ENABLED to 'False'\n",
      "  service = Model.deploy(workspace=ws,\n"
     ]
    },
    {
     "name": "stdout",
     "output_type": "stream",
     "text": [
      "Tips: You can try get_logs(): https://aka.ms/debugimage#dockerlog or local deployment: https://aka.ms/debugimage#debug-locally to debug if deployment takes longer than 10 minutes.\n",
      "Running\n",
      "2024-02-16 16:12:32+05:30 Creating Container Registry if not exists.\n",
      "2024-02-16 16:12:36+05:30 Building image..\n",
      "2024-02-16 16:24:32+05:30 Generating deployment configuration.\n",
      "2024-02-16 16:24:33+05:30 Submitting deployment to compute..\n",
      "2024-02-16 16:24:41+05:30 Checking the status of deployment crop-prediction-service2..\n",
      "2024-02-16 16:26:46+05:30 Checking the status of inference endpoint crop-prediction-service2.\n",
      "Failed\n"
     ]
    },
    {
     "name": "stderr",
     "output_type": "stream",
     "text": [
      "Service deployment polling reached non-successful terminal state, current service state: Failed\n",
      "Operation ID: 75b5838c-b0ba-408e-8ff9-63f6c7925f73\n",
      "More information can be found using '.get_logs()'\n",
      "Error:\n",
      "{\n",
      "  \"code\": \"AciDeploymentFailed\",\n",
      "  \"statusCode\": 400,\n",
      "  \"message\": \"Aci Deployment failed with exception: Your container application crashed. This may be caused by errors in your scoring file's init() function.\n",
      "\t1. Please check the logs for your container instance: crop-prediction-service2. From the AML SDK, you can run print(service.get_logs()) if you have service object to fetch the logs.\n",
      "\t2. You can interactively debug your scoring file locally. Please refer to https://docs.microsoft.com/azure/machine-learning/how-to-debug-visual-studio-code#debug-and-troubleshoot-deployments for more information.\n",
      "\t3. You can also try to run image cce9ba1f07fc4362bfedd90d2a896faf.azurecr.io/azureml/azureml_e473e0aa4dc573db41472d379d3290e5 locally. Please refer to https://aka.ms/debugimage#service-launch-fails for more information.\",\n",
      "  \"details\": [\n",
      "    {\n",
      "      \"code\": \"CrashLoopBackOff\",\n",
      "      \"message\": \"Your container application crashed. This may be caused by errors in your scoring file's init() function.\n",
      "\t1. Please check the logs for your container instance: crop-prediction-service2. From the AML SDK, you can run print(service.get_logs()) if you have service object to fetch the logs.\n",
      "\t2. You can interactively debug your scoring file locally. Please refer to https://docs.microsoft.com/azure/machine-learning/how-to-debug-visual-studio-code#debug-and-troubleshoot-deployments for more information.\n",
      "\t3. You can also try to run image cce9ba1f07fc4362bfedd90d2a896faf.azurecr.io/azureml/azureml_e473e0aa4dc573db41472d379d3290e5 locally. Please refer to https://aka.ms/debugimage#service-launch-fails for more information.\"\n",
      "    },\n",
      "    {\n",
      "      \"code\": \"AciDeploymentFailed\",\n",
      "      \"message\": \"Your container application crashed. Please follow the steps to debug:\n",
      "\t1. From the AML SDK, you can run print(service.get_logs()) if you have service object to fetch the logs. Please refer to https://aka.ms/debugimage#dockerlog for more information.\n",
      "\t2. If your container application crashed. This may be caused by errors in your scoring file's init() function. You can try debugging locally first. Please refer to https://aka.ms/debugimage#debug-locally for more information.\n",
      "\t3. You can also interactively debug your scoring file locally. Please refer to https://docs.microsoft.com/azure/machine-learning/how-to-debug-visual-studio-code#debug-and-troubleshoot-deployments for more information.\n",
      "\t4. View the diagnostic events to check status of container, it may help you to debug the issue.\n",
      "\"RestartCount\": 3\n",
      "\"CurrentState\": {\"state\":\"Waiting\",\"startTime\":null,\"exitCode\":null,\"finishTime\":null,\"detailStatus\":\"CrashLoopBackOff: Back-off restarting failed\"}\n",
      "\"PreviousState\": {\"state\":\"Terminated\",\"startTime\":\"2024-02-16T10:59:05.427Z\",\"exitCode\":111,\"finishTime\":\"2024-02-16T10:59:34.015Z\",\"detailStatus\":\"Error\"}\n",
      "\"Events\":\n",
      "{\"count\":1,\"firstTimestamp\":\"2024-02-16T10:54:47Z\",\"lastTimestamp\":\"2024-02-16T10:54:47Z\",\"name\":\"Pulling\",\"message\":\"pulling image \"cce9ba1f07fc4362bfedd90d2a896faf.azurecr.io/azureml/azureml_e473e0aa4dc573db41472d379d3290e5@sha256:2288a1c0cd28642d817307d917d3ad1b0b95d4c10c10ec7bbcdc19226b064eca\"\",\"type\":\"Normal\"}\n",
      "{\"count\":1,\"firstTimestamp\":\"2024-02-16T10:56:01Z\",\"lastTimestamp\":\"2024-02-16T10:56:01Z\",\"name\":\"Pulled\",\"message\":\"Successfully pulled image \"cce9ba1f07fc4362bfedd90d2a896faf.azurecr.io/azureml/azureml_e473e0aa4dc573db41472d379d3290e5@sha256:2288a1c0cd28642d817307d917d3ad1b0b95d4c10c10ec7bbcdc19226b064eca\"\",\"type\":\"Normal\"}\n",
      "{\"count\":4,\"firstTimestamp\":\"2024-02-16T10:56:23Z\",\"lastTimestamp\":\"2024-02-16T10:59:05Z\",\"name\":\"Started\",\"message\":\"Started container\",\"type\":\"Normal\"}\n",
      "{\"count\":4,\"firstTimestamp\":\"2024-02-16T10:56:54Z\",\"lastTimestamp\":\"2024-02-16T10:59:34Z\",\"name\":\"Killing\",\"message\":\"Killing container with id bec327ee3f0e18509d56760bc07baaec787ef1950e832b1f81806b62862d248a.\",\"type\":\"Normal\"}\n",
      "\"\n",
      "    }\n",
      "  ]\n",
      "}\n",
      "\n"
     ]
    },
    {
     "ename": "WebserviceException",
     "evalue": "WebserviceException:\n\tMessage: Service deployment polling reached non-successful terminal state, current service state: Failed\nOperation ID: 75b5838c-b0ba-408e-8ff9-63f6c7925f73\nMore information can be found using '.get_logs()'\nError:\n{\n  \"code\": \"AciDeploymentFailed\",\n  \"statusCode\": 400,\n  \"message\": \"Aci Deployment failed with exception: Your container application crashed. This may be caused by errors in your scoring file's init() function.\n\t1. Please check the logs for your container instance: crop-prediction-service2. From the AML SDK, you can run print(service.get_logs()) if you have service object to fetch the logs.\n\t2. You can interactively debug your scoring file locally. Please refer to https://docs.microsoft.com/azure/machine-learning/how-to-debug-visual-studio-code#debug-and-troubleshoot-deployments for more information.\n\t3. You can also try to run image cce9ba1f07fc4362bfedd90d2a896faf.azurecr.io/azureml/azureml_e473e0aa4dc573db41472d379d3290e5 locally. Please refer to https://aka.ms/debugimage#service-launch-fails for more information.\",\n  \"details\": [\n    {\n      \"code\": \"CrashLoopBackOff\",\n      \"message\": \"Your container application crashed. This may be caused by errors in your scoring file's init() function.\n\t1. Please check the logs for your container instance: crop-prediction-service2. From the AML SDK, you can run print(service.get_logs()) if you have service object to fetch the logs.\n\t2. You can interactively debug your scoring file locally. Please refer to https://docs.microsoft.com/azure/machine-learning/how-to-debug-visual-studio-code#debug-and-troubleshoot-deployments for more information.\n\t3. You can also try to run image cce9ba1f07fc4362bfedd90d2a896faf.azurecr.io/azureml/azureml_e473e0aa4dc573db41472d379d3290e5 locally. Please refer to https://aka.ms/debugimage#service-launch-fails for more information.\"\n    },\n    {\n      \"code\": \"AciDeploymentFailed\",\n      \"message\": \"Your container application crashed. Please follow the steps to debug:\n\t1. From the AML SDK, you can run print(service.get_logs()) if you have service object to fetch the logs. Please refer to https://aka.ms/debugimage#dockerlog for more information.\n\t2. If your container application crashed. This may be caused by errors in your scoring file's init() function. You can try debugging locally first. Please refer to https://aka.ms/debugimage#debug-locally for more information.\n\t3. You can also interactively debug your scoring file locally. Please refer to https://docs.microsoft.com/azure/machine-learning/how-to-debug-visual-studio-code#debug-and-troubleshoot-deployments for more information.\n\t4. View the diagnostic events to check status of container, it may help you to debug the issue.\n\"RestartCount\": 3\n\"CurrentState\": {\"state\":\"Waiting\",\"startTime\":null,\"exitCode\":null,\"finishTime\":null,\"detailStatus\":\"CrashLoopBackOff: Back-off restarting failed\"}\n\"PreviousState\": {\"state\":\"Terminated\",\"startTime\":\"2024-02-16T10:59:05.427Z\",\"exitCode\":111,\"finishTime\":\"2024-02-16T10:59:34.015Z\",\"detailStatus\":\"Error\"}\n\"Events\":\n{\"count\":1,\"firstTimestamp\":\"2024-02-16T10:54:47Z\",\"lastTimestamp\":\"2024-02-16T10:54:47Z\",\"name\":\"Pulling\",\"message\":\"pulling image \"cce9ba1f07fc4362bfedd90d2a896faf.azurecr.io/azureml/azureml_e473e0aa4dc573db41472d379d3290e5@sha256:2288a1c0cd28642d817307d917d3ad1b0b95d4c10c10ec7bbcdc19226b064eca\"\",\"type\":\"Normal\"}\n{\"count\":1,\"firstTimestamp\":\"2024-02-16T10:56:01Z\",\"lastTimestamp\":\"2024-02-16T10:56:01Z\",\"name\":\"Pulled\",\"message\":\"Successfully pulled image \"cce9ba1f07fc4362bfedd90d2a896faf.azurecr.io/azureml/azureml_e473e0aa4dc573db41472d379d3290e5@sha256:2288a1c0cd28642d817307d917d3ad1b0b95d4c10c10ec7bbcdc19226b064eca\"\",\"type\":\"Normal\"}\n{\"count\":4,\"firstTimestamp\":\"2024-02-16T10:56:23Z\",\"lastTimestamp\":\"2024-02-16T10:59:05Z\",\"name\":\"Started\",\"message\":\"Started container\",\"type\":\"Normal\"}\n{\"count\":4,\"firstTimestamp\":\"2024-02-16T10:56:54Z\",\"lastTimestamp\":\"2024-02-16T10:59:34Z\",\"name\":\"Killing\",\"message\":\"Killing container with id bec327ee3f0e18509d56760bc07baaec787ef1950e832b1f81806b62862d248a.\",\"type\":\"Normal\"}\n\"\n    }\n  ]\n}\n\tInnerException None\n\tErrorResponse \n{\n    \"error\": {\n        \"message\": \"Service deployment polling reached non-successful terminal state, current service state: Failed\\nOperation ID: 75b5838c-b0ba-408e-8ff9-63f6c7925f73\\nMore information can be found using '.get_logs()'\\nError:\\n{\\n  \\\"code\\\": \\\"AciDeploymentFailed\\\",\\n  \\\"statusCode\\\": 400,\\n  \\\"message\\\": \\\"Aci Deployment failed with exception: Your container application crashed. This may be caused by errors in your scoring file's init() function.\\n\\t1. Please check the logs for your container instance: crop-prediction-service2. From the AML SDK, you can run print(service.get_logs()) if you have service object to fetch the logs.\\n\\t2. You can interactively debug your scoring file locally. Please refer to https://docs.microsoft.com/azure/machine-learning/how-to-debug-visual-studio-code#debug-and-troubleshoot-deployments for more information.\\n\\t3. You can also try to run image cce9ba1f07fc4362bfedd90d2a896faf.azurecr.io/azureml/azureml_e473e0aa4dc573db41472d379d3290e5 locally. Please refer to https://aka.ms/debugimage#service-launch-fails for more information.\\\",\\n  \\\"details\\\": [\\n    {\\n      \\\"code\\\": \\\"CrashLoopBackOff\\\",\\n      \\\"message\\\": \\\"Your container application crashed. This may be caused by errors in your scoring file's init() function.\\n\\t1. Please check the logs for your container instance: crop-prediction-service2. From the AML SDK, you can run print(service.get_logs()) if you have service object to fetch the logs.\\n\\t2. You can interactively debug your scoring file locally. Please refer to https://docs.microsoft.com/azure/machine-learning/how-to-debug-visual-studio-code#debug-and-troubleshoot-deployments for more information.\\n\\t3. You can also try to run image cce9ba1f07fc4362bfedd90d2a896faf.azurecr.io/azureml/azureml_e473e0aa4dc573db41472d379d3290e5 locally. Please refer to https://aka.ms/debugimage#service-launch-fails for more information.\\\"\\n    },\\n    {\\n      \\\"code\\\": \\\"AciDeploymentFailed\\\",\\n      \\\"message\\\": \\\"Your container application crashed. Please follow the steps to debug:\\n\\t1. From the AML SDK, you can run print(service.get_logs()) if you have service object to fetch the logs. Please refer to https://aka.ms/debugimage#dockerlog for more information.\\n\\t2. If your container application crashed. This may be caused by errors in your scoring file's init() function. You can try debugging locally first. Please refer to https://aka.ms/debugimage#debug-locally for more information.\\n\\t3. You can also interactively debug your scoring file locally. Please refer to https://docs.microsoft.com/azure/machine-learning/how-to-debug-visual-studio-code#debug-and-troubleshoot-deployments for more information.\\n\\t4. View the diagnostic events to check status of container, it may help you to debug the issue.\\n\\\"RestartCount\\\": 3\\n\\\"CurrentState\\\": {\\\"state\\\":\\\"Waiting\\\",\\\"startTime\\\":null,\\\"exitCode\\\":null,\\\"finishTime\\\":null,\\\"detailStatus\\\":\\\"CrashLoopBackOff: Back-off restarting failed\\\"}\\n\\\"PreviousState\\\": {\\\"state\\\":\\\"Terminated\\\",\\\"startTime\\\":\\\"2024-02-16T10:59:05.427Z\\\",\\\"exitCode\\\":111,\\\"finishTime\\\":\\\"2024-02-16T10:59:34.015Z\\\",\\\"detailStatus\\\":\\\"Error\\\"}\\n\\\"Events\\\":\\n{\\\"count\\\":1,\\\"firstTimestamp\\\":\\\"2024-02-16T10:54:47Z\\\",\\\"lastTimestamp\\\":\\\"2024-02-16T10:54:47Z\\\",\\\"name\\\":\\\"Pulling\\\",\\\"message\\\":\\\"pulling image \\\"cce9ba1f07fc4362bfedd90d2a896faf.azurecr.io/azureml/azureml_e473e0aa4dc573db41472d379d3290e5@sha256:2288a1c0cd28642d817307d917d3ad1b0b95d4c10c10ec7bbcdc19226b064eca\\\"\\\",\\\"type\\\":\\\"Normal\\\"}\\n{\\\"count\\\":1,\\\"firstTimestamp\\\":\\\"2024-02-16T10:56:01Z\\\",\\\"lastTimestamp\\\":\\\"2024-02-16T10:56:01Z\\\",\\\"name\\\":\\\"Pulled\\\",\\\"message\\\":\\\"Successfully pulled image \\\"cce9ba1f07fc4362bfedd90d2a896faf.azurecr.io/azureml/azureml_e473e0aa4dc573db41472d379d3290e5@sha256:2288a1c0cd28642d817307d917d3ad1b0b95d4c10c10ec7bbcdc19226b064eca\\\"\\\",\\\"type\\\":\\\"Normal\\\"}\\n{\\\"count\\\":4,\\\"firstTimestamp\\\":\\\"2024-02-16T10:56:23Z\\\",\\\"lastTimestamp\\\":\\\"2024-02-16T10:59:05Z\\\",\\\"name\\\":\\\"Started\\\",\\\"message\\\":\\\"Started container\\\",\\\"type\\\":\\\"Normal\\\"}\\n{\\\"count\\\":4,\\\"firstTimestamp\\\":\\\"2024-02-16T10:56:54Z\\\",\\\"lastTimestamp\\\":\\\"2024-02-16T10:59:34Z\\\",\\\"name\\\":\\\"Killing\\\",\\\"message\\\":\\\"Killing container with id bec327ee3f0e18509d56760bc07baaec787ef1950e832b1f81806b62862d248a.\\\",\\\"type\\\":\\\"Normal\\\"}\\n\\\"\\n    }\\n  ]\\n}\"\n    }\n}",
     "output_type": "error",
     "traceback": [
      "\u001b[1;31m---------------------------------------------------------------------------\u001b[0m",
      "\u001b[1;31mWebserviceException\u001b[0m                       Traceback (most recent call last)",
      "Input \u001b[1;32mIn [37]\u001b[0m, in \u001b[0;36m<cell line: 6>\u001b[1;34m()\u001b[0m\n\u001b[0;32m      1\u001b[0m service \u001b[38;5;241m=\u001b[39m Model\u001b[38;5;241m.\u001b[39mdeploy(workspace\u001b[38;5;241m=\u001b[39mws,\n\u001b[0;32m      2\u001b[0m                        name\u001b[38;5;241m=\u001b[39m\u001b[38;5;124m'\u001b[39m\u001b[38;5;124mcrop-prediction-service2\u001b[39m\u001b[38;5;124m'\u001b[39m,\n\u001b[0;32m      3\u001b[0m                        models\u001b[38;5;241m=\u001b[39m[registered_model],\n\u001b[0;32m      4\u001b[0m                        inference_config\u001b[38;5;241m=\u001b[39minference_config,\n\u001b[0;32m      5\u001b[0m                        deployment_config\u001b[38;5;241m=\u001b[39maci_config)\n\u001b[1;32m----> 6\u001b[0m \u001b[43mservice\u001b[49m\u001b[38;5;241;43m.\u001b[39;49m\u001b[43mwait_for_deployment\u001b[49m\u001b[43m(\u001b[49m\u001b[43mshow_output\u001b[49m\u001b[38;5;241;43m=\u001b[39;49m\u001b[38;5;28;43;01mTrue\u001b[39;49;00m\u001b[43m)\u001b[49m\n",
      "File \u001b[1;32m~\\anaconda3\\lib\\site-packages\\azureml\\core\\webservice\\webservice.py:914\u001b[0m, in \u001b[0;36mWebservice.wait_for_deployment\u001b[1;34m(self, show_output, timeout_sec)\u001b[0m\n\u001b[0;32m    911\u001b[0m         \u001b[38;5;28;01mif\u001b[39;00m \u001b[38;5;129;01mnot\u001b[39;00m logs_response:\n\u001b[0;32m    912\u001b[0m             logs_response \u001b[38;5;241m=\u001b[39m \u001b[38;5;124m'\u001b[39m\u001b[38;5;124mCurrent sub-operation type not known, more logs unavailable.\u001b[39m\u001b[38;5;124m'\u001b[39m\n\u001b[1;32m--> 914\u001b[0m         \u001b[38;5;28;01mraise\u001b[39;00m WebserviceException(\u001b[38;5;124m'\u001b[39m\u001b[38;5;124mService deployment polling reached non-successful terminal state, current \u001b[39m\u001b[38;5;124m'\u001b[39m\n\u001b[0;32m    915\u001b[0m                                   \u001b[38;5;124m'\u001b[39m\u001b[38;5;124mservice state: \u001b[39m\u001b[38;5;132;01m{}\u001b[39;00m\u001b[38;5;130;01m\\n\u001b[39;00m\u001b[38;5;124m'\u001b[39m\n\u001b[0;32m    916\u001b[0m                                   \u001b[38;5;124m'\u001b[39m\u001b[38;5;124mOperation ID: \u001b[39m\u001b[38;5;132;01m{}\u001b[39;00m\u001b[38;5;130;01m\\n\u001b[39;00m\u001b[38;5;124m'\u001b[39m\n\u001b[0;32m    917\u001b[0m                                   \u001b[38;5;124m'\u001b[39m\u001b[38;5;132;01m{}\u001b[39;00m\u001b[38;5;130;01m\\n\u001b[39;00m\u001b[38;5;124m'\u001b[39m\n\u001b[0;32m    918\u001b[0m                                   \u001b[38;5;124m'\u001b[39m\u001b[38;5;124mError:\u001b[39m\u001b[38;5;130;01m\\n\u001b[39;00m\u001b[38;5;124m'\u001b[39m\n\u001b[0;32m    919\u001b[0m                                   \u001b[38;5;124m'\u001b[39m\u001b[38;5;132;01m{}\u001b[39;00m\u001b[38;5;124m'\u001b[39m\u001b[38;5;241m.\u001b[39mformat(\u001b[38;5;28mself\u001b[39m\u001b[38;5;241m.\u001b[39mstate, \u001b[38;5;28mself\u001b[39m\u001b[38;5;241m.\u001b[39m_operation_endpoint\u001b[38;5;241m.\u001b[39msplit(\u001b[38;5;124m'\u001b[39m\u001b[38;5;124m/\u001b[39m\u001b[38;5;124m'\u001b[39m)[\u001b[38;5;241m-\u001b[39m\u001b[38;5;241m1\u001b[39m],\n\u001b[0;32m    920\u001b[0m                                               logs_response, format_error_response), logger\u001b[38;5;241m=\u001b[39mmodule_logger)\n\u001b[0;32m    921\u001b[0m     \u001b[38;5;28mprint\u001b[39m(\u001b[38;5;124m'\u001b[39m\u001b[38;5;132;01m{}\u001b[39;00m\u001b[38;5;124m service creation operation finished, operation \u001b[39m\u001b[38;5;124m\"\u001b[39m\u001b[38;5;132;01m{}\u001b[39;00m\u001b[38;5;124m\"\u001b[39m\u001b[38;5;124m'\u001b[39m\u001b[38;5;241m.\u001b[39mformat(\u001b[38;5;28mself\u001b[39m\u001b[38;5;241m.\u001b[39m_webservice_type,\n\u001b[0;32m    922\u001b[0m                                                                           operation_state))\n\u001b[0;32m    923\u001b[0m \u001b[38;5;28;01mexcept\u001b[39;00m WebserviceException \u001b[38;5;28;01mas\u001b[39;00m e:\n",
      "\u001b[1;31mWebserviceException\u001b[0m: WebserviceException:\n\tMessage: Service deployment polling reached non-successful terminal state, current service state: Failed\nOperation ID: 75b5838c-b0ba-408e-8ff9-63f6c7925f73\nMore information can be found using '.get_logs()'\nError:\n{\n  \"code\": \"AciDeploymentFailed\",\n  \"statusCode\": 400,\n  \"message\": \"Aci Deployment failed with exception: Your container application crashed. This may be caused by errors in your scoring file's init() function.\n\t1. Please check the logs for your container instance: crop-prediction-service2. From the AML SDK, you can run print(service.get_logs()) if you have service object to fetch the logs.\n\t2. You can interactively debug your scoring file locally. Please refer to https://docs.microsoft.com/azure/machine-learning/how-to-debug-visual-studio-code#debug-and-troubleshoot-deployments for more information.\n\t3. You can also try to run image cce9ba1f07fc4362bfedd90d2a896faf.azurecr.io/azureml/azureml_e473e0aa4dc573db41472d379d3290e5 locally. Please refer to https://aka.ms/debugimage#service-launch-fails for more information.\",\n  \"details\": [\n    {\n      \"code\": \"CrashLoopBackOff\",\n      \"message\": \"Your container application crashed. This may be caused by errors in your scoring file's init() function.\n\t1. Please check the logs for your container instance: crop-prediction-service2. From the AML SDK, you can run print(service.get_logs()) if you have service object to fetch the logs.\n\t2. You can interactively debug your scoring file locally. Please refer to https://docs.microsoft.com/azure/machine-learning/how-to-debug-visual-studio-code#debug-and-troubleshoot-deployments for more information.\n\t3. You can also try to run image cce9ba1f07fc4362bfedd90d2a896faf.azurecr.io/azureml/azureml_e473e0aa4dc573db41472d379d3290e5 locally. Please refer to https://aka.ms/debugimage#service-launch-fails for more information.\"\n    },\n    {\n      \"code\": \"AciDeploymentFailed\",\n      \"message\": \"Your container application crashed. Please follow the steps to debug:\n\t1. From the AML SDK, you can run print(service.get_logs()) if you have service object to fetch the logs. Please refer to https://aka.ms/debugimage#dockerlog for more information.\n\t2. If your container application crashed. This may be caused by errors in your scoring file's init() function. You can try debugging locally first. Please refer to https://aka.ms/debugimage#debug-locally for more information.\n\t3. You can also interactively debug your scoring file locally. Please refer to https://docs.microsoft.com/azure/machine-learning/how-to-debug-visual-studio-code#debug-and-troubleshoot-deployments for more information.\n\t4. View the diagnostic events to check status of container, it may help you to debug the issue.\n\"RestartCount\": 3\n\"CurrentState\": {\"state\":\"Waiting\",\"startTime\":null,\"exitCode\":null,\"finishTime\":null,\"detailStatus\":\"CrashLoopBackOff: Back-off restarting failed\"}\n\"PreviousState\": {\"state\":\"Terminated\",\"startTime\":\"2024-02-16T10:59:05.427Z\",\"exitCode\":111,\"finishTime\":\"2024-02-16T10:59:34.015Z\",\"detailStatus\":\"Error\"}\n\"Events\":\n{\"count\":1,\"firstTimestamp\":\"2024-02-16T10:54:47Z\",\"lastTimestamp\":\"2024-02-16T10:54:47Z\",\"name\":\"Pulling\",\"message\":\"pulling image \"cce9ba1f07fc4362bfedd90d2a896faf.azurecr.io/azureml/azureml_e473e0aa4dc573db41472d379d3290e5@sha256:2288a1c0cd28642d817307d917d3ad1b0b95d4c10c10ec7bbcdc19226b064eca\"\",\"type\":\"Normal\"}\n{\"count\":1,\"firstTimestamp\":\"2024-02-16T10:56:01Z\",\"lastTimestamp\":\"2024-02-16T10:56:01Z\",\"name\":\"Pulled\",\"message\":\"Successfully pulled image \"cce9ba1f07fc4362bfedd90d2a896faf.azurecr.io/azureml/azureml_e473e0aa4dc573db41472d379d3290e5@sha256:2288a1c0cd28642d817307d917d3ad1b0b95d4c10c10ec7bbcdc19226b064eca\"\",\"type\":\"Normal\"}\n{\"count\":4,\"firstTimestamp\":\"2024-02-16T10:56:23Z\",\"lastTimestamp\":\"2024-02-16T10:59:05Z\",\"name\":\"Started\",\"message\":\"Started container\",\"type\":\"Normal\"}\n{\"count\":4,\"firstTimestamp\":\"2024-02-16T10:56:54Z\",\"lastTimestamp\":\"2024-02-16T10:59:34Z\",\"name\":\"Killing\",\"message\":\"Killing container with id bec327ee3f0e18509d56760bc07baaec787ef1950e832b1f81806b62862d248a.\",\"type\":\"Normal\"}\n\"\n    }\n  ]\n}\n\tInnerException None\n\tErrorResponse \n{\n    \"error\": {\n        \"message\": \"Service deployment polling reached non-successful terminal state, current service state: Failed\\nOperation ID: 75b5838c-b0ba-408e-8ff9-63f6c7925f73\\nMore information can be found using '.get_logs()'\\nError:\\n{\\n  \\\"code\\\": \\\"AciDeploymentFailed\\\",\\n  \\\"statusCode\\\": 400,\\n  \\\"message\\\": \\\"Aci Deployment failed with exception: Your container application crashed. This may be caused by errors in your scoring file's init() function.\\n\\t1. Please check the logs for your container instance: crop-prediction-service2. From the AML SDK, you can run print(service.get_logs()) if you have service object to fetch the logs.\\n\\t2. You can interactively debug your scoring file locally. Please refer to https://docs.microsoft.com/azure/machine-learning/how-to-debug-visual-studio-code#debug-and-troubleshoot-deployments for more information.\\n\\t3. You can also try to run image cce9ba1f07fc4362bfedd90d2a896faf.azurecr.io/azureml/azureml_e473e0aa4dc573db41472d379d3290e5 locally. Please refer to https://aka.ms/debugimage#service-launch-fails for more information.\\\",\\n  \\\"details\\\": [\\n    {\\n      \\\"code\\\": \\\"CrashLoopBackOff\\\",\\n      \\\"message\\\": \\\"Your container application crashed. This may be caused by errors in your scoring file's init() function.\\n\\t1. Please check the logs for your container instance: crop-prediction-service2. From the AML SDK, you can run print(service.get_logs()) if you have service object to fetch the logs.\\n\\t2. You can interactively debug your scoring file locally. Please refer to https://docs.microsoft.com/azure/machine-learning/how-to-debug-visual-studio-code#debug-and-troubleshoot-deployments for more information.\\n\\t3. You can also try to run image cce9ba1f07fc4362bfedd90d2a896faf.azurecr.io/azureml/azureml_e473e0aa4dc573db41472d379d3290e5 locally. Please refer to https://aka.ms/debugimage#service-launch-fails for more information.\\\"\\n    },\\n    {\\n      \\\"code\\\": \\\"AciDeploymentFailed\\\",\\n      \\\"message\\\": \\\"Your container application crashed. Please follow the steps to debug:\\n\\t1. From the AML SDK, you can run print(service.get_logs()) if you have service object to fetch the logs. Please refer to https://aka.ms/debugimage#dockerlog for more information.\\n\\t2. If your container application crashed. This may be caused by errors in your scoring file's init() function. You can try debugging locally first. Please refer to https://aka.ms/debugimage#debug-locally for more information.\\n\\t3. You can also interactively debug your scoring file locally. Please refer to https://docs.microsoft.com/azure/machine-learning/how-to-debug-visual-studio-code#debug-and-troubleshoot-deployments for more information.\\n\\t4. View the diagnostic events to check status of container, it may help you to debug the issue.\\n\\\"RestartCount\\\": 3\\n\\\"CurrentState\\\": {\\\"state\\\":\\\"Waiting\\\",\\\"startTime\\\":null,\\\"exitCode\\\":null,\\\"finishTime\\\":null,\\\"detailStatus\\\":\\\"CrashLoopBackOff: Back-off restarting failed\\\"}\\n\\\"PreviousState\\\": {\\\"state\\\":\\\"Terminated\\\",\\\"startTime\\\":\\\"2024-02-16T10:59:05.427Z\\\",\\\"exitCode\\\":111,\\\"finishTime\\\":\\\"2024-02-16T10:59:34.015Z\\\",\\\"detailStatus\\\":\\\"Error\\\"}\\n\\\"Events\\\":\\n{\\\"count\\\":1,\\\"firstTimestamp\\\":\\\"2024-02-16T10:54:47Z\\\",\\\"lastTimestamp\\\":\\\"2024-02-16T10:54:47Z\\\",\\\"name\\\":\\\"Pulling\\\",\\\"message\\\":\\\"pulling image \\\"cce9ba1f07fc4362bfedd90d2a896faf.azurecr.io/azureml/azureml_e473e0aa4dc573db41472d379d3290e5@sha256:2288a1c0cd28642d817307d917d3ad1b0b95d4c10c10ec7bbcdc19226b064eca\\\"\\\",\\\"type\\\":\\\"Normal\\\"}\\n{\\\"count\\\":1,\\\"firstTimestamp\\\":\\\"2024-02-16T10:56:01Z\\\",\\\"lastTimestamp\\\":\\\"2024-02-16T10:56:01Z\\\",\\\"name\\\":\\\"Pulled\\\",\\\"message\\\":\\\"Successfully pulled image \\\"cce9ba1f07fc4362bfedd90d2a896faf.azurecr.io/azureml/azureml_e473e0aa4dc573db41472d379d3290e5@sha256:2288a1c0cd28642d817307d917d3ad1b0b95d4c10c10ec7bbcdc19226b064eca\\\"\\\",\\\"type\\\":\\\"Normal\\\"}\\n{\\\"count\\\":4,\\\"firstTimestamp\\\":\\\"2024-02-16T10:56:23Z\\\",\\\"lastTimestamp\\\":\\\"2024-02-16T10:59:05Z\\\",\\\"name\\\":\\\"Started\\\",\\\"message\\\":\\\"Started container\\\",\\\"type\\\":\\\"Normal\\\"}\\n{\\\"count\\\":4,\\\"firstTimestamp\\\":\\\"2024-02-16T10:56:54Z\\\",\\\"lastTimestamp\\\":\\\"2024-02-16T10:59:34Z\\\",\\\"name\\\":\\\"Killing\\\",\\\"message\\\":\\\"Killing container with id bec327ee3f0e18509d56760bc07baaec787ef1950e832b1f81806b62862d248a.\\\",\\\"type\\\":\\\"Normal\\\"}\\n\\\"\\n    }\\n  ]\\n}\"\n    }\n}"
     ]
    }
   ],
   "source": [
    "service = Model.deploy(workspace=ws,\n",
    "                       name='crop-prediction-service2',\n",
    "                       models=[registered_model],\n",
    "                       inference_config=inference_config,\n",
    "                       deployment_config=aci_config)\n",
    "service.wait_for_deployment(show_output=True)"
   ]
  },
  {
   "cell_type": "code",
   "execution_count": null,
   "id": "1af8b377",
   "metadata": {},
   "outputs": [],
   "source": [
    "# Load your workspace\n",
    "ws = Workspace.from_config()\n",
    "\n",
    "# Retrieve your deployed service\n",
    "service = AciWebservice(ws, \"crop-prediction-service\")\n",
    "\n",
    "# Fetch logs\n",
    "print(service.get_logs())"
   ]
  },
  {
   "cell_type": "code",
   "execution_count": null,
   "id": "720be921",
   "metadata": {},
   "outputs": [],
   "source": [
    "scoring_uri = service.scoring_uri"
   ]
  },
  {
   "cell_type": "code",
   "execution_count": null,
   "id": "afa2d1a7",
   "metadata": {},
   "outputs": [],
   "source": [
    "scoring_uri"
   ]
  }
 ],
 "metadata": {
  "kernelspec": {
   "display_name": "Python 3 (ipykernel)",
   "language": "python",
   "name": "python3"
  },
  "language_info": {
   "codemirror_mode": {
    "name": "ipython",
    "version": 3
   },
   "file_extension": ".py",
   "mimetype": "text/x-python",
   "name": "python",
   "nbconvert_exporter": "python",
   "pygments_lexer": "ipython3",
   "version": "3.9.12"
  }
 },
 "nbformat": 4,
 "nbformat_minor": 5
}
